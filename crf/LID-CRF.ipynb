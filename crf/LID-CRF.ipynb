{
 "cells": [
  {
   "cell_type": "code",
   "execution_count": 1,
   "metadata": {
    "pycharm": {
     "name": "#%%\n"
    }
   },
   "outputs": [],
   "source": [
    "import sklearn_crfsuite\n",
    "import pickle\n",
    "import os\n",
    "import seaborn as sns\n",
    "import matplotlib.pyplot as plt\n",
    "import numpy as np\n",
    "import pandas as pd\n",
    "\n",
    "from sklearn_crfsuite import metrics\n",
    "from sklearn.metrics import confusion_matrix, plot_confusion_matrix, classification_report\n",
    "from sklearn.model_selection import train_test_split\n",
    "from helper.dataset_reader import read_tsv\n",
    "from helper.features import feature_extraction_basic, feature_extraction_added\n",
    "\n",
    "# import warnings filter\n",
    "from warnings import simplefilter\n",
    "\n",
    "# ignore all future warnings\n",
    "simplefilter(action='ignore', category=FutureWarning)"
   ]
  },
  {
   "cell_type": "code",
   "execution_count": 2,
   "outputs": [],
   "source": [
    "data = read_tsv('../raw dataset/all-tagged-280322.tsv')"
   ],
   "metadata": {
    "collapsed": false,
    "pycharm": {
     "name": "#%%\n"
    }
   }
  },
  {
   "cell_type": "code",
   "execution_count": 3,
   "outputs": [],
   "source": [
    "X = []\n",
    "y = []\n",
    "\n",
    "for tokens, tags in data[0]:\n",
    "    X.append(tokens)\n",
    "    y.append(tags)"
   ],
   "metadata": {
    "collapsed": false,
    "pycharm": {
     "name": "#%%\n"
    }
   }
  },
  {
   "cell_type": "code",
   "execution_count": 7,
   "outputs": [],
   "source": [
    "X_train_, X_test_, y_train, y_test = train_test_split(X, y, test_size=0.40, random_state=0)"
   ],
   "metadata": {
    "collapsed": false,
    "pycharm": {
     "name": "#%%\n"
    }
   }
  },
  {
   "cell_type": "code",
   "execution_count": 8,
   "outputs": [],
   "source": [
    "crf = sklearn_crfsuite.CRF(\n",
    "    algorithm='lbfgs',  # for gradient descent for optimization and getting model parameters\n",
    "    c1=0.1, # Coefficient for Lasso (L1) regularization\n",
    "    c2=0.1, # Coefficient for Ridge (L2) regularization\n",
    "    max_iterations=100, # The maximum number of iterations for optimization algorithms, iteration for the gradient descent optimization\n",
    "    all_possible_transitions=True   # Specify whether CRFsuite generates transition features that do not even occur in the training data\n",
    ")"
   ],
   "metadata": {
    "collapsed": false,
    "pycharm": {
     "name": "#%%\n"
    }
   }
  },
  {
   "cell_type": "code",
   "execution_count": 9,
   "outputs": [],
   "source": [
    "X_train = []\n",
    "for tokens in X_train_:\n",
    "    X_train.append(feature_extraction_basic(tokens, 5))\n",
    "\n",
    "try:\n",
    "    crf.fit(X_train, y_train)\n",
    "except AttributeError:\n",
    "    pass"
   ],
   "metadata": {
    "collapsed": false,
    "pycharm": {
     "name": "#%%\n"
    }
   }
  },
  {
   "cell_type": "code",
   "execution_count": 10,
   "outputs": [],
   "source": [
    "labels = ['ID', 'JV', 'EN', 'NE', 'O', 'MIX-ID-EN', 'MIX-ID-JV', 'MIX-JV-EN']"
   ],
   "metadata": {
    "collapsed": false,
    "pycharm": {
     "name": "#%%\n"
    }
   }
  },
  {
   "cell_type": "code",
   "execution_count": 11,
   "outputs": [
    {
     "name": "stdout",
     "output_type": "stream",
     "text": [
      "Testing Data Performance\n",
      "              precision    recall  f1-score   support\n",
      "\n",
      "          ID       0.87      0.97      0.91     15356\n",
      "          JV       0.83      0.80      0.82      3597\n",
      "          EN       0.93      0.58      0.71      1947\n",
      "          NE       0.90      0.37      0.53       998\n",
      "           O       0.96      0.94      0.95      5928\n",
      "   MIX-ID-EN       0.98      0.82      0.89       839\n",
      "   MIX-ID-JV       0.99      0.80      0.88       254\n",
      "   MIX-JV-EN       0.97      0.80      0.87       212\n",
      "\n",
      "    accuracy                           0.89     29131\n",
      "   macro avg       0.93      0.76      0.82     29131\n",
      "weighted avg       0.89      0.89      0.88     29131\n",
      "\n"
     ]
    }
   ],
   "source": [
    "X_test = []\n",
    "for tokens in X_test_:\n",
    "    X_test.append(feature_extraction_basic(tokens, 5))\n",
    "\n",
    "y_pred = crf.predict(X_test)\n",
    "print('Testing Data Performance')\n",
    "print(metrics.flat_classification_report(y_test, y_pred, labels=labels))"
   ],
   "metadata": {
    "collapsed": false,
    "pycharm": {
     "name": "#%%\n"
    }
   }
  }
 ],
 "metadata": {
  "interpreter": {
   "hash": "949777d72b0d2535278d3dc13498b2535136f6dfe0678499012e853ee9abcab1"
  },
  "kernelspec": {
   "display_name": "Python 3.9.6 64-bit",
   "language": "python",
   "name": "python3"
  },
  "language_info": {
   "codemirror_mode": {
    "name": "ipython",
    "version": 3
   },
   "file_extension": ".py",
   "mimetype": "text/x-python",
   "name": "python",
   "nbconvert_exporter": "python",
   "pygments_lexer": "ipython3",
   "version": "3.9.6"
  },
  "orig_nbformat": 4
 },
 "nbformat": 4,
 "nbformat_minor": 2
}