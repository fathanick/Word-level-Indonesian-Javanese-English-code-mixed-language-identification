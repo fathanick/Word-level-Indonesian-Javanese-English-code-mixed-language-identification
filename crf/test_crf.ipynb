{
 "cells": [
  {
   "cell_type": "code",
   "execution_count": 2,
   "metadata": {},
   "outputs": [],
   "source": [
    "import pickle\n",
    "from helper.splitter import sentence_splitter\n",
    "from crf.lang_id_crf import *"
   ]
  },
  {
   "cell_type": "markdown",
   "metadata": {},
   "source": [
    "### Pipeline\n",
    "1. Write text as input\n",
    "2. Tokenize text\n",
    "3. Extract features from text\n",
    "4. Use CRF model to predict on the features\n",
    "5. Combinne the tokens with the corresponding tags and show the results"
   ]
  },
  {
   "cell_type": "code",
   "execution_count": 11,
   "outputs": [],
   "source": [
    "def lang_prediction(model, tags):\n",
    "    langid = LanguageIdentifier()\n",
    "\n",
    "    txt = input('Enter tweet: ')\n",
    "    tokens = sentence_splitter(txt)\n",
    "    X = []\n",
    "    for token in tokens:\n",
    "        X.append(langid.feature_extraction(tokens))\n",
    "\n",
    "    tag_prediction = model.predict(X)\n",
    "    doc_labels = tag_prediction[0]\n",
    "    token_tag = [(token, tag) for token, tag in zip(tokens, doc_labels)]\n",
    "    for t in token_tag:\n",
    "        print(t[0]+' '+t[1])"
   ],
   "metadata": {
    "collapsed": false,
    "pycharm": {
     "name": "#%%\n"
    }
   }
  },
  {
   "cell_type": "code",
   "execution_count": 21,
   "metadata": {},
   "outputs": [
    {
     "name": "stdout",
     "output_type": "stream",
     "text": [
      "\" O\n",
      "oalah JV\n",
      "yowes JV\n",
      "\"... O\n",
      "sumpah ID\n",
      "ngakak ID\n",
      "wwkwk ID\n",
      "ini ID\n",
      "baru ID\n",
      "konten ID\n",
      "prank EN\n",
      "yg ID\n",
      "bener ID\n",
      ", O\n",
      "ga ID\n",
      "kayak ID\n",
      "yg ID\n",
      "lain ID\n",
      "prank EN\n",
      "bikin ID\n",
      "nangis ID\n",
      ", O\n",
      "jantungan ID\n",
      ", O\n",
      "dll ID\n",
      "sukses ID\n",
      "Londok ID\n",
      "kampung ID\n",
      ", O\n",
      "moga ID\n",
      "komen ID\n",
      "ku ID\n",
      "dibaca ID\n",
      ", O\n",
      "I EN\n",
      "hope EN\n",
      "londokkampung EN\n",
      "would EN\n",
      "come EN\n",
      "and EN\n",
      "make EN\n",
      "a EN\n",
      "prank EN\n",
      "video EN\n",
      "like EN\n",
      "this EN\n",
      "in EN\n",
      "Mataram EN\n",
      ". O\n",
      "Lombok ID\n",
      "' O\n",
      "cause ID\n",
      "im EN\n",
      "one EN\n",
      "of EN\n",
      "your EN\n",
      "biggest EN\n",
      "fans EN\n",
      "from EN\n",
      "Mataram EN\n",
      ", O\n",
      "Lombok ID\n",
      ". O\n"
     ]
    }
   ],
   "source": [
    "# Prediction with 8 tags\n",
    "model1 = pickle.load(open('../model/mod_090422.pkl', 'rb'))\n",
    "tags1 = ['ID', 'JV', 'EN', 'NE', 'O', 'MIX-ID-EN', 'MIX-ID-JV', 'MIX-JV-EN']\n",
    "\n",
    "lang_prediction(model1, tags1)"
   ]
  },
  {
   "cell_type": "code",
   "execution_count": 22,
   "outputs": [
    {
     "name": "stdout",
     "output_type": "stream",
     "text": [
      "\" O\n",
      "oalah JV\n",
      "yowes JV\n",
      "\"... O\n",
      "sumpah ID\n",
      "ngakak ID\n",
      "wwkwk ID\n",
      "ini ID\n",
      "baru ID\n",
      "konten ID\n",
      "prank EN\n",
      "yg ID\n",
      "bener ID\n",
      ", O\n",
      "ga ID\n",
      "kayak ID\n",
      "yg ID\n",
      "lain ID\n",
      "prank EN\n",
      "bikin ID\n",
      "nangis ID\n",
      ", O\n",
      "jantungan ID\n",
      ", O\n",
      "dll ID\n",
      "sukses ID\n",
      "Londok ID\n",
      "kampung ID\n",
      ", O\n",
      "moga ID\n",
      "komen ID\n",
      "ku ID\n",
      "dibaca ID\n",
      ", O\n",
      "I EN\n",
      "hope EN\n",
      "londokkampung EN\n",
      "would EN\n",
      "come EN\n",
      "and EN\n",
      "make EN\n",
      "a EN\n",
      "prank EN\n",
      "video EN\n",
      "like EN\n",
      "this EN\n",
      "in EN\n",
      "Mataram EN\n",
      ". O\n",
      "Lombok O\n",
      "' O\n",
      "cause ID\n",
      "im EN\n",
      "one EN\n",
      "of EN\n",
      "your EN\n",
      "biggest EN\n",
      "fans EN\n",
      "from EN\n",
      "Mataram EN\n",
      ", O\n",
      "Lombok O\n",
      ". O\n"
     ]
    }
   ],
   "source": [
    "# Prediction with 7 tags\n",
    "\n",
    "model2 = pickle.load(open('../model/mod_090422_no_ne.pkl', 'rb'))\n",
    "tags2 = ['ID', 'JV', 'EN', 'O', 'MIX-ID-EN', 'MIX-ID-JV', 'MIX-JV-EN']\n",
    "\n",
    "lang_prediction(model2, tags2)"
   ],
   "metadata": {
    "collapsed": false,
    "pycharm": {
     "name": "#%%\n"
    }
   }
  },
  {
   "cell_type": "code",
   "execution_count": null,
   "outputs": [],
   "source": [],
   "metadata": {
    "collapsed": false,
    "pycharm": {
     "name": "#%%\n"
    }
   }
  }
 ],
 "metadata": {
  "interpreter": {
   "hash": "949777d72b0d2535278d3dc13498b2535136f6dfe0678499012e853ee9abcab1"
  },
  "kernelspec": {
   "display_name": "Python 3.9.6 64-bit",
   "language": "python",
   "name": "python3"
  },
  "language_info": {
   "codemirror_mode": {
    "name": "ipython",
    "version": 3
   },
   "file_extension": ".py",
   "mimetype": "text/x-python",
   "name": "python",
   "nbconvert_exporter": "python",
   "pygments_lexer": "ipython3",
   "version": "3.9.6"
  },
  "orig_nbformat": 4
 },
 "nbformat": 4,
 "nbformat_minor": 2
}