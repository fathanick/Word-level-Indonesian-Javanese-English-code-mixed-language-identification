{
 "cells": [
  {
   "cell_type": "code",
   "execution_count": 1,
   "metadata": {},
   "outputs": [],
   "source": [
    "# -*- coding: utf-8 -*-\n",
    "from helper.splitter import sentence_splitter\n",
    "from comlid_crf import *"
   ]
  },
  {
   "cell_type": "markdown",
   "source": [
    "### Pipeline\n",
    "1. Write text as input\n",
    "2. Tokenize text\n",
    "3. Extract features from text\n",
    "4. Use CRF model to predict on the features\n",
    "5. Combine the tokens with the corresponding tags and show the results"
   ],
   "metadata": {
    "collapsed": false
   }
  },
  {
   "cell_type": "code",
   "execution_count": 2,
   "outputs": [],
   "source": [
    "def lang_prediction(txt_data, trained_model):\n",
    "    lid = LanguageIdentifier()\n",
    "\n",
    "    tokens = sentence_splitter(txt_data)\n",
    "    X = [lid.feature_extraction(tokens)]\n",
    "\n",
    "    tag_prediction = trained_model.predict(X)\n",
    "    doc_labels = tag_prediction[0]\n",
    "    token_tag = [(token, tag) for token, tag in zip(tokens, doc_labels)]\n",
    "    for t in token_tag:\n",
    "        print(t[0]+' '+t[1])"
   ],
   "metadata": {
    "collapsed": false,
    "pycharm": {
     "name": "#%%\n"
    }
   }
  },
  {
   "cell_type": "code",
   "execution_count": 7,
   "outputs": [
    {
     "name": "stdout",
     "output_type": "stream",
     "text": [
      "Udane JV\n",
      "koyo JV\n",
      "badai ID\n",
      "... O\n",
      "🥲 O\n"
     ]
    }
   ],
   "source": [
    "txt_data = \"Udane koyo badai... 🥲\"\n",
    "model = pickle.load(open('../model/model_merge_190422.pkl','rb'))\n",
    "lang_prediction(txt_data, model)"
   ],
   "metadata": {
    "collapsed": false,
    "pycharm": {
     "name": "#%%\n"
    }
   }
  },
  {
   "cell_type": "code",
   "execution_count": null,
   "outputs": [],
   "source": [],
   "metadata": {
    "collapsed": false,
    "pycharm": {
     "name": "#%%\n"
    }
   }
  }
 ],
 "metadata": {
  "interpreter": {
   "hash": "949777d72b0d2535278d3dc13498b2535136f6dfe0678499012e853ee9abcab1"
  },
  "kernelspec": {
   "display_name": "Python 3.9.6 64-bit",
   "language": "python",
   "name": "python3"
  },
  "language_info": {
   "codemirror_mode": {
    "name": "ipython",
    "version": 3
   },
   "file_extension": ".py",
   "mimetype": "text/x-python",
   "name": "python",
   "nbconvert_exporter": "python",
   "pygments_lexer": "ipython3",
   "version": "3.9.6"
  },
  "orig_nbformat": 4
 },
 "nbformat": 4,
 "nbformat_minor": 2
}