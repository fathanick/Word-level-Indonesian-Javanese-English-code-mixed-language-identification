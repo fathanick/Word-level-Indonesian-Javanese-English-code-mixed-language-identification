{
 "cells": [
  {
   "cell_type": "code",
   "execution_count": 24,
   "metadata": {
    "collapsed": true
   },
   "outputs": [],
   "source": [
    "import pickle\n",
    "import pandas as pd\n",
    "from helper.splitter import sentence_splitter\n",
    "from crf.lang_id_crf import *"
   ]
  },
  {
   "cell_type": "code",
   "execution_count": 25,
   "outputs": [],
   "source": [
    "langid = LanguageIdentifier()"
   ],
   "metadata": {
    "collapsed": false,
    "pycharm": {
     "name": "#%%\n"
    }
   }
  },
  {
   "cell_type": "code",
   "execution_count": 26,
   "outputs": [],
   "source": [
    "model = pickle.load(open('../model/crf_model.pkl', 'rb'))"
   ],
   "metadata": {
    "collapsed": false,
    "pycharm": {
     "name": "#%%\n"
    }
   }
  },
  {
   "cell_type": "code",
   "execution_count": 27,
   "outputs": [],
   "source": [
    "dataset = pd.read_excel('../raw dataset/data-150522.xlsx')"
   ],
   "metadata": {
    "collapsed": false,
    "pycharm": {
     "name": "#%%\n"
    }
   }
  },
  {
   "cell_type": "code",
   "execution_count": 28,
   "outputs": [],
   "source": [
    "tweets = dataset.tweet[2]"
   ],
   "metadata": {
    "collapsed": false,
    "pycharm": {
     "name": "#%%\n"
    }
   }
  },
  {
   "cell_type": "code",
   "execution_count": 11,
   "outputs": [],
   "source": [
    "all_tkn = []\n",
    "x_dt = []\n",
    "for twt in tweets:\n",
    "    #print(twt)\n",
    "    tkns = sentence_splitter(twt)\n",
    "    all_tkn.append(tkns)\n",
    "    x_dt.append(langid.feature_extraction(tkns))"
   ],
   "metadata": {
    "collapsed": false,
    "pycharm": {
     "name": "#%%\n"
    }
   }
  },
  {
   "cell_type": "code",
   "execution_count": 29,
   "outputs": [
    {
     "data": {
      "text/plain": "[{'n_gram_0': 'Akhirrrnya',\n  'is_alpha': True,\n  'is_numeric': False,\n  'is_capital': False,\n  'is_punctuation': False,\n  'contains_alpha': True,\n  'contains_numeric': False,\n  'contains_aphostrope': False,\n  'contains_dash': False,\n  'contains_any_uppercase': True,\n  'startswith_uppercase': True,\n  'startswith_symbols': False,\n  'n_gram_1': 'khirr',\n  'n_gram_2': 'hirrr',\n  'n_gram_3': 'irrrn',\n  'n_gram_4': 'rrrny'},\n {'n_gram_0': 'tampilan',\n  'is_alpha': True,\n  'is_numeric': False,\n  'is_capital': False,\n  'is_punctuation': False,\n  'contains_alpha': True,\n  'contains_numeric': False,\n  'contains_aphostrope': False,\n  'contains_dash': False,\n  'contains_any_uppercase': False,\n  'startswith_uppercase': False,\n  'startswith_symbols': False,\n  'n_gram_1': 'ampil',\n  'n_gram_2': 'mpila'},\n {'n_gram_0': 'feed',\n  'is_alpha': True,\n  'is_numeric': False,\n  'is_capital': False,\n  'is_punctuation': False,\n  'contains_alpha': True,\n  'contains_numeric': False,\n  'contains_aphostrope': False,\n  'contains_dash': False,\n  'contains_any_uppercase': False,\n  'startswith_uppercase': False,\n  'startswith_symbols': False},\n {'n_gram_0': 'ig',\n  'is_alpha': True,\n  'is_numeric': False,\n  'is_capital': False,\n  'is_punctuation': False,\n  'contains_alpha': True,\n  'contains_numeric': False,\n  'contains_aphostrope': False,\n  'contains_dash': False,\n  'contains_any_uppercase': False,\n  'startswith_uppercase': False,\n  'startswith_symbols': False},\n {'n_gram_0': 'w',\n  'is_alpha': True,\n  'is_numeric': False,\n  'is_capital': False,\n  'is_punctuation': False,\n  'contains_alpha': True,\n  'contains_numeric': False,\n  'contains_aphostrope': False,\n  'contains_dash': False,\n  'contains_any_uppercase': False,\n  'startswith_uppercase': False,\n  'startswith_symbols': False},\n {'n_gram_0': 'balik',\n  'is_alpha': True,\n  'is_numeric': False,\n  'is_capital': False,\n  'is_punctuation': False,\n  'contains_alpha': True,\n  'contains_numeric': False,\n  'contains_aphostrope': False,\n  'contains_dash': False,\n  'contains_any_uppercase': False,\n  'startswith_uppercase': False,\n  'startswith_symbols': False},\n {'n_gram_0': 'normal',\n  'is_alpha': True,\n  'is_numeric': False,\n  'is_capital': False,\n  'is_punctuation': False,\n  'contains_alpha': True,\n  'contains_numeric': False,\n  'contains_aphostrope': False,\n  'contains_dash': False,\n  'contains_any_uppercase': False,\n  'startswith_uppercase': False,\n  'startswith_symbols': False},\n {'n_gram_0': 'lg',\n  'is_alpha': True,\n  'is_numeric': False,\n  'is_capital': False,\n  'is_punctuation': False,\n  'contains_alpha': True,\n  'contains_numeric': False,\n  'contains_aphostrope': False,\n  'contains_dash': False,\n  'contains_any_uppercase': False,\n  'startswith_uppercase': False,\n  'startswith_symbols': False},\n {'n_gram_0': '\\U0001f979',\n  'is_alpha': False,\n  'is_numeric': False,\n  'is_capital': False,\n  'is_punctuation': False,\n  'contains_alpha': False,\n  'contains_numeric': False,\n  'contains_aphostrope': False,\n  'contains_dash': False,\n  'contains_any_uppercase': False,\n  'startswith_uppercase': False,\n  'startswith_symbols': False},\n {'n_gram_0': '🤏',\n  'is_alpha': False,\n  'is_numeric': False,\n  'is_capital': False,\n  'is_punctuation': False,\n  'contains_alpha': False,\n  'contains_numeric': False,\n  'contains_aphostrope': False,\n  'contains_dash': False,\n  'contains_any_uppercase': False,\n  'startswith_uppercase': False,\n  'startswith_symbols': False},\n {'n_gram_0': '🏻',\n  'is_alpha': False,\n  'is_numeric': False,\n  'is_capital': False,\n  'is_punctuation': False,\n  'contains_alpha': False,\n  'contains_numeric': False,\n  'contains_aphostrope': False,\n  'contains_dash': False,\n  'contains_any_uppercase': False,\n  'startswith_uppercase': False,\n  'startswith_symbols': False}]"
     },
     "execution_count": 29,
     "metadata": {},
     "output_type": "execute_result"
    }
   ],
   "source": [
    "x_dt[0]"
   ],
   "metadata": {
    "collapsed": false,
    "pycharm": {
     "name": "#%%\n"
    }
   }
  },
  {
   "cell_type": "code",
   "execution_count": 30,
   "outputs": [],
   "source": [
    "tag_pred = model.predict(x_dt)"
   ],
   "metadata": {
    "collapsed": false,
    "pycharm": {
     "name": "#%%\n"
    }
   }
  },
  {
   "cell_type": "code",
   "execution_count": 31,
   "outputs": [],
   "source": [
    "target_file = '../raw dataset/tagged-170522.tsv'\n",
    "with open(target_file, 'a', encoding='utf-8') as f:\n",
    "    tkn_tag = [[tok, tg] for tok, tg in zip(all_tkn, tag_pred)]\n",
    "    #print(tkn_tag[0])\n",
    "    for tk, tg in tkn_tag:\n",
    "        lst = list(zip(tk,tg))\n",
    "        for l in lst:\n",
    "            f.write('\\t'.join([str(i) for i in l]))\n",
    "            f.write('\\n')\n",
    "        f.write('\\n')"
   ],
   "metadata": {
    "collapsed": false,
    "pycharm": {
     "name": "#%%\n"
    }
   }
  },
  {
   "cell_type": "code",
   "execution_count": null,
   "outputs": [],
   "source": [],
   "metadata": {
    "collapsed": false,
    "pycharm": {
     "name": "#%%\n"
    }
   }
  }
 ],
 "metadata": {
  "kernelspec": {
   "display_name": "Python 3",
   "language": "python",
   "name": "python3"
  },
  "language_info": {
   "codemirror_mode": {
    "name": "ipython",
    "version": 2
   },
   "file_extension": ".py",
   "mimetype": "text/x-python",
   "name": "python",
   "nbconvert_exporter": "python",
   "pygments_lexer": "ipython2",
   "version": "2.7.6"
  }
 },
 "nbformat": 4,
 "nbformat_minor": 0
}