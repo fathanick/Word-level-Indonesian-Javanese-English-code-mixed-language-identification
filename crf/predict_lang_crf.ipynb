{
 "cells": [
  {
   "cell_type": "code",
   "execution_count": 2,
   "metadata": {},
   "outputs": [],
   "source": [
    "# -*- coding: utf-8 -*-\n",
    "from langid_crf import *\n",
    "from helper import *"
   ]
  },
  {
   "cell_type": "markdown",
   "source": [],
   "metadata": {
    "collapsed": false
   }
  },
  {
   "cell_type": "code",
   "execution_count": 4,
   "outputs": [
    {
     "name": "stdout",
     "output_type": "stream",
     "text": [
      "Aku ID\n",
      "ibu2 ID\n",
      "kamu ID\n",
      "tapi ID\n",
      "hehe O\n",
      "ga ID\n",
      "ngeprank MIX-ID-EN\n",
      "seng JV\n",
      "iso JV\n",
      "bgt ID\n",
      "Desember ID\n",
      "wae JV\n",
      "ono JV\n",
      "could EN\n",
      "be EN\n",
      "be EN\n",
      "okay EN\n"
     ]
    }
   ],
   "source": [
    "langid = LanguageIdentifier()\n",
    "txt_data = \"Aku ibu2 kamu tapi hehe ga ngeprank seng iso bgt Desember wae ono could be be okay\"\n",
    "#txt_data ='Jujur ga suka sm tampilan foto di feed ig skrg 🥹 bagusan dulu'\n",
    "model = pickle.load(open('model/crf_model.pkl','rb'))\n",
    "langid.lang_prediction(txt_data, model)"
   ],
   "metadata": {
    "collapsed": false,
    "pycharm": {
     "name": "#%%\n"
    }
   }
  },
  {
   "cell_type": "markdown",
   "source": [
    "## Predict using test data"
   ],
   "metadata": {
    "collapsed": false
   }
  },
  {
   "cell_type": "code",
   "execution_count": 5,
   "outputs": [],
   "source": [
    "train_data = dataset_reader.read_tsv('../raw dataset/train-data-140422.tsv')\n",
    "test_data = dataset_reader.read_tsv('../raw dataset/test-data-140422.tsv')"
   ],
   "metadata": {
    "collapsed": false,
    "pycharm": {
     "name": "#%%\n"
    }
   }
  },
  {
   "cell_type": "code",
   "execution_count": 7,
   "outputs": [],
   "source": [
    "# look at the data\n",
    "test = data_transformer.to_token_tag_list(test_data)\n",
    "X_test = [langid.sent2features(s) for s in test]"
   ],
   "metadata": {
    "collapsed": false,
    "pycharm": {
     "name": "#%%\n"
    }
   }
  },
  {
   "cell_type": "code",
   "execution_count": 8,
   "outputs": [
    {
     "data": {
      "text/plain": "[{'n_gram_0': '@nezuokochan',\n  'token_BOS': True,\n  'token_EOS': False,\n  'prev_tag': '',\n  'next_tag': 'ID',\n  'prev_2tag': '',\n  'next_2tag': 'ID',\n  'token.prefix_2': '@n',\n  'token.prefix_3': '@ne',\n  'token.suffix_2': 'an',\n  'token.suffix_3': 'han',\n  'token.length': 12,\n  'token.is_alpha': False,\n  'token.is_numeric': False,\n  'token.is_capital': False,\n  'token.is_title': False,\n  'token.startswith_symbols': True,\n  'token.contains_numeric': False,\n  'token.contains_capital': False,\n  'token.contains_quotes': False,\n  'token.contains_hyphen': False},\n {'n_gram_0': 'Makan',\n  'token_BOS': False,\n  'token_EOS': False,\n  'prev_tag': 'O',\n  'next_tag': 'ID',\n  'prev_2tag': '',\n  'next_2tag': 'O',\n  'token.prefix_2': 'Ma',\n  'token.prefix_3': 'Mak',\n  'token.suffix_2': 'aa',\n  'token.suffix_3': 'aaa',\n  'token.length': 9,\n  'token.is_alpha': True,\n  'token.is_numeric': False,\n  'token.is_capital': False,\n  'token.is_title': True,\n  'token.startswith_symbols': False,\n  'token.contains_numeric': False,\n  'token.contains_capital': True,\n  'token.contains_quotes': False,\n  'token.contains_hyphen': False,\n  'n_gram_1': 'akany',\n  'n_gram_2': 'kanya',\n  'n_gram_3': 'anyaa'},\n {'n_gram_0': 'kan',\n  'token_BOS': False,\n  'token_EOS': False,\n  'prev_tag': 'ID',\n  'next_tag': 'O',\n  'prev_2tag': 'O',\n  'next_2tag': 'ID',\n  'token.prefix_2': 'ka',\n  'token.prefix_3': 'kan',\n  'token.suffix_2': 'an',\n  'token.suffix_3': 'kan',\n  'token.length': 3,\n  'token.is_alpha': True,\n  'token.is_numeric': False,\n  'token.is_capital': False,\n  'token.is_title': False,\n  'token.startswith_symbols': False,\n  'token.contains_numeric': False,\n  'token.contains_capital': False,\n  'token.contains_quotes': False,\n  'token.contains_hyphen': False},\n {'n_gram_0': 'hhh',\n  'token_BOS': False,\n  'token_EOS': False,\n  'prev_tag': 'ID',\n  'next_tag': 'ID',\n  'prev_2tag': 'ID',\n  'next_2tag': 'MIX-ID-EN',\n  'token.prefix_2': 'hh',\n  'token.prefix_3': 'hhh',\n  'token.suffix_2': 'hh',\n  'token.suffix_3': 'hhh',\n  'token.length': 3,\n  'token.is_alpha': True,\n  'token.is_numeric': False,\n  'token.is_capital': False,\n  'token.is_title': False,\n  'token.startswith_symbols': False,\n  'token.contains_numeric': False,\n  'token.contains_capital': False,\n  'token.contains_quotes': False,\n  'token.contains_hyphen': False},\n {'n_gram_0': 'tadi',\n  'token_BOS': False,\n  'token_EOS': False,\n  'prev_tag': 'O',\n  'next_tag': 'MIX-ID-EN',\n  'prev_2tag': 'ID',\n  'next_2tag': 'ID',\n  'token.prefix_2': 'ta',\n  'token.prefix_3': 'tad',\n  'token.suffix_2': 'di',\n  'token.suffix_3': 'adi',\n  'token.length': 4,\n  'token.is_alpha': True,\n  'token.is_numeric': False,\n  'token.is_capital': False,\n  'token.is_title': False,\n  'token.startswith_symbols': False,\n  'token.contains_numeric': False,\n  'token.contains_capital': False,\n  'token.contains_quotes': False,\n  'token.contains_hyphen': False},\n {'n_gram_0': 'ngete',\n  'token_BOS': False,\n  'token_EOS': False,\n  'prev_tag': 'ID',\n  'next_tag': 'ID',\n  'prev_2tag': 'O',\n  'next_2tag': 'ID',\n  'token.prefix_2': 'ng',\n  'token.prefix_3': 'nge',\n  'token.suffix_2': 'st',\n  'token.suffix_3': 'est',\n  'token.length': 7,\n  'token.is_alpha': True,\n  'token.is_numeric': False,\n  'token.is_capital': False,\n  'token.is_title': False,\n  'token.startswith_symbols': False,\n  'token.contains_numeric': False,\n  'token.contains_capital': False,\n  'token.contains_quotes': False,\n  'token.contains_hyphen': False,\n  'n_gram_1': 'getes'},\n {'n_gram_0': 'main',\n  'token_BOS': False,\n  'token_EOS': False,\n  'prev_tag': 'MIX-ID-EN',\n  'next_tag': 'ID',\n  'prev_2tag': 'ID',\n  'next_2tag': 'ID',\n  'token.prefix_2': 'ma',\n  'token.prefix_3': 'mai',\n  'token.suffix_2': 'in',\n  'token.suffix_3': 'ain',\n  'token.length': 4,\n  'token.is_alpha': True,\n  'token.is_numeric': False,\n  'token.is_capital': False,\n  'token.is_title': False,\n  'token.startswith_symbols': False,\n  'token.contains_numeric': False,\n  'token.contains_capital': False,\n  'token.contains_quotes': False,\n  'token.contains_hyphen': False},\n {'n_gram_0': 'udah',\n  'token_BOS': False,\n  'token_EOS': False,\n  'prev_tag': 'ID',\n  'next_tag': 'ID',\n  'prev_2tag': 'MIX-ID-EN',\n  'next_2tag': 'ID',\n  'token.prefix_2': 'ud',\n  'token.prefix_3': 'uda',\n  'token.suffix_2': 'ah',\n  'token.suffix_3': 'dah',\n  'token.length': 4,\n  'token.is_alpha': True,\n  'token.is_numeric': False,\n  'token.is_capital': False,\n  'token.is_title': False,\n  'token.startswith_symbols': False,\n  'token.contains_numeric': False,\n  'token.contains_capital': False,\n  'token.contains_quotes': False,\n  'token.contains_hyphen': False},\n {'n_gram_0': 'ngala',\n  'token_BOS': False,\n  'token_EOS': False,\n  'prev_tag': 'ID',\n  'next_tag': 'ID',\n  'prev_2tag': 'ID',\n  'next_2tag': 'ID',\n  'token.prefix_2': 'ng',\n  'token.prefix_3': 'nga',\n  'token.suffix_2': 'ah',\n  'token.suffix_3': 'lah',\n  'token.length': 6,\n  'token.is_alpha': True,\n  'token.is_numeric': False,\n  'token.is_capital': False,\n  'token.is_title': False,\n  'token.startswith_symbols': False,\n  'token.contains_numeric': False,\n  'token.contains_capital': False,\n  'token.contains_quotes': False,\n  'token.contains_hyphen': False},\n {'n_gram_0': 'jadi',\n  'token_BOS': False,\n  'token_EOS': False,\n  'prev_tag': 'ID',\n  'next_tag': 'ID',\n  'prev_2tag': 'ID',\n  'next_2tag': 'ID',\n  'token.prefix_2': 'ja',\n  'token.prefix_3': 'jad',\n  'token.suffix_2': 'di',\n  'token.suffix_3': 'adi',\n  'token.length': 4,\n  'token.is_alpha': True,\n  'token.is_numeric': False,\n  'token.is_capital': False,\n  'token.is_title': False,\n  'token.startswith_symbols': False,\n  'token.contains_numeric': False,\n  'token.contains_capital': False,\n  'token.contains_quotes': False,\n  'token.contains_hyphen': False},\n {'n_gram_0': 'tank',\n  'token_BOS': False,\n  'token_EOS': False,\n  'prev_tag': 'ID',\n  'next_tag': 'ID',\n  'prev_2tag': 'ID',\n  'next_2tag': 'MIX-ID-EN',\n  'token.prefix_2': 'ta',\n  'token.prefix_3': 'tan',\n  'token.suffix_2': 'nk',\n  'token.suffix_3': 'ank',\n  'token.length': 4,\n  'token.is_alpha': True,\n  'token.is_numeric': False,\n  'token.is_capital': False,\n  'token.is_title': False,\n  'token.startswith_symbols': False,\n  'token.contains_numeric': False,\n  'token.contains_capital': False,\n  'token.contains_quotes': False,\n  'token.contains_hyphen': False},\n {'n_gram_0': 'tapi',\n  'token_BOS': False,\n  'token_EOS': False,\n  'prev_tag': 'ID',\n  'next_tag': 'MIX-ID-EN',\n  'prev_2tag': 'ID',\n  'next_2tag': 'ID',\n  'token.prefix_2': 'ta',\n  'token.prefix_3': 'tap',\n  'token.suffix_2': 'pi',\n  'token.suffix_3': 'api',\n  'token.length': 4,\n  'token.is_alpha': True,\n  'token.is_numeric': False,\n  'token.is_capital': False,\n  'token.is_title': False,\n  'token.startswith_symbols': False,\n  'token.contains_numeric': False,\n  'token.contains_capital': False,\n  'token.contains_quotes': False,\n  'token.contains_hyphen': False},\n {'n_gram_0': 'siden',\n  'token_BOS': False,\n  'token_EOS': False,\n  'prev_tag': 'ID',\n  'next_tag': 'ID',\n  'prev_2tag': 'ID',\n  'next_2tag': 'MIX-ID-EN',\n  'token.prefix_2': 'si',\n  'token.prefix_3': 'sid',\n  'token.suffix_2': 'ya',\n  'token.suffix_3': 'nya',\n  'token.length': 7,\n  'token.is_alpha': True,\n  'token.is_numeric': False,\n  'token.is_capital': False,\n  'token.is_title': False,\n  'token.startswith_symbols': False,\n  'token.contains_numeric': False,\n  'token.contains_capital': False,\n  'token.contains_quotes': False,\n  'token.contains_hyphen': False,\n  'n_gram_1': 'ideny'},\n {'n_gram_0': 'malah',\n  'token_BOS': False,\n  'token_EOS': False,\n  'prev_tag': 'MIX-ID-EN',\n  'next_tag': 'MIX-ID-EN',\n  'prev_2tag': 'ID',\n  'next_2tag': 'ID',\n  'token.prefix_2': 'ma',\n  'token.prefix_3': 'mal',\n  'token.suffix_2': 'ah',\n  'token.suffix_3': 'lah',\n  'token.length': 5,\n  'token.is_alpha': True,\n  'token.is_numeric': False,\n  'token.is_capital': False,\n  'token.is_title': False,\n  'token.startswith_symbols': False,\n  'token.contains_numeric': False,\n  'token.contains_capital': False,\n  'token.contains_quotes': False,\n  'token.contains_hyphen': False},\n {'n_gram_0': 'ngefe',\n  'token_BOS': False,\n  'token_EOS': False,\n  'prev_tag': 'ID',\n  'next_tag': 'ID',\n  'prev_2tag': 'MIX-ID-EN',\n  'next_2tag': 'ID',\n  'token.prefix_2': 'ng',\n  'token.prefix_3': 'nge',\n  'token.suffix_2': 'ed',\n  'token.suffix_3': 'eed',\n  'token.length': 7,\n  'token.is_alpha': True,\n  'token.is_numeric': False,\n  'token.is_capital': False,\n  'token.is_title': False,\n  'token.startswith_symbols': False,\n  'token.contains_numeric': False,\n  'token.contains_capital': False,\n  'token.contains_quotes': False,\n  'token.contains_hyphen': False,\n  'n_gram_1': 'gefee'},\n {'n_gram_0': 'dan',\n  'token_BOS': False,\n  'token_EOS': False,\n  'prev_tag': 'MIX-ID-EN',\n  'next_tag': 'ID',\n  'prev_2tag': 'ID',\n  'next_2tag': 'ID',\n  'token.prefix_2': 'da',\n  'token.prefix_3': 'dan',\n  'token.suffix_2': 'an',\n  'token.suffix_3': 'dan',\n  'token.length': 3,\n  'token.is_alpha': True,\n  'token.is_numeric': False,\n  'token.is_capital': False,\n  'token.is_title': False,\n  'token.startswith_symbols': False,\n  'token.contains_numeric': False,\n  'token.contains_capital': False,\n  'token.contains_quotes': False,\n  'token.contains_hyphen': False},\n {'n_gram_0': 'kalah',\n  'token_BOS': False,\n  'token_EOS': False,\n  'prev_tag': 'ID',\n  'next_tag': 'ID',\n  'prev_2tag': 'MIX-ID-EN',\n  'next_2tag': 'ID',\n  'token.prefix_2': 'ka',\n  'token.prefix_3': 'kal',\n  'token.suffix_2': 'ah',\n  'token.suffix_3': 'lah',\n  'token.length': 5,\n  'token.is_alpha': True,\n  'token.is_numeric': False,\n  'token.is_capital': False,\n  'token.is_title': False,\n  'token.startswith_symbols': False,\n  'token.contains_numeric': False,\n  'token.contains_capital': False,\n  'token.contains_quotes': False,\n  'token.contains_hyphen': False},\n {'n_gram_0': 'pas',\n  'token_BOS': False,\n  'token_EOS': False,\n  'prev_tag': 'ID',\n  'next_tag': 'ID',\n  'prev_2tag': 'ID',\n  'next_2tag': 'ID',\n  'token.prefix_2': 'pa',\n  'token.prefix_3': 'pas',\n  'token.suffix_2': 'as',\n  'token.suffix_3': 'pas',\n  'token.length': 3,\n  'token.is_alpha': True,\n  'token.is_numeric': False,\n  'token.is_capital': False,\n  'token.is_title': False,\n  'token.startswith_symbols': False,\n  'token.contains_numeric': False,\n  'token.contains_capital': False,\n  'token.contains_quotes': False,\n  'token.contains_hyphen': False},\n {'n_gram_0': 'ngece',\n  'token_BOS': False,\n  'token_EOS': False,\n  'prev_tag': 'ID',\n  'next_tag': 'ID',\n  'prev_2tag': 'ID',\n  'next_2tag': 'ID',\n  'token.prefix_2': 'ng',\n  'token.prefix_3': 'nge',\n  'token.suffix_2': 'el',\n  'token.suffix_3': 'cel',\n  'token.length': 6,\n  'token.is_alpha': True,\n  'token.is_numeric': False,\n  'token.is_capital': False,\n  'token.is_title': False,\n  'token.startswith_symbols': False,\n  'token.contains_numeric': False,\n  'token.contains_capital': False,\n  'token.contains_quotes': False,\n  'token.contains_hyphen': False},\n {'n_gram_0': 'ealaa',\n  'token_BOS': False,\n  'token_EOS': False,\n  'prev_tag': 'ID',\n  'next_tag': 'ID',\n  'prev_2tag': 'ID',\n  'next_2tag': 'ID',\n  'token.prefix_2': 'ea',\n  'token.prefix_3': 'eal',\n  'token.suffix_2': 'hh',\n  'token.suffix_3': 'hhh',\n  'token.length': 8,\n  'token.is_alpha': True,\n  'token.is_numeric': False,\n  'token.is_capital': False,\n  'token.is_title': False,\n  'token.startswith_symbols': False,\n  'token.contains_numeric': False,\n  'token.contains_capital': False,\n  'token.contains_quotes': False,\n  'token.contains_hyphen': False,\n  'n_gram_1': 'alaah',\n  'n_gram_2': 'laahh'},\n {'n_gram_0': 'jauh',\n  'token_BOS': False,\n  'token_EOS': False,\n  'prev_tag': 'ID',\n  'next_tag': 'ID',\n  'prev_2tag': 'ID',\n  'next_2tag': 'EN',\n  'token.prefix_2': 'ja',\n  'token.prefix_3': 'jau',\n  'token.suffix_2': 'uh',\n  'token.suffix_3': 'auh',\n  'token.length': 4,\n  'token.is_alpha': True,\n  'token.is_numeric': False,\n  'token.is_capital': False,\n  'token.is_title': False,\n  'token.startswith_symbols': False,\n  'token.contains_numeric': False,\n  'token.contains_capital': False,\n  'token.contains_quotes': False,\n  'token.contains_hyphen': False},\n {'n_gram_0': 'bange',\n  'token_BOS': False,\n  'token_EOS': False,\n  'prev_tag': 'ID',\n  'next_tag': 'EN',\n  'prev_2tag': 'ID',\n  'next_2tag': 'ID',\n  'token.prefix_2': 'ba',\n  'token.prefix_3': 'ban',\n  'token.suffix_2': 'et',\n  'token.suffix_3': 'get',\n  'token.length': 6,\n  'token.is_alpha': True,\n  'token.is_numeric': False,\n  'token.is_capital': False,\n  'token.is_title': False,\n  'token.startswith_symbols': False,\n  'token.contains_numeric': False,\n  'token.contains_capital': False,\n  'token.contains_quotes': False,\n  'token.contains_hyphen': False},\n {'n_gram_0': 'match',\n  'token_BOS': False,\n  'token_EOS': False,\n  'prev_tag': 'ID',\n  'next_tag': 'ID',\n  'prev_2tag': 'ID',\n  'next_2tag': 'ID',\n  'token.prefix_2': 'ma',\n  'token.prefix_3': 'mat',\n  'token.suffix_2': 'ng',\n  'token.suffix_3': 'ing',\n  'token.length': 11,\n  'token.is_alpha': True,\n  'token.is_numeric': False,\n  'token.is_capital': False,\n  'token.is_title': False,\n  'token.startswith_symbols': False,\n  'token.contains_numeric': False,\n  'token.contains_capital': False,\n  'token.contains_quotes': False,\n  'token.contains_hyphen': False,\n  'n_gram_1': 'atchm',\n  'n_gram_2': 'tchma',\n  'n_gram_3': 'chmak',\n  'n_gram_4': 'hmaki',\n  'n_gram_5': 'makin'},\n {'n_gram_0': 'nya',\n  'token_BOS': False,\n  'token_EOS': False,\n  'prev_tag': 'EN',\n  'next_tag': 'ID',\n  'prev_2tag': 'ID',\n  'next_2tag': 'ID',\n  'token.prefix_2': 'ny',\n  'token.prefix_3': 'nya',\n  'token.suffix_2': 'ya',\n  'token.suffix_3': 'nya',\n  'token.length': 3,\n  'token.is_alpha': True,\n  'token.is_numeric': False,\n  'token.is_capital': False,\n  'token.is_title': False,\n  'token.startswith_symbols': False,\n  'token.contains_numeric': False,\n  'token.contains_capital': False,\n  'token.contains_quotes': False,\n  'token.contains_hyphen': False},\n {'n_gram_0': 'sama',\n  'token_BOS': False,\n  'token_EOS': False,\n  'prev_tag': 'ID',\n  'next_tag': 'ID',\n  'prev_2tag': 'EN',\n  'next_2tag': 'O',\n  'token.prefix_2': 'sa',\n  'token.prefix_3': 'sam',\n  'token.suffix_2': 'ma',\n  'token.suffix_3': 'ama',\n  'token.length': 4,\n  'token.is_alpha': True,\n  'token.is_numeric': False,\n  'token.is_capital': False,\n  'token.is_title': False,\n  'token.startswith_symbols': False,\n  'token.contains_numeric': False,\n  'token.contains_capital': False,\n  'token.contains_quotes': False,\n  'token.contains_hyphen': False},\n {'n_gram_0': 'musuh',\n  'token_BOS': False,\n  'token_EOS': False,\n  'prev_tag': 'ID',\n  'next_tag': 'O',\n  'prev_2tag': 'ID',\n  'next_2tag': '',\n  'token.prefix_2': 'mu',\n  'token.prefix_3': 'mus',\n  'token.suffix_2': 'uh',\n  'token.suffix_3': 'suh',\n  'token.length': 5,\n  'token.is_alpha': True,\n  'token.is_numeric': False,\n  'token.is_capital': False,\n  'token.is_title': False,\n  'token.startswith_symbols': False,\n  'token.contains_numeric': False,\n  'token.contains_capital': False,\n  'token.contains_quotes': False,\n  'token.contains_hyphen': False},\n {'n_gram_0': '😭',\n  'token_BOS': False,\n  'token_EOS': True,\n  'prev_tag': 'ID',\n  'next_tag': '',\n  'prev_2tag': 'ID',\n  'next_2tag': '',\n  'token.prefix_2': '😭',\n  'token.prefix_3': '😭',\n  'token.suffix_2': '😭',\n  'token.suffix_3': '😭',\n  'token.length': 1,\n  'token.is_alpha': False,\n  'token.is_numeric': False,\n  'token.is_capital': False,\n  'token.is_title': False,\n  'token.startswith_symbols': False,\n  'token.contains_numeric': False,\n  'token.contains_capital': False,\n  'token.contains_quotes': False,\n  'token.contains_hyphen': False}]"
     },
     "execution_count": 8,
     "metadata": {},
     "output_type": "execute_result"
    }
   ],
   "source": [
    "X_test[2]"
   ],
   "metadata": {
    "collapsed": false,
    "pycharm": {
     "name": "#%%\n"
    }
   }
  },
  {
   "cell_type": "code",
   "execution_count": 9,
   "outputs": [
    {
     "data": {
      "text/plain": "['Can',\n 'you',\n 'stop',\n 'copying',\n 'my',\n 'tweet',\n '?',\n 'I',\n 'just',\n 'logged',\n 'in',\n 'to',\n 'main',\n 'acc',\n 'anjing',\n 'udah',\n 'dicopy',\n 'aja',\n '???????',\n \"It's\",\n 'so',\n 'obvious',\n 'loh',\n ',',\n 'kreatif',\n 'napa',\n 'jadi',\n 'orang',\n ',',\n 'why',\n 'you',\n 'wanna',\n 'be',\n 'me',\n 'so',\n 'bad',\n 'hahhh']"
     },
     "execution_count": 9,
     "metadata": {},
     "output_type": "execute_result"
    }
   ],
   "source": [
    "stc = test_data[0][90][0]\n",
    "stc"
   ],
   "metadata": {
    "collapsed": false,
    "pycharm": {
     "name": "#%%\n"
    }
   }
  },
  {
   "cell_type": "code",
   "execution_count": 10,
   "outputs": [
    {
     "name": "stdout",
     "output_type": "stream",
     "text": [
      "Can EN\n",
      "you EN\n",
      "stop EN\n",
      "copying EN\n",
      "my EN\n",
      "tweet EN\n",
      "? O\n",
      "I EN\n",
      "just EN\n",
      "logged EN\n",
      "in EN\n",
      "to EN\n",
      "main ID\n",
      "acc EN\n",
      "anjing ID\n",
      "udah ID\n",
      "dicopy MIX-ID-EN\n",
      "aja ID\n",
      "??????? O\n",
      "It's EN\n",
      "so EN\n",
      "obvious EN\n",
      "loh ID\n",
      ", O\n",
      "kreatif ID\n",
      "napa EN\n",
      "jadi ID\n",
      "orang ID\n",
      ", O\n",
      "why EN\n",
      "you EN\n",
      "wanna EN\n",
      "be EN\n",
      "me EN\n",
      "so EN\n",
      "bad EN\n",
      "hahhh ID\n"
     ]
    }
   ],
   "source": [
    "langid.lang_prediction(stc, model)"
   ],
   "metadata": {
    "collapsed": false,
    "pycharm": {
     "name": "#%%\n"
    }
   }
  },
  {
   "cell_type": "code",
   "execution_count": 7,
   "outputs": [],
   "source": [],
   "metadata": {
    "collapsed": false,
    "pycharm": {
     "name": "#%%\n"
    }
   }
  }
 ],
 "metadata": {
  "interpreter": {
   "hash": "949777d72b0d2535278d3dc13498b2535136f6dfe0678499012e853ee9abcab1"
  },
  "kernelspec": {
   "display_name": "Python 3.9.6 64-bit",
   "language": "python",
   "name": "python3"
  },
  "language_info": {
   "codemirror_mode": {
    "name": "ipython",
    "version": 3
   },
   "file_extension": ".py",
   "mimetype": "text/x-python",
   "name": "python",
   "nbconvert_exporter": "python",
   "pygments_lexer": "ipython3",
   "version": "3.9.6"
  },
  "orig_nbformat": 4
 },
 "nbformat": 4,
 "nbformat_minor": 2
}