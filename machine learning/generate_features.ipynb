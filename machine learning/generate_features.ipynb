{
 "cells": [
  {
   "cell_type": "code",
   "execution_count": 1,
   "outputs": [],
   "source": [
    "from helper.dataset_reader import read_tsv\n",
    "from helper.data_transformer import *\n",
    "import re"
   ],
   "metadata": {
    "collapsed": false,
    "pycharm": {
     "name": "#%%\n"
    }
   }
  },
  {
   "cell_type": "code",
   "execution_count": 6,
   "outputs": [],
   "source": [
    "train_data = read_tsv(\"../dataset/16-07-22/train.tsv\")\n",
    "test_data = read_tsv(\"../dataset/16-07-22/test.tsv\")\n",
    "\n",
    "df_train = to_df_tweet_tags(train_data[0])\n",
    "df_test = to_df_tweet_tags(test_data[0])"
   ],
   "metadata": {
    "collapsed": false,
    "pycharm": {
     "name": "#%%\n"
    }
   }
  },
  {
   "cell_type": "code",
   "execution_count": null,
   "outputs": [],
   "source": [
    "def feature_extraction(all_data):\n",
    "    features = []\n",
    "    symbols = ['@', '#', '&', '$']\n",
    "\n",
    "    tokens = all_data[1]\n",
    "    tags = all_data[2]\n",
    "    # token features\n",
    "    for i in enumerate(all_data):\n",
    "        for index, token in tokens:\n",
    "            feature_1 = {\n",
    "                'token.lower': token.lower(),\n",
    "                'n_gram_0': token,\n",
    "                'token_BOS': index == 0,\n",
    "                'token_EOS': index == len(tokens) - 1,\n",
    "                'token.prefix_2': token[:2],\n",
    "                'token.prefix_3': token[:3],\n",
    "                'token.suffix_2': token[-2:],\n",
    "                'token.suffix_3': token[-3:],\n",
    "                'token.length': len(token),\n",
    "                'token.is_alpha': token.isalpha(),\n",
    "                'token.is_numeric': token.isnumeric(),\n",
    "                'token.is_capital': token.isupper(),\n",
    "                'token.is_title': token.istitle(),\n",
    "                'token.startswith_symbols': (any(token.startswith(x) for x in symbols)),\n",
    "                'token.contains_numeric': bool(re.search('[0-9]', token)),\n",
    "                'token.contains_capital': (any(letter.isupper() for letter in token)),\n",
    "                'token.contains_quotes': ('\\\"' in token) or ('\\'' in token),\n",
    "                'token.contains_hyphen': '-' in token,\n",
    "            }\n",
    "\n",
    "        for index, tag in enumerate(tags):\n",
    "            feature_2 = {\n",
    "             'token.tag': tag\n",
    "            }\n",
    "\n",
    "    return features"
   ],
   "metadata": {
    "collapsed": false,
    "pycharm": {
     "name": "#%%\n"
    }
   }
  },
  {
   "cell_type": "code",
   "execution_count": null,
   "outputs": [],
   "source": [],
   "metadata": {
    "collapsed": false,
    "pycharm": {
     "name": "#%%\n"
    }
   }
  }
 ],
 "metadata": {
  "kernelspec": {
   "display_name": "Python 3",
   "language": "python",
   "name": "python3"
  },
  "language_info": {
   "codemirror_mode": {
    "name": "ipython",
    "version": 2
   },
   "file_extension": ".py",
   "mimetype": "text/x-python",
   "name": "python",
   "nbconvert_exporter": "python",
   "pygments_lexer": "ipython2",
   "version": "2.7.6"
  }
 },
 "nbformat": 4,
 "nbformat_minor": 0
}