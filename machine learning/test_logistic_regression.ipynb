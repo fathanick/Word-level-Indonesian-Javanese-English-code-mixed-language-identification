{
 "cells": [
  {
   "cell_type": "code",
   "execution_count": 1,
   "metadata": {
    "collapsed": true
   },
   "outputs": [],
   "source": [
    "from sklearn import linear_model, naive_bayes, svm, metrics\n",
    "from sklearn.model_selection import train_test_split\n",
    "from sklearn.feature_extraction.text import CountVectorizer, TfidfVectorizer\n",
    "from helper.dataset_reader import read_tsv"
   ]
  },
  {
   "cell_type": "code",
   "execution_count": 2,
   "outputs": [],
   "source": [
    "raw_data = read_tsv(\"../dataset/ijelid-100622.tsv\")\n",
    "words = raw_data[1]\n",
    "tags = raw_data[2]"
   ],
   "metadata": {
    "collapsed": false,
    "pycharm": {
     "name": "#%%\n"
    }
   }
  },
  {
   "cell_type": "code",
   "execution_count": 3,
   "outputs": [],
   "source": [
    "# create list of sentences\n",
    "from helper.data_transformer import *\n",
    "\n",
    "word_lists, tag_lists = get_list_words_tags(raw_data[0])\n",
    "sent_list = []\n",
    "for word in word_lists:\n",
    "\tsent = ' '.join(word)\n",
    "\tsent_list.append(sent)"
   ],
   "metadata": {
    "collapsed": false,
    "pycharm": {
     "name": "#%%\n"
    }
   }
  },
  {
   "cell_type": "code",
   "execution_count": 4,
   "outputs": [],
   "source": [
    "data_tuples = list(zip(words, tags))\n",
    "df = pd.DataFrame(data_tuples, columns=['Word', 'Tag'])\n",
    "X = df['Word']\n",
    "y = df['Tag']"
   ],
   "metadata": {
    "collapsed": false,
    "pycharm": {
     "name": "#%%\n"
    }
   }
  },
  {
   "cell_type": "code",
   "execution_count": 9,
   "outputs": [
    {
     "data": {
      "text/plain": "0           Tumben\n1               xl\n2           banter\n3               go\n4         download\n            ...   \n133786     apalagi\n133787         ini\n133788       video\n133789        call\n133790          ~~\nName: Word, Length: 133791, dtype: object"
     },
     "execution_count": 9,
     "metadata": {},
     "output_type": "execute_result"
    }
   ],
   "source": [
    "df['Word']"
   ],
   "metadata": {
    "collapsed": false,
    "pycharm": {
     "name": "#%%\n"
    }
   }
  },
  {
   "cell_type": "code",
   "execution_count": 5,
   "outputs": [],
   "source": [
    "X_train, X_test, y_train, y_test = train_test_split(X, y, test_size=0.33, random_state=0)"
   ],
   "metadata": {
    "collapsed": false,
    "pycharm": {
     "name": "#%%\n"
    }
   }
  },
  {
   "cell_type": "code",
   "execution_count": 12,
   "outputs": [
    {
     "data": {
      "text/plain": "122715           !\n88664         luck\n84985         lega\n124954        mbok\n60776       jirrrr\n            ...   \n41993         Piye\n97639         rare\n95939      disuruh\n117952    internet\n43567        belum\nName: Word, Length: 89639, dtype: object"
     },
     "execution_count": 12,
     "metadata": {},
     "output_type": "execute_result"
    }
   ],
   "source": [
    "X_train"
   ],
   "metadata": {
    "collapsed": false,
    "pycharm": {
     "name": "#%%\n"
    }
   }
  },
  {
   "cell_type": "code",
   "execution_count": 6,
   "outputs": [
    {
     "data": {
      "text/plain": "((89639, 16973), (44152, 16973))"
     },
     "execution_count": 6,
     "metadata": {},
     "output_type": "execute_result"
    }
   ],
   "source": [
    "# Feature Engineering: Count Vectorizer\n",
    "count_vect = CountVectorizer(min_df=1)\n",
    "\n",
    "# transform the training and validation data using count vectorizer object\n",
    "X_train_count = count_vect.fit_transform(X_train).toarray()\n",
    "X_test_count = count_vect.transform(X_test).toarray()\n",
    "\n",
    "X_train_count.shape, X_test_count.shape"
   ],
   "metadata": {
    "collapsed": false,
    "pycharm": {
     "name": "#%%\n"
    }
   }
  },
  {
   "cell_type": "code",
   "execution_count": 7,
   "outputs": [],
   "source": [
    "# Feature engineering: TF-IDF Vectorizer\n",
    "# word level TF-IDF\n",
    "tfidf_vect = TfidfVectorizer(min_df=1)\n",
    "tfidf_vect.fit(sent_list)\n",
    "X_train_tfidf = tfidf_vect.transform(X_train)\n",
    "X_test_tfidf = tfidf_vect.transform(X_test)\n",
    "\n",
    "# n-gram level TF-IDF\n",
    "tfidf_vect_ngram = TfidfVectorizer(min_df=1)\n",
    "tfidf_vect_ngram.fit(sent_list)\n",
    "X_train_tfidf_ngram = tfidf_vect_ngram.transform(X_train)\n",
    "X_test_tfidf_ngram = tfidf_vect_ngram.transform(X_test)\n",
    "\n",
    "# character level TF-IDF\n",
    "tfidf_vect_ngram_char = TfidfVectorizer(min_df=1)\n",
    "tfidf_vect_ngram_char.fit(sent_list)\n",
    "X_train_tfidf_ngram_char = tfidf_vect_ngram_char.transform(X_train)\n",
    "X_test_tfidf_ngram_char = tfidf_vect_ngram_char.transform(X_test)"
   ],
   "metadata": {
    "collapsed": false,
    "pycharm": {
     "name": "#%%\n"
    }
   }
  },
  {
   "cell_type": "code",
   "execution_count": 8,
   "outputs": [],
   "source": [
    "def train_model(clf, feature_vect_train, label, feature_vect_test):\n",
    "\tclf.fit(feature_vect_train, label)\n",
    "\tpredict = clf.predict(feature_vect_test)\n",
    "\n",
    "\tacc = metrics.accuracy_score(predict, y_test)\n",
    "\tf1 = metrics.f1_score(predict, y_test, average='weighted')\n",
    "\tprint(metrics.classification_report(predict, y_test, digits=4))\n",
    "\treturn acc, f1"
   ],
   "metadata": {
    "collapsed": false,
    "pycharm": {
     "name": "#%%\n"
    }
   }
  },
  {
   "cell_type": "code",
   "execution_count": 10,
   "outputs": [
    {
     "name": "stdout",
     "output_type": "stream",
     "text": [
      "              precision    recall  f1-score   support\n",
      "\n",
      "          EN       0.71      0.96      0.82      3960\n",
      "          ID       0.89      0.94      0.92     21144\n",
      "          JV       0.57      0.93      0.71      2931\n",
      "   MIX-ID-EN       0.79      0.92      0.85       829\n",
      "   MIX-ID-JV       0.74      0.99      0.85       229\n",
      "   MIX-JV-EN       0.66      0.92      0.76       202\n",
      "           O       0.98      0.67      0.80     14857\n",
      "\n",
      "    accuracy                           0.85     44152\n",
      "   macro avg       0.76      0.91      0.82     44152\n",
      "weighted avg       0.88      0.85      0.85     44152\n",
      "\n",
      "LR, WordLevel TF-IDF:  0.8528492480521833 0.8526948607822297\n",
      "              precision    recall  f1-score   support\n",
      "\n",
      "          EN       0.71      0.96      0.82      3960\n",
      "          ID       0.89      0.94      0.92     21144\n",
      "          JV       0.57      0.93      0.71      2931\n",
      "   MIX-ID-EN       0.79      0.92      0.85       829\n",
      "   MIX-ID-JV       0.74      0.99      0.85       229\n",
      "   MIX-JV-EN       0.66      0.92      0.76       202\n",
      "           O       0.98      0.67      0.80     14857\n",
      "\n",
      "    accuracy                           0.85     44152\n",
      "   macro avg       0.76      0.91      0.82     44152\n",
      "weighted avg       0.88      0.85      0.85     44152\n",
      "\n",
      "LR, N-Gram Vectors:  0.8528492480521833 0.8526948607822297\n",
      "              precision    recall  f1-score   support\n",
      "\n",
      "          EN       0.71      0.96      0.82      3960\n",
      "          ID       0.89      0.94      0.92     21144\n",
      "          JV       0.57      0.93      0.71      2931\n",
      "   MIX-ID-EN       0.79      0.92      0.85       829\n",
      "   MIX-ID-JV       0.74      0.99      0.85       229\n",
      "   MIX-JV-EN       0.66      0.92      0.76       202\n",
      "           O       0.98      0.67      0.80     14857\n",
      "\n",
      "    accuracy                           0.85     44152\n",
      "   macro avg       0.76      0.91      0.82     44152\n",
      "weighted avg       0.88      0.85      0.85     44152\n",
      "\n",
      "LR, CharLevel Vectors:  0.8528492480521833 0.8526948607822297\n"
     ]
    }
   ],
   "source": [
    "# Linear Classifier on Word Level TF IDF Vectors\n",
    "accuracy, f1_score = train_model(linear_model.LogisticRegression(solver='lbfgs', max_iter=1000), X_train_tfidf, y_train, X_test_tfidf)\n",
    "print(\"LR, WordLevel TF-IDF: \", accuracy, f1_score)\n",
    "\n",
    "# Linear Classifier on Ngram Level TF IDF Vectors\n",
    "accuracy, f1_score = train_model(linear_model.LogisticRegression(solver='lbfgs', max_iter=1000), X_train_tfidf_ngram, y_train, X_test_tfidf_ngram)\n",
    "print(\"LR, N-Gram Vectors: \", accuracy, f1_score)\n",
    "\n",
    "# Linear Classifier on Character Level TF IDF Vectors\n",
    "accuracy, f1_score = train_model(linear_model.LogisticRegression(solver='lbfgs', max_iter=1000), X_train_tfidf_ngram_char, y_train, X_test_tfidf_ngram_char)\n",
    "print(\"LR, CharLevel Vectors: \", accuracy, f1_score)"
   ],
   "metadata": {
    "collapsed": false,
    "pycharm": {
     "name": "#%%\n"
    }
   }
  },
  {
   "cell_type": "code",
   "execution_count": null,
   "outputs": [],
   "source": [],
   "metadata": {
    "collapsed": false,
    "pycharm": {
     "name": "#%%\n"
    }
   }
  }
 ],
 "metadata": {
  "kernelspec": {
   "display_name": "Python 3",
   "language": "python",
   "name": "python3"
  },
  "language_info": {
   "codemirror_mode": {
    "name": "ipython",
    "version": 2
   },
   "file_extension": ".py",
   "mimetype": "text/x-python",
   "name": "python",
   "nbconvert_exporter": "python",
   "pygments_lexer": "ipython2",
   "version": "2.7.6"
  }
 },
 "nbformat": 4,
 "nbformat_minor": 0
}