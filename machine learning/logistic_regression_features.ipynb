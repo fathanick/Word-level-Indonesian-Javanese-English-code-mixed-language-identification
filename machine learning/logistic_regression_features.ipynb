{
 "cells": [
  {
   "cell_type": "code",
   "execution_count": 1,
   "metadata": {
    "collapsed": true
   },
   "outputs": [],
   "source": [
    "from sklearn import linear_model, naive_bayes, svm, metrics\n",
    "from sklearn.model_selection import train_test_split\n",
    "from sklearn.feature_extraction.text import CountVectorizer, TfidfVectorizer\n",
    "from helper.dataset_reader import read_tsv\n",
    "from helper.data_transformer import create_sentence_list\n",
    "from train_ml import train_model"
   ]
  },
  {
   "cell_type": "code",
   "execution_count": 2,
   "outputs": [],
   "source": [
    "# read dataset\n",
    "raw_data = read_tsv(\"../dataset/ijelid-100622.tsv\")\n",
    "train_data = read_tsv(\"../dataset/16-07-22/train.tsv\")\n",
    "test_data = read_tsv(\"../dataset/16-07-22/test.tsv\")"
   ],
   "metadata": {
    "collapsed": false,
    "pycharm": {
     "name": "#%%\n"
    }
   }
  },
  {
   "cell_type": "code",
   "execution_count": 3,
   "outputs": [],
   "source": [
    "X_train = train_data[1]\n",
    "y_train = train_data[2]\n",
    "X_test = test_data[1]\n",
    "y_test = test_data[2]"
   ],
   "metadata": {
    "collapsed": false,
    "pycharm": {
     "name": "#%%\n"
    }
   }
  },
  {
   "cell_type": "code",
   "execution_count": 4,
   "outputs": [],
   "source": [
    "sent_list = create_sentence_list(data=raw_data)"
   ],
   "metadata": {
    "collapsed": false,
    "pycharm": {
     "name": "#%%\n"
    }
   }
  },
  {
   "cell_type": "code",
   "execution_count": 5,
   "outputs": [
    {
     "data": {
      "text/plain": "((89853, 16842), (43938, 16842))"
     },
     "execution_count": 5,
     "metadata": {},
     "output_type": "execute_result"
    }
   ],
   "source": [
    "# Feature Engineering: Count Vectorizer\n",
    "count_vect = CountVectorizer(min_df=1)\n",
    "\n",
    "# transform the training and validation data using count vectorizer object\n",
    "X_train_count = count_vect.fit_transform(X_train).toarray()\n",
    "X_test_count = count_vect.transform(X_test).toarray()\n",
    "\n",
    "X_train_count.shape, X_test_count.shape"
   ],
   "metadata": {
    "collapsed": false,
    "pycharm": {
     "name": "#%%\n"
    }
   }
  },
  {
   "cell_type": "code",
   "execution_count": 6,
   "outputs": [],
   "source": [
    "# Feature engineering: TF-IDF Vectorizer\n",
    "# word level TF-IDF\n",
    "tfidf_vect = TfidfVectorizer(min_df=1)\n",
    "tfidf_vect.fit(sent_list)\n",
    "X_train_tfidf = tfidf_vect.transform(X_train)\n",
    "X_test_tfidf = tfidf_vect.transform(X_test)\n",
    "\n",
    "# n-gram level TF-IDF\n",
    "tfidf_vect_ngram = TfidfVectorizer(min_df=1)\n",
    "tfidf_vect_ngram.fit(sent_list)\n",
    "X_train_tfidf_ngram = tfidf_vect_ngram.transform(X_train)\n",
    "X_test_tfidf_ngram = tfidf_vect_ngram.transform(X_test)\n",
    "\n",
    "# character level TF-IDF\n",
    "tfidf_vect_ngram_char = TfidfVectorizer(min_df=1)\n",
    "tfidf_vect_ngram_char.fit(sent_list)\n",
    "X_train_tfidf_ngram_char = tfidf_vect_ngram_char.transform(X_train)\n",
    "X_test_tfidf_ngram_char = tfidf_vect_ngram_char.transform(X_test)"
   ],
   "metadata": {
    "collapsed": false,
    "pycharm": {
     "name": "#%%\n"
    }
   }
  },
  {
   "cell_type": "code",
   "execution_count": 7,
   "outputs": [
    {
     "name": "stdout",
     "output_type": "stream",
     "text": [
      "              precision    recall  f1-score   support\n",
      "\n",
      "          EN     0.7075    0.9512    0.8114      3732\n",
      "          ID     0.8891    0.9437    0.9155     21012\n",
      "          JV     0.5616    0.9324    0.7010      2959\n",
      "   MIX-ID-EN     0.7996    0.9229    0.8568       843\n",
      "   MIX-ID-JV     0.8036    0.9912    0.8876       227\n",
      "   MIX-JV-EN     0.6282    0.9110    0.7436       191\n",
      "           O     0.9814    0.6669    0.7941     14974\n",
      "\n",
      "    accuracy                         0.8489     43938\n",
      "   macro avg     0.7673    0.9028    0.8157     43938\n",
      "weighted avg     0.8798    0.8489    0.8489     43938\n",
      "\n",
      "LR, WordLevel TF-IDF:  0.8489234830898084 0.8488608257239701\n"
     ]
    }
   ],
   "source": [
    "# Linear Classifier on Word Level TF IDF Vectors\n",
    "accuracy, f1_score = train_model(linear_model.LogisticRegression(solver='lbfgs', max_iter=1000), X_train_tfidf, X_test_tfidf, y_train, y_test)\n",
    "print(\"LR, WordLevel TF-IDF: \", accuracy, f1_score)"
   ],
   "metadata": {
    "collapsed": false,
    "pycharm": {
     "name": "#%%\n"
    }
   }
  },
  {
   "cell_type": "code",
   "execution_count": 8,
   "outputs": [
    {
     "name": "stdout",
     "output_type": "stream",
     "text": [
      "              precision    recall  f1-score   support\n",
      "\n",
      "          EN     0.7075    0.9512    0.8114      3732\n",
      "          ID     0.8891    0.9437    0.9155     21012\n",
      "          JV     0.5616    0.9324    0.7010      2959\n",
      "   MIX-ID-EN     0.7996    0.9229    0.8568       843\n",
      "   MIX-ID-JV     0.8036    0.9912    0.8876       227\n",
      "   MIX-JV-EN     0.6282    0.9110    0.7436       191\n",
      "           O     0.9814    0.6669    0.7941     14974\n",
      "\n",
      "    accuracy                         0.8489     43938\n",
      "   macro avg     0.7673    0.9028    0.8157     43938\n",
      "weighted avg     0.8798    0.8489    0.8489     43938\n",
      "\n",
      "LR, N-Gram Vectors:  0.8489234830898084 0.8488608257239701\n"
     ]
    }
   ],
   "source": [
    "# Linear Classifier on Ngram Level TF IDF Vectors\n",
    "accuracy, f1_score = train_model(linear_model.LogisticRegression(solver='lbfgs', max_iter=1000), X_train_tfidf_ngram, X_test_tfidf_ngram, y_train, y_test)\n",
    "print(\"LR, N-Gram Vectors: \", accuracy, f1_score)"
   ],
   "metadata": {
    "collapsed": false,
    "pycharm": {
     "name": "#%%\n"
    }
   }
  },
  {
   "cell_type": "code",
   "execution_count": 9,
   "outputs": [
    {
     "name": "stdout",
     "output_type": "stream",
     "text": [
      "              precision    recall  f1-score   support\n",
      "\n",
      "          EN     0.7075    0.9512    0.8114      3732\n",
      "          ID     0.8891    0.9437    0.9155     21012\n",
      "          JV     0.5616    0.9324    0.7010      2959\n",
      "   MIX-ID-EN     0.7996    0.9229    0.8568       843\n",
      "   MIX-ID-JV     0.8036    0.9912    0.8876       227\n",
      "   MIX-JV-EN     0.6282    0.9110    0.7436       191\n",
      "           O     0.9814    0.6669    0.7941     14974\n",
      "\n",
      "    accuracy                         0.8489     43938\n",
      "   macro avg     0.7673    0.9028    0.8157     43938\n",
      "weighted avg     0.8798    0.8489    0.8489     43938\n",
      "\n",
      "LR, CharLevel Vectors:  0.8489234830898084 0.8488608257239701\n"
     ]
    }
   ],
   "source": [
    "# Linear Classifier on Character Level TF IDF Vectors\n",
    "accuracy, f1_score = train_model(linear_model.LogisticRegression(solver='lbfgs', max_iter=1000), X_train_tfidf_ngram_char, X_test_tfidf_ngram_char, y_train, y_test)\n",
    "print(\"LR, CharLevel Vectors: \", accuracy, f1_score)"
   ],
   "metadata": {
    "collapsed": false,
    "pycharm": {
     "name": "#%%\n"
    }
   }
  }
 ],
 "metadata": {
  "kernelspec": {
   "display_name": "Python 3",
   "language": "python",
   "name": "python3"
  },
  "language_info": {
   "codemirror_mode": {
    "name": "ipython",
    "version": 2
   },
   "file_extension": ".py",
   "mimetype": "text/x-python",
   "name": "python",
   "nbconvert_exporter": "python",
   "pygments_lexer": "ipython2",
   "version": "2.7.6"
  }
 },
 "nbformat": 4,
 "nbformat_minor": 0
}