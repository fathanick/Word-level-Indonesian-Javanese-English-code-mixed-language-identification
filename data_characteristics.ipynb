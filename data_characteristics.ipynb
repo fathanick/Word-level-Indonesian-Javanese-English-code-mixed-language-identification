{
 "cells": [
  {
   "cell_type": "code",
   "execution_count": 1,
   "metadata": {},
   "outputs": [],
   "source": [
    "import pandas as pd\n",
    "from helper.dataset_reader import read_tsv\n",
    "import nltk\n",
    "import collections"
   ]
  },
  {
   "cell_type": "code",
   "execution_count": 2,
   "metadata": {},
   "outputs": [],
   "source": [
    "data = read_tsv('raw dataset/all-tagged-080422-test-no-ne.tsv')\n",
    "#read_tsv('../dataset/new-tagged-1000.tsv')"
   ]
  },
  {
   "cell_type": "code",
   "execution_count": 3,
   "metadata": {},
   "outputs": [],
   "source": [
    "# data returns multiple values\n",
    "# the following line returns all data, all words, and all tags from the data\n",
    "dt, all_words, all_tags = data"
   ]
  },
  {
   "cell_type": "code",
   "execution_count": 4,
   "metadata": {},
   "outputs": [
    {
     "data": {
      "text/plain": "1010"
     },
     "execution_count": 4,
     "metadata": {},
     "output_type": "execute_result"
    }
   ],
   "source": [
    "# Convert to dataframe [Tweet | Tags]\n",
    "df_tweet_tags = pd.DataFrame(dt, columns=['Tweets','Tags'])\n",
    "df_tweet_tags.head()\n",
    "len(df_tweet_tags)"
   ]
  },
  {
   "cell_type": "code",
   "execution_count": 5,
   "metadata": {},
   "outputs": [
    {
     "name": "stdout",
     "output_type": "stream",
     "text": [
      "Average tweet length:  24.07 tokens\n"
     ]
    }
   ],
   "source": [
    "# Count average sentence length \n",
    "\n",
    "all_tweets = df_tweet_tags['Tweets']\n",
    "sent_length = 0\n",
    "for tweet in all_tweets:\n",
    "    sent_length += len(tweet)\n",
    "\n",
    "avg_sent_length = sent_length/len(all_tweets)\n",
    "print('Average tweet length: ', round(avg_sent_length, 2), 'tokens')"
   ]
  },
  {
   "cell_type": "code",
   "execution_count": 6,
   "metadata": {},
   "outputs": [
    {
     "data": {
      "text/plain": "['ID', 'MIX-ID-EN', 'O', 'EN', 'MIX-JV-EN', 'JV', 'MIX-ID-JV']"
     },
     "execution_count": 6,
     "metadata": {},
     "output_type": "execute_result"
    }
   ],
   "source": [
    "from collections import Counter\n",
    "\n",
    "# get unique tags from the dataset\n",
    "[k for k,v in Counter(all_tags).items()]"
   ]
  },
  {
   "cell_type": "code",
   "execution_count": 13,
   "metadata": {},
   "outputs": [],
   "source": [
    "# create list of tuples from all words and all tags\n",
    "word_tag = list(zip(all_words, all_tags))\n",
    "#print(word_tag)"
   ]
  },
  {
   "cell_type": "code",
   "execution_count": 14,
   "metadata": {},
   "outputs": [
    {
     "data": {
      "text/plain": "          Token      Label\n0          Niat         ID\n1       ngetest  MIX-ID-EN\n2          arus         ID\n3             ,          O\n4      sekarang         ID\n...         ...        ...\n24302   apalagi         ID\n24303       ini         ID\n24304     video         EN\n24305      call         EN\n24306        ~~          O\n\n[24307 rows x 2 columns]",
      "text/html": "<div>\n<style scoped>\n    .dataframe tbody tr th:only-of-type {\n        vertical-align: middle;\n    }\n\n    .dataframe tbody tr th {\n        vertical-align: top;\n    }\n\n    .dataframe thead th {\n        text-align: right;\n    }\n</style>\n<table border=\"1\" class=\"dataframe\">\n  <thead>\n    <tr style=\"text-align: right;\">\n      <th></th>\n      <th>Token</th>\n      <th>Label</th>\n    </tr>\n  </thead>\n  <tbody>\n    <tr>\n      <th>0</th>\n      <td>Niat</td>\n      <td>ID</td>\n    </tr>\n    <tr>\n      <th>1</th>\n      <td>ngetest</td>\n      <td>MIX-ID-EN</td>\n    </tr>\n    <tr>\n      <th>2</th>\n      <td>arus</td>\n      <td>ID</td>\n    </tr>\n    <tr>\n      <th>3</th>\n      <td>,</td>\n      <td>O</td>\n    </tr>\n    <tr>\n      <th>4</th>\n      <td>sekarang</td>\n      <td>ID</td>\n    </tr>\n    <tr>\n      <th>...</th>\n      <td>...</td>\n      <td>...</td>\n    </tr>\n    <tr>\n      <th>24302</th>\n      <td>apalagi</td>\n      <td>ID</td>\n    </tr>\n    <tr>\n      <th>24303</th>\n      <td>ini</td>\n      <td>ID</td>\n    </tr>\n    <tr>\n      <th>24304</th>\n      <td>video</td>\n      <td>EN</td>\n    </tr>\n    <tr>\n      <th>24305</th>\n      <td>call</td>\n      <td>EN</td>\n    </tr>\n    <tr>\n      <th>24306</th>\n      <td>~~</td>\n      <td>O</td>\n    </tr>\n  </tbody>\n</table>\n<p>24307 rows × 2 columns</p>\n</div>"
     },
     "execution_count": 14,
     "metadata": {},
     "output_type": "execute_result"
    }
   ],
   "source": [
    "# convert list to dataframe\n",
    "df_wordtag = pd.DataFrame(word_tag, columns=['Token','Label'])\n",
    "df_wordtag"
   ]
  },
  {
   "cell_type": "code",
   "execution_count": 15,
   "metadata": {},
   "outputs": [
    {
     "data": {
      "text/plain": "24307"
     },
     "execution_count": 15,
     "metadata": {},
     "output_type": "execute_result"
    }
   ],
   "source": [
    "len(word_tag)"
   ]
  },
  {
   "cell_type": "code",
   "execution_count": 16,
   "metadata": {},
   "outputs": [
    {
     "name": "stdout",
     "output_type": "stream",
     "text": [
      "Average token length:  4.6 characters\n"
     ]
    }
   ],
   "source": [
    "all_tokens = df_wordtag['Token']\n",
    "token_length = 0\n",
    "for token in all_tokens:\n",
    "    token_length += len(token)\n",
    "\n",
    "avg_token_length = token_length/len(word_tag)\n",
    "print('Average token length: ', round(avg_token_length, 2), 'characters')"
   ]
  },
  {
   "cell_type": "code",
   "execution_count": 17,
   "metadata": {},
   "outputs": [
    {
     "name": "stdout",
     "output_type": "stream",
     "text": [
      "Number of tokens:  24307\n",
      "Number of unique tokens:  7641\n",
      "Number of tweets:  1010\n"
     ]
    }
   ],
   "source": [
    "# Dataset info\n",
    "\n",
    "num_token = len(df_wordtag)\n",
    "num_of_unique_token = df_wordtag['Token'].nunique()\n",
    "num_tweets = len(dt)\n",
    "\n",
    "print('Number of tokens: ', num_token)\n",
    "print('Number of unique tokens: ', num_of_unique_token)\n",
    "print('Number of tweets: ', num_tweets)"
   ]
  },
  {
   "cell_type": "code",
   "execution_count": 18,
   "metadata": {},
   "outputs": [
    {
     "name": "stdout",
     "output_type": "stream",
     "text": [
      "Number of data per label\n"
     ]
    },
    {
     "data": {
      "text/plain": "ID           11123\nJV            4906\nO             4817\nEN            1747\nNE             674\nMIX-ID-EN      578\nMIX-JV-EN      258\nMIX-ID-JV      204\nName: Label, dtype: int64"
     },
     "execution_count": 18,
     "metadata": {},
     "output_type": "execute_result"
    }
   ],
   "source": [
    "print('Number of data per label')\n",
    "df_wordtag.Label.value_counts()"
   ]
  },
  {
   "cell_type": "code",
   "execution_count": 20,
   "metadata": {},
   "outputs": [
    {
     "name": "stdout",
     "output_type": "stream",
     "text": [
      "CMI:  25.2\n",
      "CMI Mixed:  26.29\n"
     ]
    }
   ],
   "source": [
    "import numpy as np\n",
    "from metrics import code_mix_index\n",
    "\n",
    "cmi_all = []\n",
    "\n",
    "for words, tags in data[0]:\n",
    "    cmi = code_mix_index(tags, ['ID', 'JV', 'EN', 'MIX-JV-EN', 'MIX-ID-JV', 'MIX-ID-EN']) #exclude NE and O tags\n",
    "    cmi_all.append(cmi)\n",
    "\n",
    "cmi_all = np.array(cmi_all)\n",
    "\n",
    "#Compute CMI at the corpus level by averaging the values for all sentences.\n",
    "#CMI all, include 0 score in the data\n",
    "#CMI mixed: only consider data with mix language, exclude tweets with 0 score\n",
    "cmi = np.average(cmi_all) * 100\n",
    "cmi_mixed = np.average(cmi_all[cmi_all > 0]) * 100\n",
    "\n",
    "print('CMI: ', round(cmi, 2)) \n",
    "print('CMI Mixed: ', round(cmi_mixed, 2)) "
   ]
  },
  {
   "cell_type": "code",
   "execution_count": 21,
   "metadata": {},
   "outputs": [],
   "source": [
    "all_tokens = []\n",
    "all_tags = []\n",
    "for tokens, tags in data[0]:\n",
    "    all_tokens.append(tokens)\n",
    "    all_tags.append(tags)"
   ]
  },
  {
   "cell_type": "code",
   "execution_count": 22,
   "metadata": {},
   "outputs": [],
   "source": [
    "# get all ngrams from data\n",
    "all_ngrams = []\n",
    "for taglist in all_tags:\n",
    "    all_ngrams.extend(nltk.ngrams(taglist, 3))\n",
    "\n",
    "#all_ngrams"
   ]
  },
  {
   "cell_type": "code",
   "execution_count": 23,
   "metadata": {},
   "outputs": [],
   "source": [
    "counts = collections.Counter()\n",
    "for taglist in all_tags:\n",
    "    counts.update(nltk.ngrams(taglist, 3))"
   ]
  },
  {
   "cell_type": "code",
   "execution_count": 24,
   "metadata": {},
   "outputs": [],
   "source": [
    "mocom = counts.most_common(30)"
   ]
  },
  {
   "cell_type": "code",
   "execution_count": 25,
   "metadata": {},
   "outputs": [],
   "source": [
    "tag_transition_list = pd.DataFrame(mocom, columns=['Transition','Frequency'])"
   ]
  },
  {
   "cell_type": "code",
   "execution_count": 26,
   "metadata": {
    "pycharm": {
     "name": "#%%\n"
    }
   },
   "outputs": [
    {
     "data": {
      "text/plain": "             Transition  Frequency\n0          (ID, ID, ID)       5285\n1          (JV, JV, JV)       2041\n2           (O, ID, ID)       1293\n3           (ID, ID, O)       1231\n4           (ID, O, ID)        912\n5           (O, JV, JV)        559\n6           (JV, JV, O)        546\n7             (O, O, O)        423\n8          (EN, EN, EN)        380\n9          (ID, ID, EN)        352\n10          (JV, O, JV)        337\n11  (ID, ID, MIX-ID-EN)        316\n12  (ID, MIX-ID-EN, ID)        296\n13           (ID, O, O)        272\n14         (EN, ID, ID)        262\n15  (MIX-ID-EN, ID, ID)        244\n16         (ID, EN, ID)        237\n17           (O, O, ID)        232\n18         (ID, JV, JV)        220\n19         (JV, JV, ID)        207\n20          (EN, O, ID)        156\n21           (O, ID, O)        154\n22         (ID, ID, NE)        150\n23          (EN, EN, O)        150\n24         (ID, ID, JV)        141\n25         (JV, ID, ID)        135\n26          (O, EN, EN)        134\n27          (ID, O, EN)        131\n28           (JV, O, O)        128\n29          (ID, O, JV)        119",
      "text/html": "<div>\n<style scoped>\n    .dataframe tbody tr th:only-of-type {\n        vertical-align: middle;\n    }\n\n    .dataframe tbody tr th {\n        vertical-align: top;\n    }\n\n    .dataframe thead th {\n        text-align: right;\n    }\n</style>\n<table border=\"1\" class=\"dataframe\">\n  <thead>\n    <tr style=\"text-align: right;\">\n      <th></th>\n      <th>Transition</th>\n      <th>Frequency</th>\n    </tr>\n  </thead>\n  <tbody>\n    <tr>\n      <th>0</th>\n      <td>(ID, ID, ID)</td>\n      <td>5285</td>\n    </tr>\n    <tr>\n      <th>1</th>\n      <td>(JV, JV, JV)</td>\n      <td>2041</td>\n    </tr>\n    <tr>\n      <th>2</th>\n      <td>(O, ID, ID)</td>\n      <td>1293</td>\n    </tr>\n    <tr>\n      <th>3</th>\n      <td>(ID, ID, O)</td>\n      <td>1231</td>\n    </tr>\n    <tr>\n      <th>4</th>\n      <td>(ID, O, ID)</td>\n      <td>912</td>\n    </tr>\n    <tr>\n      <th>5</th>\n      <td>(O, JV, JV)</td>\n      <td>559</td>\n    </tr>\n    <tr>\n      <th>6</th>\n      <td>(JV, JV, O)</td>\n      <td>546</td>\n    </tr>\n    <tr>\n      <th>7</th>\n      <td>(O, O, O)</td>\n      <td>423</td>\n    </tr>\n    <tr>\n      <th>8</th>\n      <td>(EN, EN, EN)</td>\n      <td>380</td>\n    </tr>\n    <tr>\n      <th>9</th>\n      <td>(ID, ID, EN)</td>\n      <td>352</td>\n    </tr>\n    <tr>\n      <th>10</th>\n      <td>(JV, O, JV)</td>\n      <td>337</td>\n    </tr>\n    <tr>\n      <th>11</th>\n      <td>(ID, ID, MIX-ID-EN)</td>\n      <td>316</td>\n    </tr>\n    <tr>\n      <th>12</th>\n      <td>(ID, MIX-ID-EN, ID)</td>\n      <td>296</td>\n    </tr>\n    <tr>\n      <th>13</th>\n      <td>(ID, O, O)</td>\n      <td>272</td>\n    </tr>\n    <tr>\n      <th>14</th>\n      <td>(EN, ID, ID)</td>\n      <td>262</td>\n    </tr>\n    <tr>\n      <th>15</th>\n      <td>(MIX-ID-EN, ID, ID)</td>\n      <td>244</td>\n    </tr>\n    <tr>\n      <th>16</th>\n      <td>(ID, EN, ID)</td>\n      <td>237</td>\n    </tr>\n    <tr>\n      <th>17</th>\n      <td>(O, O, ID)</td>\n      <td>232</td>\n    </tr>\n    <tr>\n      <th>18</th>\n      <td>(ID, JV, JV)</td>\n      <td>220</td>\n    </tr>\n    <tr>\n      <th>19</th>\n      <td>(JV, JV, ID)</td>\n      <td>207</td>\n    </tr>\n    <tr>\n      <th>20</th>\n      <td>(EN, O, ID)</td>\n      <td>156</td>\n    </tr>\n    <tr>\n      <th>21</th>\n      <td>(O, ID, O)</td>\n      <td>154</td>\n    </tr>\n    <tr>\n      <th>22</th>\n      <td>(ID, ID, NE)</td>\n      <td>150</td>\n    </tr>\n    <tr>\n      <th>23</th>\n      <td>(EN, EN, O)</td>\n      <td>150</td>\n    </tr>\n    <tr>\n      <th>24</th>\n      <td>(ID, ID, JV)</td>\n      <td>141</td>\n    </tr>\n    <tr>\n      <th>25</th>\n      <td>(JV, ID, ID)</td>\n      <td>135</td>\n    </tr>\n    <tr>\n      <th>26</th>\n      <td>(O, EN, EN)</td>\n      <td>134</td>\n    </tr>\n    <tr>\n      <th>27</th>\n      <td>(ID, O, EN)</td>\n      <td>131</td>\n    </tr>\n    <tr>\n      <th>28</th>\n      <td>(JV, O, O)</td>\n      <td>128</td>\n    </tr>\n    <tr>\n      <th>29</th>\n      <td>(ID, O, JV)</td>\n      <td>119</td>\n    </tr>\n  </tbody>\n</table>\n</div>"
     },
     "execution_count": 26,
     "metadata": {},
     "output_type": "execute_result"
    }
   ],
   "source": [
    "tag_transition_list"
   ]
  }
 ],
 "metadata": {
  "interpreter": {
   "hash": "949777d72b0d2535278d3dc13498b2535136f6dfe0678499012e853ee9abcab1"
  },
  "kernelspec": {
   "display_name": "Python 3.9.6 64-bit",
   "language": "python",
   "name": "python3"
  },
  "language_info": {
   "codemirror_mode": {
    "name": "ipython",
    "version": 3
   },
   "file_extension": ".py",
   "mimetype": "text/x-python",
   "name": "python",
   "nbconvert_exporter": "python",
   "pygments_lexer": "ipython3",
   "version": "3.9.6"
  },
  "orig_nbformat": 4
 },
 "nbformat": 4,
 "nbformat_minor": 2
}