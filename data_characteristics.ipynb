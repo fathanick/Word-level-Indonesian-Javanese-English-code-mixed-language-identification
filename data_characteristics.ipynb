{
 "cells": [
  {
   "cell_type": "code",
   "execution_count": 1,
   "metadata": {},
   "outputs": [],
   "source": [
    "import pandas as pd\n",
    "from helper.dataset_reader import read_tsv\n",
    "import nltk\n",
    "import collections"
   ]
  },
  {
   "cell_type": "code",
   "execution_count": 2,
   "metadata": {},
   "outputs": [],
   "source": [
    "data = read_tsv('raw dataset/all-tagged-090422-merged.tsv')\n",
    "#read_tsv('../dataset/new-tagged-1000.tsv')"
   ]
  },
  {
   "cell_type": "code",
   "execution_count": 3,
   "metadata": {},
   "outputs": [],
   "source": [
    "# data returns multiple values\n",
    "# the following line returns all data, all words, and all tags from the data\n",
    "dt, all_words, all_tags = data"
   ]
  },
  {
   "cell_type": "code",
   "execution_count": 4,
   "metadata": {},
   "outputs": [
    {
     "data": {
      "text/plain": "4233"
     },
     "execution_count": 4,
     "metadata": {},
     "output_type": "execute_result"
    }
   ],
   "source": [
    "# Convert to dataframe [Tweet | Tags]\n",
    "df_tweet_tags = pd.DataFrame(dt, columns=['Tweets','Tags'])\n",
    "df_tweet_tags.head()\n",
    "len(df_tweet_tags)"
   ]
  },
  {
   "cell_type": "code",
   "execution_count": 5,
   "metadata": {},
   "outputs": [
    {
     "name": "stdout",
     "output_type": "stream",
     "text": [
      "Average tweet length:  22.79 tokens\n"
     ]
    }
   ],
   "source": [
    "# Count average sentence length \n",
    "\n",
    "all_tweets = df_tweet_tags['Tweets']\n",
    "sent_length = 0\n",
    "for tweet in all_tweets:\n",
    "    sent_length += len(tweet)\n",
    "\n",
    "avg_sent_length = sent_length/len(all_tweets)\n",
    "print('Average tweet length: ', round(avg_sent_length, 2), 'tokens')"
   ]
  },
  {
   "cell_type": "code",
   "execution_count": 6,
   "metadata": {},
   "outputs": [
    {
     "data": {
      "text/plain": "['ID', 'NE', 'JV', 'EN', 'O', 'MIX-JV-EN', 'MIX-ID-JV', 'MIX-ID-EN']"
     },
     "execution_count": 6,
     "metadata": {},
     "output_type": "execute_result"
    }
   ],
   "source": [
    "from collections import Counter\n",
    "\n",
    "# get unique tags from the dataset\n",
    "[k for k,v in Counter(all_tags).items()]"
   ]
  },
  {
   "cell_type": "code",
   "execution_count": 7,
   "metadata": {},
   "outputs": [],
   "source": [
    "# create list of tuples from all words and all tags\n",
    "word_tag = list(zip(all_words, all_tags))\n",
    "#print(word_tag)"
   ]
  },
  {
   "cell_type": "code",
   "execution_count": 8,
   "metadata": {},
   "outputs": [
    {
     "data": {
      "text/plain": "          Token Label\n0        Tumben    ID\n1            xl    NE\n2        banter    ID\n3            go    JV\n4      download    EN\n...         ...   ...\n96471   apalagi    ID\n96472       ini    ID\n96473     video    EN\n96474      call    EN\n96475        ~~     O\n\n[96476 rows x 2 columns]",
      "text/html": "<div>\n<style scoped>\n    .dataframe tbody tr th:only-of-type {\n        vertical-align: middle;\n    }\n\n    .dataframe tbody tr th {\n        vertical-align: top;\n    }\n\n    .dataframe thead th {\n        text-align: right;\n    }\n</style>\n<table border=\"1\" class=\"dataframe\">\n  <thead>\n    <tr style=\"text-align: right;\">\n      <th></th>\n      <th>Token</th>\n      <th>Label</th>\n    </tr>\n  </thead>\n  <tbody>\n    <tr>\n      <th>0</th>\n      <td>Tumben</td>\n      <td>ID</td>\n    </tr>\n    <tr>\n      <th>1</th>\n      <td>xl</td>\n      <td>NE</td>\n    </tr>\n    <tr>\n      <th>2</th>\n      <td>banter</td>\n      <td>ID</td>\n    </tr>\n    <tr>\n      <th>3</th>\n      <td>go</td>\n      <td>JV</td>\n    </tr>\n    <tr>\n      <th>4</th>\n      <td>download</td>\n      <td>EN</td>\n    </tr>\n    <tr>\n      <th>...</th>\n      <td>...</td>\n      <td>...</td>\n    </tr>\n    <tr>\n      <th>96471</th>\n      <td>apalagi</td>\n      <td>ID</td>\n    </tr>\n    <tr>\n      <th>96472</th>\n      <td>ini</td>\n      <td>ID</td>\n    </tr>\n    <tr>\n      <th>96473</th>\n      <td>video</td>\n      <td>EN</td>\n    </tr>\n    <tr>\n      <th>96474</th>\n      <td>call</td>\n      <td>EN</td>\n    </tr>\n    <tr>\n      <th>96475</th>\n      <td>~~</td>\n      <td>O</td>\n    </tr>\n  </tbody>\n</table>\n<p>96476 rows × 2 columns</p>\n</div>"
     },
     "execution_count": 8,
     "metadata": {},
     "output_type": "execute_result"
    }
   ],
   "source": [
    "# convert list to dataframe\n",
    "df_wordtag = pd.DataFrame(word_tag, columns=['Token','Label'])\n",
    "df_wordtag"
   ]
  },
  {
   "cell_type": "code",
   "execution_count": 9,
   "metadata": {},
   "outputs": [
    {
     "data": {
      "text/plain": "96476"
     },
     "execution_count": 9,
     "metadata": {},
     "output_type": "execute_result"
    }
   ],
   "source": [
    "len(word_tag)"
   ]
  },
  {
   "cell_type": "code",
   "execution_count": 10,
   "metadata": {},
   "outputs": [
    {
     "name": "stdout",
     "output_type": "stream",
     "text": [
      "Average token length:  4.64 characters\n"
     ]
    }
   ],
   "source": [
    "all_tokens = df_wordtag['Token']\n",
    "token_length = 0\n",
    "for token in all_tokens:\n",
    "    token_length += len(token)\n",
    "\n",
    "avg_token_length = token_length/len(word_tag)\n",
    "print('Average token length: ', round(avg_token_length, 2), 'characters')"
   ]
  },
  {
   "cell_type": "code",
   "execution_count": 11,
   "metadata": {},
   "outputs": [
    {
     "name": "stdout",
     "output_type": "stream",
     "text": [
      "Number of tokens:  96476\n",
      "Number of unique tokens:  21551\n",
      "Number of tweets:  4233\n"
     ]
    }
   ],
   "source": [
    "# Dataset info\n",
    "\n",
    "num_token = len(df_wordtag)\n",
    "num_of_unique_token = df_wordtag['Token'].nunique()\n",
    "num_tweets = len(dt)\n",
    "\n",
    "print('Number of tokens: ', num_token)\n",
    "print('Number of unique tokens: ', num_of_unique_token)\n",
    "print('Number of tweets: ', num_tweets)"
   ]
  },
  {
   "cell_type": "code",
   "execution_count": 12,
   "metadata": {},
   "outputs": [
    {
     "name": "stdout",
     "output_type": "stream",
     "text": [
      "Number of data per label\n"
     ]
    },
    {
     "data": {
      "text/plain": "ID           49129\nO            19316\nJV           13824\nEN            6623\nNE            3286\nMIX-ID-EN     2685\nMIX-ID-JV      830\nMIX-JV-EN      783\nName: Label, dtype: int64"
     },
     "execution_count": 12,
     "metadata": {},
     "output_type": "execute_result"
    }
   ],
   "source": [
    "print('Number of data per label')\n",
    "df_wordtag.Label.value_counts()"
   ]
  },
  {
   "cell_type": "code",
   "execution_count": 13,
   "metadata": {},
   "outputs": [
    {
     "name": "stdout",
     "output_type": "stream",
     "text": [
      "CMI:  23.69\n",
      "CMI Mixed:  24.35\n"
     ]
    }
   ],
   "source": [
    "import numpy as np\n",
    "from helper.metrics import code_mix_index\n",
    "\n",
    "cmi_all = []\n",
    "\n",
    "for words, tags in data[0]:\n",
    "    cmi = code_mix_index(tags, ['ID', 'JV', 'EN', 'MIX-JV-EN', 'MIX-ID-JV', 'MIX-ID-EN']) #exclude NE and O tags\n",
    "    cmi_all.append(cmi)\n",
    "\n",
    "cmi_all = np.array(cmi_all)\n",
    "\n",
    "#Compute CMI at the corpus level by averaging the values for all sentences.\n",
    "#CMI all, include 0 score in the data\n",
    "#CMI mixed: only consider data with mix language, exclude tweets with 0 score\n",
    "cmi = np.average(cmi_all) * 100\n",
    "cmi_mixed = np.average(cmi_all[cmi_all > 0]) * 100\n",
    "\n",
    "print('CMI: ', round(cmi, 2)) \n",
    "print('CMI Mixed: ', round(cmi_mixed, 2)) "
   ]
  },
  {
   "cell_type": "code",
   "execution_count": 14,
   "metadata": {},
   "outputs": [],
   "source": [
    "all_tokens = []\n",
    "all_tags = []\n",
    "for tokens, tags in data[0]:\n",
    "    all_tokens.append(tokens)\n",
    "    all_tags.append(tags)"
   ]
  },
  {
   "cell_type": "code",
   "execution_count": 15,
   "metadata": {},
   "outputs": [],
   "source": [
    "# get all ngrams from data\n",
    "all_ngrams = []\n",
    "for taglist in all_tags:\n",
    "    all_ngrams.extend(nltk.ngrams(taglist, 3))\n",
    "\n",
    "#all_ngrams"
   ]
  },
  {
   "cell_type": "code",
   "execution_count": 16,
   "metadata": {},
   "outputs": [],
   "source": [
    "counts = collections.Counter()\n",
    "for taglist in all_tags:\n",
    "    counts.update(nltk.ngrams(taglist, 3))"
   ]
  },
  {
   "cell_type": "code",
   "execution_count": 17,
   "metadata": {},
   "outputs": [],
   "source": [
    "mocom = counts.most_common(30)"
   ]
  },
  {
   "cell_type": "code",
   "execution_count": 18,
   "metadata": {},
   "outputs": [],
   "source": [
    "tag_transition_list = pd.DataFrame(mocom, columns=['Transition','Frequency'])"
   ]
  },
  {
   "cell_type": "code",
   "execution_count": 19,
   "metadata": {
    "pycharm": {
     "name": "#%%\n"
    }
   },
   "outputs": [
    {
     "data": {
      "text/plain": "             Transition  Frequency\n0          (ID, ID, ID)      22186\n1           (O, ID, ID)       5774\n2           (ID, ID, O)       5347\n3          (JV, JV, JV)       4842\n4           (ID, O, ID)       4269\n5          (ID, ID, EN)       1815\n6             (O, O, O)       1723\n7           (O, JV, JV)       1590\n8           (JV, JV, O)       1475\n9   (ID, ID, MIX-ID-EN)       1427\n10  (ID, MIX-ID-EN, ID)       1394\n11         (EN, ID, ID)       1381\n12         (ID, EN, ID)       1367\n13  (MIX-ID-EN, ID, ID)       1187\n14           (ID, O, O)       1106\n15           (O, O, ID)        984\n16         (ID, ID, NE)        962\n17         (EN, EN, EN)        941\n18          (JV, O, JV)        922\n19         (NE, ID, ID)        831\n20           (O, ID, O)        745\n21         (ID, NE, ID)        729\n22         (ID, JV, JV)        682\n23         (JV, JV, ID)        661\n24          (EN, O, ID)        601\n25         (ID, ID, JV)        524\n26          (ID, EN, O)        523\n27         (JV, ID, ID)        499\n28   (ID, MIX-ID-EN, O)        465\n29         (ID, EN, EN)        458",
      "text/html": "<div>\n<style scoped>\n    .dataframe tbody tr th:only-of-type {\n        vertical-align: middle;\n    }\n\n    .dataframe tbody tr th {\n        vertical-align: top;\n    }\n\n    .dataframe thead th {\n        text-align: right;\n    }\n</style>\n<table border=\"1\" class=\"dataframe\">\n  <thead>\n    <tr style=\"text-align: right;\">\n      <th></th>\n      <th>Transition</th>\n      <th>Frequency</th>\n    </tr>\n  </thead>\n  <tbody>\n    <tr>\n      <th>0</th>\n      <td>(ID, ID, ID)</td>\n      <td>22186</td>\n    </tr>\n    <tr>\n      <th>1</th>\n      <td>(O, ID, ID)</td>\n      <td>5774</td>\n    </tr>\n    <tr>\n      <th>2</th>\n      <td>(ID, ID, O)</td>\n      <td>5347</td>\n    </tr>\n    <tr>\n      <th>3</th>\n      <td>(JV, JV, JV)</td>\n      <td>4842</td>\n    </tr>\n    <tr>\n      <th>4</th>\n      <td>(ID, O, ID)</td>\n      <td>4269</td>\n    </tr>\n    <tr>\n      <th>5</th>\n      <td>(ID, ID, EN)</td>\n      <td>1815</td>\n    </tr>\n    <tr>\n      <th>6</th>\n      <td>(O, O, O)</td>\n      <td>1723</td>\n    </tr>\n    <tr>\n      <th>7</th>\n      <td>(O, JV, JV)</td>\n      <td>1590</td>\n    </tr>\n    <tr>\n      <th>8</th>\n      <td>(JV, JV, O)</td>\n      <td>1475</td>\n    </tr>\n    <tr>\n      <th>9</th>\n      <td>(ID, ID, MIX-ID-EN)</td>\n      <td>1427</td>\n    </tr>\n    <tr>\n      <th>10</th>\n      <td>(ID, MIX-ID-EN, ID)</td>\n      <td>1394</td>\n    </tr>\n    <tr>\n      <th>11</th>\n      <td>(EN, ID, ID)</td>\n      <td>1381</td>\n    </tr>\n    <tr>\n      <th>12</th>\n      <td>(ID, EN, ID)</td>\n      <td>1367</td>\n    </tr>\n    <tr>\n      <th>13</th>\n      <td>(MIX-ID-EN, ID, ID)</td>\n      <td>1187</td>\n    </tr>\n    <tr>\n      <th>14</th>\n      <td>(ID, O, O)</td>\n      <td>1106</td>\n    </tr>\n    <tr>\n      <th>15</th>\n      <td>(O, O, ID)</td>\n      <td>984</td>\n    </tr>\n    <tr>\n      <th>16</th>\n      <td>(ID, ID, NE)</td>\n      <td>962</td>\n    </tr>\n    <tr>\n      <th>17</th>\n      <td>(EN, EN, EN)</td>\n      <td>941</td>\n    </tr>\n    <tr>\n      <th>18</th>\n      <td>(JV, O, JV)</td>\n      <td>922</td>\n    </tr>\n    <tr>\n      <th>19</th>\n      <td>(NE, ID, ID)</td>\n      <td>831</td>\n    </tr>\n    <tr>\n      <th>20</th>\n      <td>(O, ID, O)</td>\n      <td>745</td>\n    </tr>\n    <tr>\n      <th>21</th>\n      <td>(ID, NE, ID)</td>\n      <td>729</td>\n    </tr>\n    <tr>\n      <th>22</th>\n      <td>(ID, JV, JV)</td>\n      <td>682</td>\n    </tr>\n    <tr>\n      <th>23</th>\n      <td>(JV, JV, ID)</td>\n      <td>661</td>\n    </tr>\n    <tr>\n      <th>24</th>\n      <td>(EN, O, ID)</td>\n      <td>601</td>\n    </tr>\n    <tr>\n      <th>25</th>\n      <td>(ID, ID, JV)</td>\n      <td>524</td>\n    </tr>\n    <tr>\n      <th>26</th>\n      <td>(ID, EN, O)</td>\n      <td>523</td>\n    </tr>\n    <tr>\n      <th>27</th>\n      <td>(JV, ID, ID)</td>\n      <td>499</td>\n    </tr>\n    <tr>\n      <th>28</th>\n      <td>(ID, MIX-ID-EN, O)</td>\n      <td>465</td>\n    </tr>\n    <tr>\n      <th>29</th>\n      <td>(ID, EN, EN)</td>\n      <td>458</td>\n    </tr>\n  </tbody>\n</table>\n</div>"
     },
     "execution_count": 19,
     "metadata": {},
     "output_type": "execute_result"
    }
   ],
   "source": [
    "tag_transition_list"
   ]
  }
 ],
 "metadata": {
  "interpreter": {
   "hash": "949777d72b0d2535278d3dc13498b2535136f6dfe0678499012e853ee9abcab1"
  },
  "kernelspec": {
   "display_name": "Python 3.9.6 64-bit",
   "language": "python",
   "name": "python3"
  },
  "language_info": {
   "codemirror_mode": {
    "name": "ipython",
    "version": 3
   },
   "file_extension": ".py",
   "mimetype": "text/x-python",
   "name": "python",
   "nbconvert_exporter": "python",
   "pygments_lexer": "ipython3",
   "version": "3.9.6"
  },
  "orig_nbformat": 4
 },
 "nbformat": 4,
 "nbformat_minor": 2
}