{
 "cells": [
  {
   "cell_type": "markdown",
   "source": [
    "## Exp 1"
   ],
   "metadata": {
    "collapsed": false
   }
  },
  {
   "cell_type": "code",
   "execution_count": 1,
   "metadata": {
    "collapsed": true
   },
   "outputs": [],
   "source": [
    "data = [['satu','c1'],\n",
    "\t\t['one','c2'],\n",
    "\t\t['dua','c1'],\n",
    "\t\t['empat','c1'],\n",
    "\t\t['two','c2'],\n",
    "\t\t['four','c2'],\n",
    "\t\t['lima','c1'],\n",
    "\t\t['enam','c1'],\n",
    "\t\t['three','c2'],\n",
    "\t\t['five','c2'],\n",
    "\t\t['siji','c3'],\n",
    "\t\t['loro','c3'],\n",
    "\t\t['telu','c3'],\n",
    "\t\t['six','c2'],\n",
    "\t\t['tujuh','c1'],\n",
    "\t\t['papat','c3'],\n",
    "\t\t['seven','c2'],\n",
    "\t\t['delapan','c1'],\n",
    "\t\t['limo','c3'],\n",
    "\t\t['eight','c2']]"
   ]
  },
  {
   "cell_type": "code",
   "execution_count": 2,
   "outputs": [
    {
     "data": {
      "text/plain": "20"
     },
     "execution_count": 2,
     "metadata": {},
     "output_type": "execute_result"
    }
   ],
   "source": [
    "len(data)"
   ],
   "metadata": {
    "collapsed": false,
    "pycharm": {
     "name": "#%%\n"
    }
   }
  },
  {
   "cell_type": "code",
   "execution_count": 3,
   "outputs": [
    {
     "data": {
      "text/plain": "[['siji', 'c3'],\n ['loro', 'c3'],\n ['telu', 'c3'],\n ['six', 'c2'],\n ['tujuh', 'c1'],\n ['papat', 'c3'],\n ['seven', 'c2'],\n ['delapan', 'c1'],\n ['limo', 'c3'],\n ['eight', 'c2']]"
     },
     "execution_count": 3,
     "metadata": {},
     "output_type": "execute_result"
    }
   ],
   "source": [
    "data[10:]"
   ],
   "metadata": {
    "collapsed": false,
    "pycharm": {
     "name": "#%%\n"
    }
   }
  },
  {
   "cell_type": "code",
   "execution_count": 4,
   "outputs": [],
   "source": [
    "X = [item[0] for item in data]\n",
    "y = [item[1] for item in data]"
   ],
   "metadata": {
    "collapsed": false,
    "pycharm": {
     "name": "#%%\n"
    }
   }
  },
  {
   "cell_type": "code",
   "execution_count": 5,
   "outputs": [
    {
     "name": "stdout",
     "output_type": "stream",
     "text": [
      "['satu', 'one', 'dua', 'empat', 'two', 'four', 'lima', 'enam', 'three', 'five', 'siji', 'loro', 'telu', 'six', 'tujuh', 'papat', 'seven', 'delapan', 'limo', 'eight']\n",
      "['c1', 'c2', 'c1', 'c1', 'c2', 'c2', 'c1', 'c1', 'c2', 'c2', 'c3', 'c3', 'c3', 'c2', 'c1', 'c3', 'c2', 'c1', 'c3', 'c2']\n"
     ]
    }
   ],
   "source": [
    "print(X)\n",
    "print(y)"
   ],
   "metadata": {
    "collapsed": false,
    "pycharm": {
     "name": "#%%\n"
    }
   }
  },
  {
   "cell_type": "code",
   "execution_count": 6,
   "outputs": [
    {
     "name": "stdout",
     "output_type": "stream",
     "text": [
      "[('eight', 'c2'), ('satu', 'c1'), ('siji', 'c3'), ('two', 'c2'), ('delapan', 'c1'), ('five', 'c2'), ('empat', 'c1'), ('limo', 'c3'), ('papat', 'c3'), ('four', 'c2'), ('dua', 'c1'), ('three', 'c2')]\n",
      "\n",
      "\n",
      "[('tujuh', 'c1'), ('one', 'c2'), ('seven', 'c2'), ('enam', 'c1'), ('telu', 'c3'), ('loro', 'c3'), ('six', 'c2'), ('lima', 'c1')]\n"
     ]
    }
   ],
   "source": [
    "from sklearn.model_selection import train_test_split\n",
    "\n",
    "X_train, X_test, y_train, y_test = train_test_split(X, y, test_size=0.4, random_state=1, stratify=y, shuffle=True)\n",
    "print(list(zip(X_train, y_train)))\n",
    "print('\\n')\n",
    "print(list(zip(X_test, y_test)))\n"
   ],
   "metadata": {
    "collapsed": false,
    "pycharm": {
     "name": "#%%\n"
    }
   }
  },
  {
   "cell_type": "code",
   "execution_count": 7,
   "outputs": [
    {
     "name": "stdout",
     "output_type": "stream",
     "text": [
      "Train data: [('c1', 4), ('c2', 5), ('c3', 3)]\n",
      "Test data: [('c1', 3), ('c2', 3), ('c3', 2)]\n"
     ]
    }
   ],
   "source": [
    "import numpy as np\n",
    "\n",
    "val_y_train, count_y_train = np.unique(y_train, return_counts=True)\n",
    "val_y_test, count_y_test = np.unique(y_test, return_counts=True)\n",
    "print('Train data:', list(zip(val_y_train, count_y_train)))\n",
    "print('Test data:', list(zip(val_y_test, count_y_test)))\n"
   ],
   "metadata": {
    "collapsed": false,
    "pycharm": {
     "name": "#%%\n"
    }
   }
  },
  {
   "cell_type": "markdown",
   "source": [
    "## Exp 2"
   ],
   "metadata": {
    "collapsed": false
   }
  },
  {
   "cell_type": "code",
   "execution_count": 8,
   "outputs": [],
   "source": [
    "train = [['satu','c1'],\n",
    "\t\t['one','c2'],\n",
    "\t\t['dua','c1'],\n",
    "\t\t['empat','c1'],\n",
    "\t\t['two','c2'],\n",
    "\t\t['four','c2'],\n",
    "\t\t['lima','c1'],\n",
    "\t\t['enam','c1'],\n",
    "\t\t['three','c2'],\n",
    "\t\t['five','c2'],\n",
    "\t\t['siji','c3'],\n",
    "\t\t['loro','c3']]\n",
    "\n",
    "test = [['telu','c3'],\n",
    "\t\t['six','c2'],\n",
    "\t\t['tujuh','c1'],\n",
    "\t\t['papat','c3'],\n",
    "\t\t['seven','c2'],\n",
    "\t\t['delapan','c1'],\n",
    "\t\t['limo','c3'],\n",
    "\t\t['eight','c2']]"
   ],
   "metadata": {
    "collapsed": false,
    "pycharm": {
     "name": "#%%\n"
    }
   }
  },
  {
   "cell_type": "code",
   "execution_count": 8,
   "outputs": [],
   "source": [],
   "metadata": {
    "collapsed": false,
    "pycharm": {
     "name": "#%%\n"
    }
   }
  }
 ],
 "metadata": {
  "kernelspec": {
   "display_name": "Python 3",
   "language": "python",
   "name": "python3"
  },
  "language_info": {
   "codemirror_mode": {
    "name": "ipython",
    "version": 2
   },
   "file_extension": ".py",
   "mimetype": "text/x-python",
   "name": "python",
   "nbconvert_exporter": "python",
   "pygments_lexer": "ipython2",
   "version": "2.7.6"
  }
 },
 "nbformat": 4,
 "nbformat_minor": 0
}