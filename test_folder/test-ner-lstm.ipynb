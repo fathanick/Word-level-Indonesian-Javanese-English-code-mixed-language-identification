{
 "cells": [
  {
   "cell_type": "code",
   "execution_count": 1,
   "metadata": {
    "collapsed": true
   },
   "outputs": [
    {
     "name": "stdout",
     "output_type": "stream",
     "text": [
      "Tensorflow version: 2.5.0\n",
      "GPU detected: []\n"
     ]
    }
   ],
   "source": [
    "%matplotlib inline\n",
    "import matplotlib.pyplot as plt\n",
    "import pandas as pd\n",
    "import numpy as np\n",
    "np.random.seed(0)\n",
    "plt.style.use(\"ggplot\")\n",
    "\n",
    "import tensorflow as tf\n",
    "print('Tensorflow version:', tf.__version__)\n",
    "print('GPU detected:', tf.config.list_physical_devices('GPU'))"
   ]
  },
  {
   "cell_type": "code",
   "execution_count": 2,
   "outputs": [
    {
     "data": {
      "text/plain": "    Sentence #           Word  POS Tag\n0  Sentence: 1      Thousands  NNS   O\n1  Sentence: 1             of   IN   O\n2  Sentence: 1  demonstrators  NNS   O\n3  Sentence: 1           have  VBP   O\n4  Sentence: 1        marched  VBN   O",
      "text/html": "<div>\n<style scoped>\n    .dataframe tbody tr th:only-of-type {\n        vertical-align: middle;\n    }\n\n    .dataframe tbody tr th {\n        vertical-align: top;\n    }\n\n    .dataframe thead th {\n        text-align: right;\n    }\n</style>\n<table border=\"1\" class=\"dataframe\">\n  <thead>\n    <tr style=\"text-align: right;\">\n      <th></th>\n      <th>Sentence #</th>\n      <th>Word</th>\n      <th>POS</th>\n      <th>Tag</th>\n    </tr>\n  </thead>\n  <tbody>\n    <tr>\n      <th>0</th>\n      <td>Sentence: 1</td>\n      <td>Thousands</td>\n      <td>NNS</td>\n      <td>O</td>\n    </tr>\n    <tr>\n      <th>1</th>\n      <td>Sentence: 1</td>\n      <td>of</td>\n      <td>IN</td>\n      <td>O</td>\n    </tr>\n    <tr>\n      <th>2</th>\n      <td>Sentence: 1</td>\n      <td>demonstrators</td>\n      <td>NNS</td>\n      <td>O</td>\n    </tr>\n    <tr>\n      <th>3</th>\n      <td>Sentence: 1</td>\n      <td>have</td>\n      <td>VBP</td>\n      <td>O</td>\n    </tr>\n    <tr>\n      <th>4</th>\n      <td>Sentence: 1</td>\n      <td>marched</td>\n      <td>VBN</td>\n      <td>O</td>\n    </tr>\n  </tbody>\n</table>\n</div>"
     },
     "execution_count": 2,
     "metadata": {},
     "output_type": "execute_result"
    }
   ],
   "source": [
    "data = pd.read_csv(\"ner_dataset.csv\", encoding=\"latin1\")\n",
    "data = data.fillna(method=\"ffill\")\n",
    "data.head(5)"
   ],
   "metadata": {
    "collapsed": false,
    "pycharm": {
     "name": "#%%\n"
    }
   }
  },
  {
   "cell_type": "code",
   "execution_count": 3,
   "outputs": [
    {
     "name": "stdout",
     "output_type": "stream",
     "text": [
      "Unique words in corpus: 35178\n",
      "Unique tags in corpus: 17\n"
     ]
    }
   ],
   "source": [
    "print(\"Unique words in corpus:\", data['Word'].nunique())\n",
    "print(\"Unique tags in corpus:\", data['Tag'].nunique())"
   ],
   "metadata": {
    "collapsed": false,
    "pycharm": {
     "name": "#%%\n"
    }
   }
  },
  {
   "cell_type": "code",
   "execution_count": 4,
   "outputs": [],
   "source": [
    "words = list(set(data[\"Word\"].values))\n",
    "words.append(\"ENDPAD\")\n",
    "num_words = len(words)"
   ],
   "metadata": {
    "collapsed": false,
    "pycharm": {
     "name": "#%%\n"
    }
   }
  },
  {
   "cell_type": "code",
   "execution_count": 5,
   "outputs": [],
   "source": [
    "tags = list(set(data[\"Tag\"].values))\n",
    "num_tags = len(tags)"
   ],
   "metadata": {
    "collapsed": false,
    "pycharm": {
     "name": "#%%\n"
    }
   }
  },
  {
   "cell_type": "code",
   "execution_count": 6,
   "outputs": [],
   "source": [
    "class SentenceGetter(object):\n",
    "    def __init__(self, data):\n",
    "        self.n_sent = 1\n",
    "        self.data = data\n",
    "        self.empty = False\n",
    "        agg_func = lambda s: [(w, p, t) for w, p, t in zip(s[\"Word\"].values.tolist(),\n",
    "                                                           s[\"POS\"].values.tolist(),\n",
    "                                                           s[\"Tag\"].values.tolist())]\n",
    "        self.grouped = self.data.groupby(\"Sentence #\").apply(agg_func)\n",
    "        self.sentences = [s for s in self.grouped]\n",
    "\n",
    "    def get_next(self):\n",
    "        try:\n",
    "            s = self.grouped[\"Sentence: {}\".format(self.n_sent)]\n",
    "            self.n_sent += 1\n",
    "            return s\n",
    "        except:\n",
    "            return None"
   ],
   "metadata": {
    "collapsed": false,
    "pycharm": {
     "name": "#%%\n"
    }
   }
  },
  {
   "cell_type": "code",
   "execution_count": 7,
   "outputs": [],
   "source": [
    "getter = SentenceGetter(data)\n",
    "sentences = getter.sentences"
   ],
   "metadata": {
    "collapsed": false,
    "pycharm": {
     "name": "#%%\n"
    }
   }
  },
  {
   "cell_type": "code",
   "execution_count": 8,
   "outputs": [
    {
     "data": {
      "text/plain": "[('Thousands', 'NNS', 'O'),\n ('of', 'IN', 'O'),\n ('demonstrators', 'NNS', 'O'),\n ('have', 'VBP', 'O'),\n ('marched', 'VBN', 'O'),\n ('through', 'IN', 'O'),\n ('London', 'NNP', 'B-geo'),\n ('to', 'TO', 'O'),\n ('protest', 'VB', 'O'),\n ('the', 'DT', 'O'),\n ('war', 'NN', 'O'),\n ('in', 'IN', 'O'),\n ('Iraq', 'NNP', 'B-geo'),\n ('and', 'CC', 'O'),\n ('demand', 'VB', 'O'),\n ('the', 'DT', 'O'),\n ('withdrawal', 'NN', 'O'),\n ('of', 'IN', 'O'),\n ('British', 'JJ', 'B-gpe'),\n ('troops', 'NNS', 'O'),\n ('from', 'IN', 'O'),\n ('that', 'DT', 'O'),\n ('country', 'NN', 'O'),\n ('.', '.', 'O')]"
     },
     "execution_count": 8,
     "metadata": {},
     "output_type": "execute_result"
    }
   ],
   "source": [
    "sentences[0]"
   ],
   "metadata": {
    "collapsed": false,
    "pycharm": {
     "name": "#%%\n"
    }
   }
  },
  {
   "cell_type": "code",
   "execution_count": 9,
   "outputs": [],
   "source": [
    "word2idx = {w: i + 1 for i, w in enumerate(words)}\n",
    "tag2idx = {t: i for i, t in enumerate(tags)}"
   ],
   "metadata": {
    "collapsed": false,
    "pycharm": {
     "name": "#%%\n"
    }
   }
  },
  {
   "cell_type": "code",
   "execution_count": 10,
   "outputs": [
    {
     "data": {
      "text/plain": "{'discomfort': 1,\n 'parents': 2,\n 'deport': 3,\n 'cross-strait': 4,\n 'Jim': 5,\n 'jump-start': 6,\n 'attached': 7,\n 'investigation': 8,\n 'MInister': 9,\n 'Taifi': 10,\n 'Mainland': 11,\n 'median': 12,\n 'fiercer': 13,\n 'enroute': 14,\n 'Yi': 15,\n 'prehistoric': 16,\n 'hauls': 17,\n 'garrison': 18,\n '1,32,000': 19,\n 'export-driven': 20,\n 'Valparaiso': 21,\n 'contingency': 22,\n 'dangers': 23,\n 'Lebanon': 24,\n 'Shakes': 25,\n 'Clinton': 26,\n 'repeated': 27,\n 'Sevilla': 28,\n 'current': 29,\n 'inbalance': 30,\n 'notes': 31,\n 'post-genocide': 32,\n '261': 33,\n 'Half': 34,\n 'feud': 35,\n 'Shots': 36,\n 'stemming': 37,\n 'Altria': 38,\n '3,04,569': 39,\n 'assumption': 40,\n 'Blueberry': 41,\n 'purports': 42,\n 'regrettable': 43,\n 'box': 44,\n 'jaws': 45,\n 'Khabarovsk': 46,\n 'Bank': 47,\n 'Balkenende': 48,\n 'Computer': 49,\n '216': 50,\n '21-month-old': 51,\n 'Paulino': 52,\n 'voluntarily': 53,\n 'Industrial': 54,\n 'discriminated': 55,\n '207.5': 56,\n 'dues': 57,\n 'apiece': 58,\n 'Las': 59,\n 'Yair': 60,\n 'coffin': 61,\n 'dipped': 62,\n 'classify': 63,\n 'brushing': 64,\n 'educational': 65,\n 'York': 66,\n 'Noaman': 67,\n '6,500-strong': 68,\n 'unconstitutional': 69,\n 'Senegal-based': 70,\n 'Panamanian': 71,\n 'necks': 72,\n 'slept': 73,\n 'register': 74,\n 'hung': 75,\n 'brand': 76,\n 'Tommy': 77,\n '141': 78,\n 'Roswell': 79,\n '5-0': 80,\n 'alias': 81,\n 'watchful': 82,\n 'SEEING': 83,\n 'MENA': 84,\n 'de-facto': 85,\n 'stage': 86,\n '2.11.37': 87,\n '1830': 88,\n 'inaugurate': 89,\n 'trucks': 90,\n 'bible': 91,\n 'archery': 92,\n 'Jabril': 93,\n 'elderly': 94,\n 'vary': 95,\n 'Gaza-based': 96,\n 'flourished': 97,\n 'stepped-up': 98,\n 'JEM': 99,\n 'Naha': 100,\n 'seek': 101,\n 'productivity': 102,\n 'al-Watan': 103,\n 'consists': 104,\n 'implies': 105,\n 'return': 106,\n 'Wetlands': 107,\n 'GROOM': 108,\n 'CASTRO': 109,\n 'Maria': 110,\n 'prevents': 111,\n 'SUU': 112,\n 'skied': 113,\n 'al-Khalayleh': 114,\n 'dancers': 115,\n 'Debt-driven': 116,\n 'melt': 117,\n 'importer': 118,\n 'Platon': 119,\n 'Korans': 120,\n 'self-ruled': 121,\n 'Latin': 122,\n '8.30': 123,\n 'Sinn': 124,\n '6-0': 125,\n 'Festival': 126,\n 'Viceroyalty': 127,\n 'franchises': 128,\n 'Cypriots': 129,\n 'grabs': 130,\n 'Poti': 131,\n '1719': 132,\n 'Morgenthau': 133,\n 'Mubarak': 134,\n 'Salih': 135,\n 'directives': 136,\n 'detection': 137,\n 'Weisfield': 138,\n 'strongmen': 139,\n 'maintain': 140,\n 'prove': 141,\n 'fed': 142,\n 'Photographs': 143,\n 'faction-ridden': 144,\n 'Tassos': 145,\n 'Muhammad': 146,\n 'feed': 147,\n '256-AD': 148,\n 'commandeered': 149,\n 'circumventing': 150,\n 'Meza': 151,\n 'Ginepri': 152,\n 'render': 153,\n 'Catalonians': 154,\n 'crucial': 155,\n 'hamstrung': 156,\n 'anti-AIDS': 157,\n 'flavinols': 158,\n 'vials': 159,\n 'Lancet': 160,\n 'laborer': 161,\n 'Media': 162,\n 'instructional': 163,\n 'al-Mahdi': 164,\n 'defaulted': 165,\n 'Moradi': 166,\n ',': 167,\n 'lays': 168,\n 'traditionally': 169,\n 'Taupin': 170,\n 'desecration': 171,\n 'English': 172,\n 'Business': 173,\n 'anti-Taliban': 174,\n 'registry': 175,\n 'Ambareesh': 176,\n 'Phosphate': 177,\n 'staggering': 178,\n 'all-Spanish': 179,\n 'presidencies': 180,\n 'cart': 181,\n 'Lome': 182,\n 'unjustified': 183,\n 'Arbab': 184,\n 'worthless': 185,\n 'Ahmad': 186,\n 'dioxin': 187,\n 'asylum-seekers': 188,\n 'dismissals': 189,\n 'separately': 190,\n 'minimized': 191,\n 'Ms.': 192,\n '107.41': 193,\n 'Schudrich': 194,\n 'Maashouq': 195,\n 'Khobar': 196,\n 'Restore': 197,\n 'Zhvania': 198,\n 'square-meter': 199,\n 'Joe': 200,\n 'firmly': 201,\n 'Saddamists': 202,\n 'Anatolianews': 203,\n 'possessing': 204,\n 'Durham': 205,\n 'Abercrombie': 206,\n 'Peterson': 207,\n 'Eritrea': 208,\n 'Sonata': 209,\n 'Soh': 210,\n 'prescriptions': 211,\n 'cane': 212,\n 'oil-': 213,\n 'Novakatka': 214,\n 'talked': 215,\n 'Poles': 216,\n 'typhoons': 217,\n 'Frenk': 218,\n 'Haroon': 219,\n 'blocking': 220,\n 'G-7': 221,\n 'Ivorian': 222,\n 'scratched': 223,\n 'close-ally': 224,\n 'recently-halted': 225,\n 'Blumenthal': 226,\n 'Colchis': 227,\n '10.8': 228,\n 'moment': 229,\n 'southerners': 230,\n 'propped': 231,\n 'Carl': 232,\n 'spraying': 233,\n 'sci-fi': 234,\n 'publicist': 235,\n 'pricked': 236,\n 'Merk': 237,\n 'lipstick': 238,\n '60th': 239,\n 'pressuring': 240,\n 'Akhund': 241,\n 'Stephen': 242,\n 'Sakineh': 243,\n 'escape': 244,\n 'seminary': 245,\n 'enshrine': 246,\n 'Asir': 247,\n 'African-Union': 248,\n 'e-mail': 249,\n 'India': 250,\n 'Shebaa': 251,\n 'fallback': 252,\n 'Renamo': 253,\n 'in-flight': 254,\n 'bystander': 255,\n 'pet': 256,\n 'preoccupied': 257,\n 'fiancee': 258,\n 'Son': 259,\n 'Murat': 260,\n 'fowling-piece': 261,\n '8,577': 262,\n 'Janata': 263,\n 'Kononov': 264,\n 'waved': 265,\n 'Tan': 266,\n 'Accidents': 267,\n 'politicize': 268,\n 'Tolo': 269,\n 'outlets': 270,\n 'Cavic': 271,\n 'ISSUED': 272,\n 'Jinan': 273,\n 'indecent': 274,\n 'Eminem': 275,\n 'lightning': 276,\n '1,000-year': 277,\n 'Diwali': 278,\n 'taxpayers': 279,\n 'biceps': 280,\n 'Crawford': 281,\n 'firmn': 282,\n 'Multan': 283,\n 'inconceivable': 284,\n 'relieved': 285,\n 'honesty': 286,\n 'Antezana': 287,\n '49': 288,\n 'Migration': 289,\n 'Antony': 290,\n 'Liberian': 291,\n 'Scottish': 292,\n 'Vientiane': 293,\n '218': 294,\n 'Lai': 295,\n '138.28': 296,\n 'sexual': 297,\n 'Pentastar': 298,\n 'deploys': 299,\n 'Bids': 300,\n 'wastewater': 301,\n 'dismantling': 302,\n 'thunder': 303,\n 'Fatma': 304,\n 'terrorist-related': 305,\n 'copes': 306,\n 'Boeing': 307,\n 'multi-national': 308,\n 'nurses': 309,\n 'nonexistent': 310,\n 'Caucasus': 311,\n 'worsened': 312,\n 'Huerta': 313,\n 'exchanged': 314,\n 'disqualified': 315,\n 'registering': 316,\n 'north-south': 317,\n 'valleys': 318,\n 'scold': 319,\n 'Gimble': 320,\n 'government-owned': 321,\n 'unfriendly': 322,\n 'Murr': 323,\n 'premier': 324,\n 'Quarter': 325,\n 'Deposit': 326,\n 'Khartoum': 327,\n 'January': 328,\n 'Balaguer': 329,\n 'SP': 330,\n 'resent': 331,\n 'cloak': 332,\n '352-3': 333,\n 'satellites': 334,\n 'cacao': 335,\n '7.30': 336,\n 'transmission': 337,\n 'shoved': 338,\n 'Guadalupe': 339,\n 'dormitories': 340,\n 'angry': 341,\n 'arap': 342,\n 'Tokugawa': 343,\n 'sulphur': 344,\n 'Poiree': 345,\n 'Mustard': 346,\n 'jeopardized': 347,\n 'memorable': 348,\n 'Doaba': 349,\n 'regimen': 350,\n 'dull': 351,\n 'Elliott': 352,\n 'Britain': 353,\n 'Jeddah': 354,\n 'pro-Tibet': 355,\n 'Tanoh': 356,\n 'devised': 357,\n 'emigre': 358,\n 'traveller': 359,\n 'Hooded': 360,\n 'skidded': 361,\n 'replacing': 362,\n 'Zakayev': 363,\n 'secrecy': 364,\n 'inoculation': 365,\n 'instigate': 366,\n 'Greek-speaking': 367,\n 'inspirational': 368,\n 'overlooks': 369,\n '13-point': 370,\n 'Baduel': 371,\n 'Wildlife': 372,\n 'reef': 373,\n 'Archaeologists': 374,\n 'Execution': 375,\n 'effectiveness': 376,\n 'Nyasaland': 377,\n 'limitations': 378,\n 'fabricated': 379,\n '6.8': 380,\n 'Brazilian-made': 381,\n 'Telecom': 382,\n 'Pristina': 383,\n 'reforestation': 384,\n 'self-rule': 385,\n 'Napoleonic': 386,\n 'stretches': 387,\n 'terror-related': 388,\n 'capabilities': 389,\n 'bulky': 390,\n 'Deir': 391,\n 'curled': 392,\n 'sands': 393,\n 'concentration': 394,\n 'Catandunes': 395,\n 'loans': 396,\n 'stone-throwing': 397,\n 'Rosemond': 398,\n 'cardinal': 399,\n 'ITU': 400,\n 'buzzard': 401,\n 'contempt': 402,\n 'said': 403,\n 'year-on-year': 404,\n '890': 405,\n 'malfunctioned': 406,\n 'TF-121': 407,\n 'detention': 408,\n 'abandoning': 409,\n 'allegiance': 410,\n 'embolden': 411,\n 'Moss': 412,\n 'arc': 413,\n 'Bulava': 414,\n 'Suleimaniya': 415,\n 'impacts': 416,\n 'HABITAT': 417,\n 'weird': 418,\n 'pilgrims': 419,\n 'Operation': 420,\n 'respectfully': 421,\n 'Diamondbacks': 422,\n 'Hiroshima': 423,\n '5.8': 424,\n 'effect': 425,\n 'know': 426,\n 'Icelanders': 427,\n 'administrator': 428,\n 'conspiring': 429,\n 'Latifiya': 430,\n 'repeals': 431,\n 'airstrike': 432,\n 'barcoded': 433,\n 'Deaths': 434,\n 'extraordinarily': 435,\n 'prompt': 436,\n 'Fakhar': 437,\n 'repeating': 438,\n 'Aip': 439,\n 'Jo': 440,\n 'Okada': 441,\n 'Gorges': 442,\n 'Nile': 443,\n 'Consumers': 444,\n 'Kind-hearted': 445,\n 'pursues': 446,\n 'Kohlu': 447,\n '2,47,000': 448,\n 'Randall': 449,\n 'Shlomo': 450,\n 'anti-Israeli': 451,\n 'Inheritance': 452,\n 'contestant': 453,\n 'reformers': 454,\n 'exceed': 455,\n 'Tayyeb': 456,\n 'Holding': 457,\n 'Maurice': 458,\n 'withdraws': 459,\n 'Thankot': 460,\n 'trick-or-treaters': 461,\n 'ungrateful': 462,\n 'Exact': 463,\n 'portrayed': 464,\n 'mid-2006': 465,\n 'Waaq': 466,\n 'impression': 467,\n 'Hina': 468,\n 'gripped': 469,\n 'pivotal': 470,\n 'unverified': 471,\n 'Chase': 472,\n 'beleaguered': 473,\n 'Latortue': 474,\n 'sheet': 475,\n 'Zaher': 476,\n 'non-Muslim': 477,\n 'mitigate': 478,\n 'ultra-orthodox': 479,\n 'Popovic': 480,\n 'Natsios': 481,\n 'Hushiar': 482,\n 'Antonella': 483,\n 'LENIN': 484,\n 'Markey': 485,\n 'Conflicts': 486,\n 'Nacion': 487,\n 'WAFA': 488,\n 'change': 489,\n 'Nioka': 490,\n 'hectare': 491,\n 'Chimango': 492,\n 'unanswered': 493,\n '636-type': 494,\n 'DreamWorks': 495,\n 'Unionist': 496,\n 'ShopperTrak': 497,\n 'Tobacco': 498,\n 'hardest-hit': 499,\n 'Import-Export': 500,\n '8.5': 501,\n 'wrathful': 502,\n 'Libya': 503,\n 'Christman': 504,\n 'tilemaker': 505,\n 'publisher': 506,\n 'apologies': 507,\n '100-day': 508,\n 'diversifying': 509,\n 'contributions': 510,\n 'restrictions': 511,\n 'ranchers': 512,\n 'Ghorbanpour': 513,\n 'awakened': 514,\n 'gardens': 515,\n 'wants': 516,\n 'Beechcraft': 517,\n 'Rodham': 518,\n 'Ashkelon': 519,\n 'Rhine-Westphalia': 520,\n 'Azizuddin': 521,\n 'validated': 522,\n 'qualifications': 523,\n 'harming': 524,\n 'Rhythm': 525,\n 'Bei': 526,\n 'theme-park-like': 527,\n 'unstoppable': 528,\n 'Abbassid': 529,\n 'referendum': 530,\n 'draught': 531,\n 'Hulya': 532,\n 'bring': 533,\n 'pre-recorded': 534,\n 'thinned': 535,\n 'trapping': 536,\n '9,50,000': 537,\n 'Loud': 538,\n 'FERNANDEZ': 539,\n 'peatlands': 540,\n 'wall': 541,\n 'heyday': 542,\n 'woodcutter': 543,\n 'Andry': 544,\n 'Jalgaon': 545,\n 'ome': 546,\n 'Mehmet': 547,\n 'pets': 548,\n 'interlarded': 549,\n 'Stefan': 550,\n 'inflame': 551,\n 'Bourj': 552,\n 'pipelines': 553,\n 'Thais': 554,\n 'Vyachorka': 555,\n 'surface-to-surface': 556,\n 'orders': 557,\n 'ABHISIT': 558,\n 'truth': 559,\n 'restructured': 560,\n 'Excerpts': 561,\n 'Cornwall': 562,\n '461': 563,\n 'Bulgarian': 564,\n 'electoral': 565,\n 'with': 566,\n 'multiple': 567,\n 'Miramax': 568,\n 'Indra': 569,\n 'perverted': 570,\n 'EYADEMA': 571,\n 'Member': 572,\n 'CFA': 573,\n 'Blades': 574,\n 'Pray': 575,\n 'Communist': 576,\n 'intervene': 577,\n 'ISRO': 578,\n 'emotions': 579,\n '51.8': 580,\n '63-year-old': 581,\n 'Tareq': 582,\n 'ruining': 583,\n 'They': 584,\n 'collapses': 585,\n 'desolation': 586,\n 'administered': 587,\n 'idol': 588,\n 'scam': 589,\n 'non-functional': 590,\n 'nuclear-free': 591,\n 'probe': 592,\n 'unsavory': 593,\n 'seaport': 594,\n 'Florida': 595,\n '26-year-old': 596,\n 'transatlantic': 597,\n 'Tour': 598,\n '1,000': 599,\n 'Nathalie': 600,\n 'prudent': 601,\n 'simplification': 602,\n 'Alaina': 603,\n 'aligned': 604,\n 'Didier': 605,\n 'globalized': 606,\n 'zenith': 607,\n 'mass': 608,\n 'barrier': 609,\n 'hospitality': 610,\n '1278': 611,\n 'snakes': 612,\n 'must': 613,\n 'fixation': 614,\n 'differences': 615,\n 'Bueno': 616,\n 'Maryland': 617,\n 'km-wide': 618,\n 'Gimelstob': 619,\n 'factional': 620,\n 'preempt': 621,\n 'Aboutorabi-Fard': 622,\n 'Millions': 623,\n 'fool': 624,\n 'submit': 625,\n '1631': 626,\n 'landslides': 627,\n 'shootout': 628,\n '1726': 629,\n 'Oxford': 630,\n 'tells': 631,\n 'Aijalon': 632,\n 'Dumitru': 633,\n 'Flanders': 634,\n 'tennis': 635,\n 'Sichuan': 636,\n '8.15': 637,\n 'verification': 638,\n '113': 639,\n 'proximity': 640,\n 'teacher': 641,\n 'Armenians': 642,\n 'Delegation': 643,\n 'dislocation': 644,\n 'Baya': 645,\n 'Weyn': 646,\n 'Guatemala': 647,\n 'Lahiya': 648,\n 'ninth': 649,\n 'insupportable': 650,\n 'escorts': 651,\n 'green': 652,\n 'tusks': 653,\n 'nautical': 654,\n 'Surgeons': 655,\n 'ounce': 656,\n 'snared': 657,\n 'timelines': 658,\n 'Oh': 659,\n 'Back': 660,\n 'surety': 661,\n 'Doug': 662,\n '752.2': 663,\n 'gained': 664,\n 'Indonesian': 665,\n 'Qala': 666,\n 'F-5': 667,\n 'Privately': 668,\n 'focusing': 669,\n 'According': 670,\n '#': 671,\n 'LAPD': 672,\n '1841': 673,\n 'burqa-clad': 674,\n 'Tarasyuk': 675,\n '1905': 676,\n 'Unified': 677,\n 'Paerson': 678,\n 'ALEC': 679,\n 'Risk': 680,\n 'multilaterals': 681,\n 'morality': 682,\n 'Chao': 683,\n 'distorted': 684,\n 'V': 685,\n 'forests': 686,\n '29': 687,\n 'Quality': 688,\n 'Toroitich': 689,\n 'socially-conservative': 690,\n 'transporting': 691,\n 'divulging': 692,\n 'shadows': 693,\n 'probing': 694,\n 'catastrophic': 695,\n 'equalizer': 696,\n 'Copa': 697,\n 'sickened': 698,\n 'deployments': 699,\n 'Naoto': 700,\n 'Hussein': 701,\n 'disparage': 702,\n 'Jakarta': 703,\n 'stern': 704,\n 'Lashkar-e-Islam': 705,\n 'sack': 706,\n 'Nuremberg': 707,\n 'Malawian': 708,\n 'Vilsack': 709,\n 'Inforadio': 710,\n 'Casmoussa': 711,\n 'retreat': 712,\n 'XDR': 713,\n 'toy-shaped': 714,\n 'Lynch': 715,\n 'impoverished': 716,\n 'hints': 717,\n 'adversity': 718,\n 'Anat': 719,\n 'Churches': 720,\n 'QARASE': 721,\n 'its': 722,\n 'river': 723,\n 'high-technology': 724,\n 'trumpeter': 725,\n 'Chile': 726,\n 'fictional': 727,\n '95.8': 728,\n 'supermarket': 729,\n 'processed': 730,\n 'touchdowns': 731,\n 'folk': 732,\n 'Motorcycle': 733,\n 'skyrocketing': 734,\n 'Hue': 735,\n 'Vlado': 736,\n 'Annual': 737,\n 'al-Jazeera': 738,\n 'miscalculated': 739,\n 'Norman': 740,\n 'leads': 741,\n 'racers': 742,\n 'obesity-related': 743,\n 'Ilyushin': 744,\n '26,500': 745,\n 'evicting': 746,\n 'Garmser': 747,\n 'Left': 748,\n 'Garikoitz': 749,\n 'posed': 750,\n 'Cauldron': 751,\n 'ever': 752,\n 'Chileans': 753,\n 'Lion': 754,\n 'augment': 755,\n 'hammering': 756,\n 'wag': 757,\n 'KCNA': 758,\n 'Reed': 759,\n 'Kinshasa': 760,\n 'invitations': 761,\n 'Al-Jazeera': 762,\n 'Elvis': 763,\n 'mate': 764,\n 'Regarding': 765,\n 'otherwise': 766,\n 'viewers': 767,\n 'Muttur': 768,\n '26-31': 769,\n 'Gino': 770,\n 'GE': 771,\n 'accountant': 772,\n 'teenagers': 773,\n 'Experts': 774,\n 'extent': 775,\n 'telephoning': 776,\n 'Essam': 777,\n 'Frenchman': 778,\n 'showed': 779,\n 'Giuliani': 780,\n 'Kadhim': 781,\n 'Cykla': 782,\n 'levels': 783,\n 'facilitating': 784,\n 'Cantarell': 785,\n 'multi-million-dollar': 786,\n 'Reader': 787,\n '710': 788,\n 'quail': 789,\n '1811': 790,\n 'union': 791,\n 'Prince': 792,\n 'Velupillai': 793,\n 'on-and-off': 794,\n 'peaked': 795,\n 'allowance': 796,\n 'Mushir': 797,\n 'Hamel': 798,\n 'Rebels': 799,\n 'Anti-Corruption': 800,\n 'jar': 801,\n 'anti-Americanism': 802,\n 'cellist': 803,\n '17.7': 804,\n 'newsletter': 805,\n 'Nepalese': 806,\n 'Talks': 807,\n 'Kurdish-majority': 808,\n 'Mayon': 809,\n 'sole': 810,\n 'Bajram': 811,\n 'shipyards': 812,\n 'passengers': 813,\n 'Gabriel': 814,\n 'pre-launch': 815,\n 'Hasib': 816,\n \"'80s\": 817,\n 'Angel': 818,\n 'disclaimer': 819,\n 'director': 820,\n 'voided': 821,\n 'Luciano': 822,\n 'Ihab': 823,\n 'frantic': 824,\n 'cartoons': 825,\n 'education': 826,\n 'Metullah': 827,\n 'Safe': 828,\n 'handsets': 829,\n 'protracted': 830,\n 'Gavutu': 831,\n '103': 832,\n 'self-government': 833,\n 'open-air': 834,\n 'Yusuf': 835,\n '22.5': 836,\n 'heroes': 837,\n 'dinners': 838,\n 'choked': 839,\n 'Tutwiler': 840,\n 'Samad': 841,\n 'Dane': 842,\n 'adjourns': 843,\n '70-year-old': 844,\n 'condominum': 845,\n 'glades': 846,\n 'cull': 847,\n 'Adam': 848,\n 'ill-treatment': 849,\n '1,34,503': 850,\n 'plucked': 851,\n 'Savigny-sur-Orge': 852,\n 'VSV-30': 853,\n 'policy-making': 854,\n 'Secret': 855,\n 'al': 856,\n 'Bedouin': 857,\n 'Nina': 858,\n 'thoroughly': 859,\n 'house-to-house': 860,\n 'Monsoon': 861,\n 'Territorial': 862,\n 'incarceration': 863,\n 'Htay': 864,\n 'Allen': 865,\n 'eight': 866,\n 'Large': 867,\n 'Mutharika': 868,\n 'peril': 869,\n 'bricks': 870,\n 'firecrackers': 871,\n 'Ghangzhou': 872,\n 'high-profile': 873,\n '16.7': 874,\n 'Tangerang': 875,\n 'championed': 876,\n 'hampering': 877,\n 'tankbuster': 878,\n 'grips': 879,\n 'pro-freedom': 880,\n 'el-Erian': 881,\n 'Guangdong': 882,\n 'Provision': 883,\n 'Bossaso': 884,\n 'watched': 885,\n 'centenary': 886,\n 'Cleveland': 887,\n 'Rabat': 888,\n 'Mashal': 889,\n 'airstrikes': 890,\n 'cigarettes': 891,\n 'Kalameh': 892,\n 'peace-loving': 893,\n 'Caraorman': 894,\n 'Chiapolino': 895,\n 'Nomura': 896,\n 'grass': 897,\n 'Colchester': 898,\n 'Roadmap': 899,\n 'Khalaf': 900,\n 'Moscoso': 901,\n 'Muqdadiyah': 902,\n 'pleasure': 903,\n 'streamlines': 904,\n 'Kakooza': 905,\n 'opined': 906,\n 'speedboats': 907,\n 'disrupted': 908,\n 'pelted': 909,\n 'Yanbu': 910,\n 'charities': 911,\n 'Medak': 912,\n 'Abdul-Khalim': 913,\n 'illegally-copied': 914,\n 'Wong': 915,\n 'watch': 916,\n 'Ghazi': 917,\n 'Sucumbios': 918,\n 'anger': 919,\n 'wildfires': 920,\n 'unidentified': 921,\n 'stalemate': 922,\n 'Bruno': 923,\n 'orbiter': 924,\n 'Itzik': 925,\n 'Siachen': 926,\n 'Tornadoes': 927,\n 'Nawzad': 928,\n 'likelihood': 929,\n 'poetry': 930,\n 'Bok': 931,\n 'pan-African': 932,\n 'al-Ilayan': 933,\n 'entitle': 934,\n '756': 935,\n 'slice': 936,\n 'struggles': 937,\n 'salmonella': 938,\n 'GAYOOM': 939,\n 'haul': 940,\n 'mid-2000s': 941,\n 'overpowered': 942,\n 'port': 943,\n 'displeased': 944,\n 'immediately': 945,\n 'Citigroup': 946,\n 'plot': 947,\n 'Horizon': 948,\n 'digital': 949,\n 'Regular': 950,\n 'slippery': 951,\n 'Player': 952,\n 'Relations': 953,\n 'collectivity': 954,\n '1898': 955,\n 'Delmas': 956,\n 'vine': 957,\n 'gas': 958,\n '600': 959,\n 'Chandipur': 960,\n 'Vahid': 961,\n 'outlaw': 962,\n 'Abubakar': 963,\n 'Lutfullah': 964,\n 'misanthropic': 965,\n 'rupiah': 966,\n 'prestigious': 967,\n 'computer': 968,\n 'descending': 969,\n '14.88': 970,\n 'rented': 971,\n 'Hampshire': 972,\n 'Folha': 973,\n 'oceanographic': 974,\n 'enactment': 975,\n 'righteous': 976,\n 'precursor': 977,\n 'HRW': 978,\n 'Luiz': 979,\n 'unto': 980,\n 'Kroes': 981,\n 'hunting': 982,\n 'Dir': 983,\n 'Hawija': 984,\n '22-member': 985,\n 'Aiko': 986,\n 'Cavaco': 987,\n 'rates': 988,\n 'Spyros': 989,\n 'streamline': 990,\n 'complete': 991,\n 'recovery': 992,\n 'Ramzan': 993,\n 'forbids': 994,\n 'Grönholm': 995,\n 'crow': 996,\n 'Hoa': 997,\n 'Pu': 998,\n 'pardons': 999,\n 'provisions': 1000,\n ...}"
     },
     "execution_count": 10,
     "metadata": {},
     "output_type": "execute_result"
    }
   ],
   "source": [
    "word2idx"
   ],
   "metadata": {
    "collapsed": false,
    "pycharm": {
     "name": "#%%\n"
    }
   }
  },
  {
   "cell_type": "code",
   "execution_count": 11,
   "outputs": [
    {
     "data": {
      "text/plain": "<Figure size 432x288 with 1 Axes>",
      "image/png": "[encoded data removed]"
     },
     "metadata": {},
     "output_type": "display_data"
    }
   ],
   "source": [
    "plt.hist([len(s) for s in sentences], bins=50)\n",
    "plt.show()"
   ],
   "metadata": {
    "collapsed": false,
    "pycharm": {
     "name": "#%%\n"
    }
   }
  },
  {
   "cell_type": "code",
   "execution_count": 12,
   "outputs": [],
   "source": [
    "from tensorflow.keras.preprocessing.sequence import pad_sequences\n",
    "\n",
    "max_len = 50\n",
    "\n",
    "X = [[word2idx[w[0]] for w in s] for s in sentences]\n",
    "X = pad_sequences(maxlen=max_len, sequences=X, padding=\"post\", value=num_words-1)\n",
    "\n",
    "y = [[tag2idx[w[2]] for w in s] for s in sentences]\n",
    "y = pad_sequences(maxlen=max_len, sequences=y, padding=\"post\", value=tag2idx[\"O\"])"
   ],
   "metadata": {
    "collapsed": false,
    "pycharm": {
     "name": "#%%\n"
    }
   }
  },
  {
   "cell_type": "code",
   "execution_count": 13,
   "outputs": [],
   "source": [
    "from sklearn.model_selection import train_test_split\n",
    "x_train, x_test, y_train, y_test = train_test_split(X, y, test_size=0.2, random_state=1)"
   ],
   "metadata": {
    "collapsed": false,
    "pycharm": {
     "name": "#%%\n"
    }
   }
  },
  {
   "cell_type": "code",
   "execution_count": 14,
   "outputs": [],
   "source": [
    "from tensorflow.keras import Model, Input\n",
    "from tensorflow.keras.layers import LSTM, Embedding, Dense\n",
    "from tensorflow.keras.layers import TimeDistributed, SpatialDropout1D, Bidirectional"
   ],
   "metadata": {
    "collapsed": false,
    "pycharm": {
     "name": "#%%\n"
    }
   }
  },
  {
   "cell_type": "code",
   "execution_count": 15,
   "outputs": [
    {
     "name": "stdout",
     "output_type": "stream",
     "text": [
      "Model: \"model\"\n",
      "_________________________________________________________________\n",
      "Layer (type)                 Output Shape              Param #   \n",
      "=================================================================\n",
      "input_1 (InputLayer)         [(None, 50)]              0         \n",
      "_________________________________________________________________\n",
      "embedding (Embedding)        (None, 50, 50)            1758950   \n",
      "_________________________________________________________________\n",
      "spatial_dropout1d (SpatialDr (None, 50, 50)            0         \n",
      "_________________________________________________________________\n",
      "bidirectional (Bidirectional (None, 50, 200)           120800    \n",
      "_________________________________________________________________\n",
      "time_distributed (TimeDistri (None, 50, 17)            3417      \n",
      "=================================================================\n",
      "Total params: 1,883,167\n",
      "Trainable params: 1,883,167\n",
      "Non-trainable params: 0\n",
      "_________________________________________________________________\n"
     ]
    }
   ],
   "source": [
    "input_word = Input(shape=(max_len,))\n",
    "model = Embedding(input_dim=num_words, output_dim=50, input_length=max_len)(input_word)\n",
    "model = SpatialDropout1D(0.1)(model)\n",
    "model = Bidirectional(LSTM(units=100, return_sequences=True, recurrent_dropout=0.1))(model)\n",
    "out = TimeDistributed(Dense(num_tags, activation=\"softmax\"))(model)\n",
    "model = Model(input_word, out)\n",
    "model.summary()"
   ],
   "metadata": {
    "collapsed": false,
    "pycharm": {
     "name": "#%%\n"
    }
   }
  },
  {
   "cell_type": "code",
   "execution_count": 16,
   "outputs": [],
   "source": [
    "model.compile(optimizer=\"adam\",\n",
    "              loss=\"sparse_categorical_crossentropy\",\n",
    "              metrics=[\"accuracy\"])"
   ],
   "metadata": {
    "collapsed": false,
    "pycharm": {
     "name": "#%%\n"
    }
   }
  },
  {
   "cell_type": "code",
   "execution_count": 18,
   "outputs": [
    {
     "name": "stdout",
     "output_type": "stream",
     "text": [
      "Collecting livelossplot\r\n",
      "  Using cached livelossplot-0.5.5-py3-none-any.whl (22 kB)\r\n",
      "Requirement already satisfied: bokeh in /Users/ahmadfathanhidayatullah/opt/anaconda3/lib/python3.8/site-packages (from livelossplot) (2.3.2)\r\n",
      "Requirement already satisfied: matplotlib in /Users/ahmadfathanhidayatullah/opt/anaconda3/lib/python3.8/site-packages (from livelossplot) (3.3.4)\r\n",
      "Requirement already satisfied: packaging>=16.8 in /Users/ahmadfathanhidayatullah/opt/anaconda3/lib/python3.8/site-packages (from bokeh->livelossplot) (20.9)\r\n",
      "Requirement already satisfied: typing-extensions>=3.7.4 in /Users/ahmadfathanhidayatullah/opt/anaconda3/lib/python3.8/site-packages (from bokeh->livelossplot) (3.7.4.3)\r\n",
      "Requirement already satisfied: python-dateutil>=2.1 in /Users/ahmadfathanhidayatullah/opt/anaconda3/lib/python3.8/site-packages (from bokeh->livelossplot) (2.8.1)\r\n",
      "Requirement already satisfied: PyYAML>=3.10 in /Users/ahmadfathanhidayatullah/opt/anaconda3/lib/python3.8/site-packages (from bokeh->livelossplot) (5.4.1)\r\n",
      "Requirement already satisfied: Jinja2>=2.9 in /Users/ahmadfathanhidayatullah/opt/anaconda3/lib/python3.8/site-packages (from bokeh->livelossplot) (2.11.3)\r\n",
      "Requirement already satisfied: numpy>=1.11.3 in /Users/ahmadfathanhidayatullah/opt/anaconda3/lib/python3.8/site-packages (from bokeh->livelossplot) (1.19.5)\r\n",
      "Requirement already satisfied: tornado>=5.1 in /Users/ahmadfathanhidayatullah/opt/anaconda3/lib/python3.8/site-packages (from bokeh->livelossplot) (6.1)\r\n",
      "Requirement already satisfied: pillow>=7.1.0 in /Users/ahmadfathanhidayatullah/opt/anaconda3/lib/python3.8/site-packages (from bokeh->livelossplot) (8.2.0)\r\n",
      "Requirement already satisfied: kiwisolver>=1.0.1 in /Users/ahmadfathanhidayatullah/opt/anaconda3/lib/python3.8/site-packages (from matplotlib->livelossplot) (1.3.1)\r\n",
      "Requirement already satisfied: cycler>=0.10 in /Users/ahmadfathanhidayatullah/opt/anaconda3/lib/python3.8/site-packages (from matplotlib->livelossplot) (0.10.0)\r\n",
      "Requirement already satisfied: pyparsing!=2.0.4,!=2.1.2,!=2.1.6,>=2.0.3 in /Users/ahmadfathanhidayatullah/opt/anaconda3/lib/python3.8/site-packages (from matplotlib->livelossplot) (2.4.7)\r\n",
      "Requirement already satisfied: six in /Users/ahmadfathanhidayatullah/opt/anaconda3/lib/python3.8/site-packages (from cycler>=0.10->matplotlib->livelossplot) (1.15.0)\r\n",
      "Requirement already satisfied: MarkupSafe>=0.23 in /Users/ahmadfathanhidayatullah/opt/anaconda3/lib/python3.8/site-packages (from Jinja2>=2.9->bokeh->livelossplot) (1.1.1)\r\n",
      "Installing collected packages: livelossplot\r\n",
      "Successfully installed livelossplot-0.5.5\r\n",
      "\u001B[33mWARNING: You are using pip version 21.3.1; however, version 22.1 is available.\r\n",
      "You should consider upgrading via the '/Users/ahmadfathanhidayatullah/opt/anaconda3/bin/python -m pip install --upgrade pip' command.\u001B[0m\r\n"
     ]
    }
   ],
   "source": [
    "!pip install livelossplot"
   ],
   "metadata": {
    "collapsed": false,
    "pycharm": {
     "name": "#%%\n"
    }
   }
  },
  {
   "cell_type": "code",
   "execution_count": 19,
   "outputs": [],
   "source": [
    "from tensorflow.keras.callbacks import ModelCheckpoint, EarlyStopping\n",
    "from livelossplot.tf_keras import PlotLossesCallback"
   ],
   "metadata": {
    "collapsed": false,
    "pycharm": {
     "name": "#%%\n"
    }
   }
  },
  {
   "cell_type": "code",
   "execution_count": 20,
   "outputs": [
    {
     "data": {
      "text/plain": "<Figure size 864x576 with 2 Axes>",
      "image/png": "[encoded data removed]"
     },
     "metadata": {},
     "output_type": "display_data"
    },
    {
     "name": "stdout",
     "output_type": "stream",
     "text": [
      "accuracy\n",
      "\ttraining         \t (min:    0.959, max:    0.989, cur:    0.989)\n",
      "\tvalidation       \t (min:    0.982, max:    0.986, cur:    0.986)\n",
      "Loss\n",
      "\ttraining         \t (min:    0.036, max:    0.179, cur:    0.036)\n",
      "\tvalidation       \t (min:    0.047, max:    0.064, cur:    0.047)\n",
      "\n",
      "Epoch 00003: val_loss improved from 0.04946 to 0.04710, saving model to model_weights.h5\n",
      "CPU times: user 17min 49s, sys: 6min 14s, total: 24min 4s\n",
      "Wall time: 4min 40s\n"
     ]
    }
   ],
   "source": [
    "%%time\n",
    "\n",
    "chkpt = ModelCheckpoint(\"model_weights.h5\", monitor='val_loss',verbose=1, save_best_only=True, save_weights_only=True, mode='min')\n",
    "\n",
    "early_stopping = EarlyStopping(monitor='val_accuracy', min_delta=0, patience=1, verbose=0, mode='max', baseline=None, restore_best_weights=False)\n",
    "\n",
    "callbacks = [PlotLossesCallback(), chkpt, early_stopping]\n",
    "\n",
    "history = model.fit(\n",
    "    x=x_train,\n",
    "    y=y_train,\n",
    "    validation_data=(x_test,y_test),\n",
    "    batch_size=32,\n",
    "    epochs=3,\n",
    "    callbacks=callbacks,\n",
    "    verbose=1\n",
    ")"
   ],
   "metadata": {
    "collapsed": false,
    "pycharm": {
     "name": "#%%\n"
    }
   }
  },
  {
   "cell_type": "code",
   "execution_count": 21,
   "outputs": [
    {
     "name": "stdout",
     "output_type": "stream",
     "text": [
      "300/300 [==============================] - 3s 11ms/step - loss: 0.0471 - accuracy: 0.9859\n"
     ]
    },
    {
     "data": {
      "text/plain": "[0.047103457152843475, 0.9859028458595276]"
     },
     "execution_count": 21,
     "metadata": {},
     "output_type": "execute_result"
    }
   ],
   "source": [
    "model.evaluate(x_test, y_test)"
   ],
   "metadata": {
    "collapsed": false,
    "pycharm": {
     "name": "#%%\n"
    }
   }
  },
  {
   "cell_type": "code",
   "execution_count": 22,
   "outputs": [
    {
     "name": "stdout",
     "output_type": "stream",
     "text": [
      "Word           True \t Pred\n",
      "\n",
      "------------------------------\n",
      "The            O\tO\n",
      "United         B-org\tB-org\n",
      "Nations        I-org\tI-org\n",
      "has            O\tO\n",
      "been           O\tO\n",
      "under          O\tO\n",
      "fire           O\tO\n",
      "for            O\tO\n",
      "failing        O\tO\n",
      "to             O\tO\n",
      "stop           O\tO\n",
      "ongoing        O\tO\n",
      "ethnic         O\tO\n",
      "violence       O\tO\n",
      "in             O\tO\n",
      "Ituri          B-geo\tB-geo\n",
      ".              O\tO\n",
      "subsidiary     O\tO\n",
      "subsidiary     O\tO\n",
      "subsidiary     O\tO\n",
      "subsidiary     O\tO\n",
      "subsidiary     O\tO\n",
      "subsidiary     O\tO\n",
      "subsidiary     O\tO\n",
      "subsidiary     O\tO\n",
      "subsidiary     O\tO\n",
      "subsidiary     O\tO\n",
      "subsidiary     O\tO\n",
      "subsidiary     O\tO\n",
      "subsidiary     O\tO\n",
      "subsidiary     O\tO\n",
      "subsidiary     O\tO\n",
      "subsidiary     O\tO\n",
      "subsidiary     O\tO\n",
      "subsidiary     O\tO\n",
      "subsidiary     O\tO\n",
      "subsidiary     O\tO\n",
      "subsidiary     O\tO\n",
      "subsidiary     O\tO\n",
      "subsidiary     O\tO\n",
      "subsidiary     O\tO\n",
      "subsidiary     O\tO\n",
      "subsidiary     O\tO\n",
      "subsidiary     O\tO\n",
      "subsidiary     O\tO\n",
      "subsidiary     O\tO\n",
      "subsidiary     O\tO\n",
      "subsidiary     O\tO\n",
      "subsidiary     O\tO\n",
      "subsidiary     O\tO\n"
     ]
    }
   ],
   "source": [
    "i = np.random.randint(0, x_test.shape[0]) #659\n",
    "p = model.predict(np.array([x_test[i]]))\n",
    "p = np.argmax(p, axis=-1)\n",
    "y_true = y_test[i]\n",
    "print(\"{:15}{:5}\\t {}\\n\".format(\"Word\", \"True\", \"Pred\"))\n",
    "print(\"-\" *30)\n",
    "for w, true, pred in zip(x_test[i], y_true, p[0]):\n",
    "    print(\"{:15}{}\\t{}\".format(words[w-1], tags[true], tags[pred]))"
   ],
   "metadata": {
    "collapsed": false,
    "pycharm": {
     "name": "#%%\n"
    }
   }
  },
  {
   "cell_type": "code",
   "execution_count": null,
   "outputs": [],
   "source": [],
   "metadata": {
    "collapsed": false,
    "pycharm": {
     "name": "#%%\n"
    }
   }
  }
 ],
 "metadata": {
  "kernelspec": {
   "display_name": "Python 3",
   "language": "python",
   "name": "python3"
  },
  "language_info": {
   "codemirror_mode": {
    "name": "ipython",
    "version": 2
   },
   "file_extension": ".py",
   "mimetype": "text/x-python",
   "name": "python",
   "nbconvert_exporter": "python",
   "pygments_lexer": "ipython2",
   "version": "2.7.6"
  }
 },
 "nbformat": 4,
 "nbformat_minor": 0
}