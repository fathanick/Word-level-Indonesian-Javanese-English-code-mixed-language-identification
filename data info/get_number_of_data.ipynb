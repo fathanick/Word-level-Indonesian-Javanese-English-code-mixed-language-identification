{
 "cells": [
  {
   "cell_type": "code",
   "execution_count": 1,
   "metadata": {
    "collapsed": true
   },
   "outputs": [],
   "source": [
    "import pandas as pd"
   ]
  },
  {
   "cell_type": "code",
   "execution_count": 17,
   "outputs": [],
   "source": [
    "dt1 = pd.read_excel('../raw dataset/data-140322.xlsx')\n",
    "dt2 = pd.read_excel('../raw dataset/data-150322.xlsx')\n",
    "dt3 = pd.read_excel('../raw dataset/data-210322.xlsx')\n",
    "dt4 = pd.read_excel('../raw dataset/data-260322.xlsx')\n",
    "dt5 = pd.read_excel('../raw dataset/data-120422.xlsx')\n",
    "dt7 = pd.read_excel('../raw dataset/filtered-tweet-500.xlsx')\n",
    "dt8 = pd.read_excel('../raw dataset/data-050422-test.xlsx')\n",
    "dt9 = pd.read_excel('../raw dataset/data-070422-test.xlsx')\n",
    "# dt10 = pd.read_excel('../raw dataset/data-2021.xlsx')\n",
    "dt11 = pd.read_excel('../raw dataset/data-280122.xlsx')\n",
    "dt12 = pd.read_excel('../raw dataset/raw-data-130322.xlsx')"
   ],
   "metadata": {
    "collapsed": false,
    "pycharm": {
     "name": "#%%\n"
    }
   }
  },
  {
   "cell_type": "code",
   "execution_count": 21,
   "outputs": [
    {
     "data": {
      "text/plain": "8929"
     },
     "execution_count": 21,
     "metadata": {},
     "output_type": "execute_result"
    }
   ],
   "source": [
    "count = len(dt1) + len(dt2) + len(dt3) + len(dt4) + len(dt5) + \\\n",
    "\t\tlen(dt7) + len(dt8) + len(dt9) + \\\n",
    "\t\tlen(dt11) + len(dt12)\n",
    "count"
   ],
   "metadata": {
    "collapsed": false,
    "pycharm": {
     "name": "#%%\n"
    }
   }
  },
  {
   "cell_type": "code",
   "execution_count": null,
   "outputs": [],
   "source": [],
   "metadata": {
    "collapsed": false,
    "pycharm": {
     "name": "#%%\n"
    }
   }
  }
 ],
 "metadata": {
  "kernelspec": {
   "display_name": "Python 3",
   "language": "python",
   "name": "python3"
  },
  "language_info": {
   "codemirror_mode": {
    "name": "ipython",
    "version": 2
   },
   "file_extension": ".py",
   "mimetype": "text/x-python",
   "name": "python",
   "nbconvert_exporter": "python",
   "pygments_lexer": "ipython2",
   "version": "2.7.6"
  }
 },
 "nbformat": 4,
 "nbformat_minor": 0
}