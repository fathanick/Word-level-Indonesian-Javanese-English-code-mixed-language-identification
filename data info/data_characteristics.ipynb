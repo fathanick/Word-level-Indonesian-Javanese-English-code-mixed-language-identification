{
 "cells": [
  {
   "cell_type": "code",
   "execution_count": 21,
   "metadata": {},
   "outputs": [],
   "source": [
    "import sys\n",
    "sys.path.append('../helper/')\n",
    "\n",
    "import pandas as pd\n",
    "import nltk\n",
    "import collections\n",
    "from dataset_reader import read_tsv\n",
    "# from helper.dataset_reader import read_tsv"
   ]
  },
  {
   "cell_type": "code",
   "execution_count": 22,
   "metadata": {},
   "outputs": [],
   "source": [
    "#data = read_tsv('../annotation agreement/merged-tagged-annotator2.tsv')\n",
    "#data = read_tsv('../dataset/all-merged-data-140422.tsv')\n",
    "data = read_tsv('../dataset/test-data-140422.tsv')"
   ]
  },
  {
   "cell_type": "code",
   "execution_count": 23,
   "metadata": {},
   "outputs": [],
   "source": [
    "# data returns multiple values\n",
    "# the following line returns all data, all words, and all tags from the data\n",
    "dt, all_words, all_tags = data"
   ]
  },
  {
   "cell_type": "code",
   "execution_count": 5,
   "metadata": {
    "collapsed": false,
    "pycharm": {
     "name": "#%%\n"
    }
   },
   "outputs": [
    {
     "data": {
      "text/plain": "                                              Tweets  \\\n0  [Niat, ngetest, arus, ,, sekarang, malah, bing...   \n1  [Kamvrettt, nyoba, ⏰, pake, suara, jeno, malah...   \n2  [@nezuokochan, Makanyaaa, kan, hhh, tadi, nget...   \n3  [Preview, PC, udah, keluar, ,, tapi, please, j...   \n4  [Gak, ,, ga, bebas, berasa, hidup, dlm, sangka...   \n\n                                                Tags  \n0          [ID, MIX-ID-EN, ID, O, ID, ID, ID, ID, O]  \n1  [ID, ID, O, ID, ID, O, ID, ID, O, ID, ID, ID, ...  \n2  [O, ID, ID, O, ID, MIX-ID-EN, ID, ID, ID, ID, ...  \n3  [EN, EN, ID, ID, O, ID, EN, ID, EN, EN, ID, O,...  \n4  [ID, O, ID, ID, ID, ID, ID, ID, O, ID, ID, ID,...  ",
      "text/html": "<div>\n<style scoped>\n    .dataframe tbody tr th:only-of-type {\n        vertical-align: middle;\n    }\n\n    .dataframe tbody tr th {\n        vertical-align: top;\n    }\n\n    .dataframe thead th {\n        text-align: right;\n    }\n</style>\n<table border=\"1\" class=\"dataframe\">\n  <thead>\n    <tr style=\"text-align: right;\">\n      <th></th>\n      <th>Tweets</th>\n      <th>Tags</th>\n    </tr>\n  </thead>\n  <tbody>\n    <tr>\n      <th>0</th>\n      <td>[Niat, ngetest, arus, ,, sekarang, malah, bing...</td>\n      <td>[ID, MIX-ID-EN, ID, O, ID, ID, ID, ID, O]</td>\n    </tr>\n    <tr>\n      <th>1</th>\n      <td>[Kamvrettt, nyoba, ⏰, pake, suara, jeno, malah...</td>\n      <td>[ID, ID, O, ID, ID, O, ID, ID, O, ID, ID, ID, ...</td>\n    </tr>\n    <tr>\n      <th>2</th>\n      <td>[@nezuokochan, Makanyaaa, kan, hhh, tadi, nget...</td>\n      <td>[O, ID, ID, O, ID, MIX-ID-EN, ID, ID, ID, ID, ...</td>\n    </tr>\n    <tr>\n      <th>3</th>\n      <td>[Preview, PC, udah, keluar, ,, tapi, please, j...</td>\n      <td>[EN, EN, ID, ID, O, ID, EN, ID, EN, EN, ID, O,...</td>\n    </tr>\n    <tr>\n      <th>4</th>\n      <td>[Gak, ,, ga, bebas, berasa, hidup, dlm, sangka...</td>\n      <td>[ID, O, ID, ID, ID, ID, ID, ID, O, ID, ID, ID,...</td>\n    </tr>\n  </tbody>\n</table>\n</div>"
     },
     "execution_count": 5,
     "metadata": {},
     "output_type": "execute_result"
    }
   ],
   "source": [
    "# Convert to dataframe [Tweet | Tags]\n",
    "df_tweet_tags = pd.DataFrame(dt, columns=['Tweets','Tags'])\n",
    "df_tweet_tags.head()"
   ]
  },
  {
   "cell_type": "code",
   "execution_count": 6,
   "metadata": {},
   "outputs": [
    {
     "name": "stdout",
     "output_type": "stream",
     "text": [
      "Average tweet length:  24.07 tokens\n"
     ]
    }
   ],
   "source": [
    "# Count average sentence length \n",
    "\n",
    "all_tweets = df_tweet_tags['Tweets']\n",
    "sent_length = 0\n",
    "for tweet in all_tweets:\n",
    "    sent_length += len(tweet)\n",
    "\n",
    "avg_sent_length = sent_length/len(all_tweets)\n",
    "print('Average tweet length: ', round(avg_sent_length, 2), 'tokens')"
   ]
  },
  {
   "cell_type": "code",
   "execution_count": 7,
   "metadata": {},
   "outputs": [
    {
     "data": {
      "text/plain": "['ID', 'MIX-ID-EN', 'O', 'EN', 'MIX-JV-EN', 'JV', 'MIX-ID-JV']"
     },
     "execution_count": 7,
     "metadata": {},
     "output_type": "execute_result"
    }
   ],
   "source": [
    "from collections import Counter\n",
    "\n",
    "# get unique tags from the dataset\n",
    "[k for k,v in Counter(all_tags).items()]"
   ]
  },
  {
   "cell_type": "code",
   "execution_count": 8,
   "metadata": {},
   "outputs": [],
   "source": [
    "# create list of tuples from all words and all tags\n",
    "word_tag = list(zip(all_words, all_tags))\n",
    "# print(word_tag)"
   ]
  },
  {
   "cell_type": "code",
   "execution_count": 9,
   "metadata": {},
   "outputs": [
    {
     "data": {
      "text/plain": "          Token      Label\n0          Niat         ID\n1       ngetest  MIX-ID-EN\n2          arus         ID\n3             ,          O\n4      sekarang         ID\n...         ...        ...\n24302   apalagi         ID\n24303       ini         ID\n24304     video         EN\n24305      call         EN\n24306        ~~          O\n\n[24307 rows x 2 columns]",
      "text/html": "<div>\n<style scoped>\n    .dataframe tbody tr th:only-of-type {\n        vertical-align: middle;\n    }\n\n    .dataframe tbody tr th {\n        vertical-align: top;\n    }\n\n    .dataframe thead th {\n        text-align: right;\n    }\n</style>\n<table border=\"1\" class=\"dataframe\">\n  <thead>\n    <tr style=\"text-align: right;\">\n      <th></th>\n      <th>Token</th>\n      <th>Label</th>\n    </tr>\n  </thead>\n  <tbody>\n    <tr>\n      <th>0</th>\n      <td>Niat</td>\n      <td>ID</td>\n    </tr>\n    <tr>\n      <th>1</th>\n      <td>ngetest</td>\n      <td>MIX-ID-EN</td>\n    </tr>\n    <tr>\n      <th>2</th>\n      <td>arus</td>\n      <td>ID</td>\n    </tr>\n    <tr>\n      <th>3</th>\n      <td>,</td>\n      <td>O</td>\n    </tr>\n    <tr>\n      <th>4</th>\n      <td>sekarang</td>\n      <td>ID</td>\n    </tr>\n    <tr>\n      <th>...</th>\n      <td>...</td>\n      <td>...</td>\n    </tr>\n    <tr>\n      <th>24302</th>\n      <td>apalagi</td>\n      <td>ID</td>\n    </tr>\n    <tr>\n      <th>24303</th>\n      <td>ini</td>\n      <td>ID</td>\n    </tr>\n    <tr>\n      <th>24304</th>\n      <td>video</td>\n      <td>EN</td>\n    </tr>\n    <tr>\n      <th>24305</th>\n      <td>call</td>\n      <td>EN</td>\n    </tr>\n    <tr>\n      <th>24306</th>\n      <td>~~</td>\n      <td>O</td>\n    </tr>\n  </tbody>\n</table>\n<p>24307 rows × 2 columns</p>\n</div>"
     },
     "execution_count": 9,
     "metadata": {},
     "output_type": "execute_result"
    }
   ],
   "source": [
    "# convert list to dataframe\n",
    "df_wordtag = pd.DataFrame(word_tag, columns=['Token','Label'])\n",
    "df_wordtag"
   ]
  },
  {
   "cell_type": "code",
   "execution_count": 10,
   "metadata": {},
   "outputs": [
    {
     "data": {
      "text/plain": "24307"
     },
     "execution_count": 10,
     "metadata": {},
     "output_type": "execute_result"
    }
   ],
   "source": [
    "len(word_tag)"
   ]
  },
  {
   "cell_type": "code",
   "execution_count": 11,
   "metadata": {},
   "outputs": [
    {
     "name": "stdout",
     "output_type": "stream",
     "text": [
      "Average token length:  4.6 characters\n"
     ]
    }
   ],
   "source": [
    "all_tokens = df_wordtag['Token']\n",
    "token_length = 0\n",
    "for token in all_tokens:\n",
    "    token_length += len(token)\n",
    "\n",
    "avg_token_length = token_length/len(word_tag)\n",
    "print('Average token length: ', round(avg_token_length, 2), 'characters')"
   ]
  },
  {
   "cell_type": "code",
   "execution_count": 12,
   "metadata": {},
   "outputs": [
    {
     "name": "stdout",
     "output_type": "stream",
     "text": [
      "Number of tweets:  1010\n",
      "Number of tokens:  24307\n",
      "Number of unique tokens:  7641\n"
     ]
    }
   ],
   "source": [
    "# Dataset info\n",
    "\n",
    "num_token = len(df_wordtag)\n",
    "num_of_unique_token = df_wordtag['Token'].nunique()\n",
    "num_tweets = len(dt)\n",
    "\n",
    "print('Number of tweets: ', num_tweets)\n",
    "print('Number of tokens: ', num_token)\n",
    "print('Number of unique tokens: ', num_of_unique_token)"
   ]
  },
  {
   "cell_type": "code",
   "execution_count": 13,
   "metadata": {},
   "outputs": [
    {
     "name": "stdout",
     "output_type": "stream",
     "text": [
      "Number of data per label\n"
     ]
    },
    {
     "data": {
      "text/plain": "ID           11137\nO             5476\nJV            4908\nEN            1746\nMIX-ID-EN      578\nMIX-JV-EN      258\nMIX-ID-JV      204\nName: Label, dtype: int64"
     },
     "execution_count": 13,
     "metadata": {},
     "output_type": "execute_result"
    }
   ],
   "source": [
    "print('Number of data per label')\n",
    "df_wordtag.Label.value_counts()"
   ]
  },
  {
   "cell_type": "code",
   "execution_count": 14,
   "metadata": {},
   "outputs": [
    {
     "name": "stdout",
     "output_type": "stream",
     "text": [
      "CMI:  25.16\n",
      "CMI Mixed:  26.25\n"
     ]
    }
   ],
   "source": [
    "import numpy as np\n",
    "from helper.metrics import code_mix_index\n",
    "\n",
    "cmi_all = []\n",
    "\n",
    "for words, tags in data[0]:\n",
    "    cmi = code_mix_index(tags, ['ID', 'JV', 'EN', 'MIX-JV-EN', 'MIX-ID-JV', 'MIX-ID-EN']) #exclude NE and O tags\n",
    "    cmi_all.append(cmi)\n",
    "\n",
    "cmi_all = np.array(cmi_all)\n",
    "\n",
    "#Compute CMI at the corpus level by averaging the values for all sentences.\n",
    "#CMI all, include 0 score in the data\n",
    "#CMI mixed: only consider data with mix language, exclude tweets with 0 score\n",
    "cmi = np.average(cmi_all) * 100\n",
    "cmi_mixed = np.average(cmi_all[cmi_all > 0]) * 100\n",
    "\n",
    "print('CMI: ', round(cmi, 2)) \n",
    "print('CMI Mixed: ', round(cmi_mixed, 2)) "
   ]
  },
  {
   "cell_type": "code",
   "execution_count": 15,
   "metadata": {},
   "outputs": [],
   "source": [
    "all_tokens = []\n",
    "all_tags = []\n",
    "for tokens, tags in data[0]:\n",
    "    all_tokens.append(tokens)\n",
    "    all_tags.append(tags)"
   ]
  },
  {
   "cell_type": "code",
   "execution_count": 16,
   "metadata": {},
   "outputs": [],
   "source": [
    "# get all ngrams from data\n",
    "all_ngrams = []\n",
    "for taglist in all_tags:\n",
    "    all_ngrams.extend(nltk.ngrams(taglist, 3))\n",
    "\n",
    "#all_ngrams"
   ]
  },
  {
   "cell_type": "code",
   "execution_count": 17,
   "metadata": {},
   "outputs": [],
   "source": [
    "counts = collections.Counter()\n",
    "for taglist in all_tags:\n",
    "    counts.update(nltk.ngrams(taglist, 3))"
   ]
  },
  {
   "cell_type": "code",
   "execution_count": 18,
   "metadata": {},
   "outputs": [],
   "source": [
    "mocom = counts.most_common(30)"
   ]
  },
  {
   "cell_type": "code",
   "execution_count": 19,
   "metadata": {},
   "outputs": [],
   "source": [
    "tag_transition_list = pd.DataFrame(mocom, columns=['Transition','Frequency'])"
   ]
  },
  {
   "cell_type": "code",
   "execution_count": 20,
   "metadata": {
    "pycharm": {
     "name": "#%%\n"
    }
   },
   "outputs": [
    {
     "data": {
      "text/plain": "             Transition  Frequency\n0          (ID, ID, ID)       5294\n1          (JV, JV, JV)       2043\n2           (O, ID, ID)       1413\n3           (ID, ID, O)       1380\n4           (ID, O, ID)       1017\n5           (O, JV, JV)        615\n6             (O, O, O)        609\n7           (JV, JV, O)        602\n8            (ID, O, O)        397\n9           (JV, O, JV)        387\n10         (EN, EN, EN)        380\n11         (ID, ID, EN)        353\n12           (O, O, ID)        350\n13  (ID, ID, MIX-ID-EN)        320\n14  (ID, MIX-ID-EN, ID)        296\n15         (EN, ID, ID)        261\n16  (MIX-ID-EN, ID, ID)        245\n17           (O, ID, O)        238\n18         (ID, EN, ID)        237\n19         (ID, JV, JV)        220\n20         (JV, JV, ID)        207\n21           (JV, O, O)        186\n22          (EN, O, ID)        171\n23          (EN, EN, O)        164\n24           (O, O, JV)        151\n25          (O, EN, EN)        143\n26         (ID, ID, JV)        141\n27          (ID, O, EN)        139\n28         (JV, ID, ID)        135\n29          (ID, O, JV)        132",
      "text/html": "<div>\n<style scoped>\n    .dataframe tbody tr th:only-of-type {\n        vertical-align: middle;\n    }\n\n    .dataframe tbody tr th {\n        vertical-align: top;\n    }\n\n    .dataframe thead th {\n        text-align: right;\n    }\n</style>\n<table border=\"1\" class=\"dataframe\">\n  <thead>\n    <tr style=\"text-align: right;\">\n      <th></th>\n      <th>Transition</th>\n      <th>Frequency</th>\n    </tr>\n  </thead>\n  <tbody>\n    <tr>\n      <th>0</th>\n      <td>(ID, ID, ID)</td>\n      <td>5294</td>\n    </tr>\n    <tr>\n      <th>1</th>\n      <td>(JV, JV, JV)</td>\n      <td>2043</td>\n    </tr>\n    <tr>\n      <th>2</th>\n      <td>(O, ID, ID)</td>\n      <td>1413</td>\n    </tr>\n    <tr>\n      <th>3</th>\n      <td>(ID, ID, O)</td>\n      <td>1380</td>\n    </tr>\n    <tr>\n      <th>4</th>\n      <td>(ID, O, ID)</td>\n      <td>1017</td>\n    </tr>\n    <tr>\n      <th>5</th>\n      <td>(O, JV, JV)</td>\n      <td>615</td>\n    </tr>\n    <tr>\n      <th>6</th>\n      <td>(O, O, O)</td>\n      <td>609</td>\n    </tr>\n    <tr>\n      <th>7</th>\n      <td>(JV, JV, O)</td>\n      <td>602</td>\n    </tr>\n    <tr>\n      <th>8</th>\n      <td>(ID, O, O)</td>\n      <td>397</td>\n    </tr>\n    <tr>\n      <th>9</th>\n      <td>(JV, O, JV)</td>\n      <td>387</td>\n    </tr>\n    <tr>\n      <th>10</th>\n      <td>(EN, EN, EN)</td>\n      <td>380</td>\n    </tr>\n    <tr>\n      <th>11</th>\n      <td>(ID, ID, EN)</td>\n      <td>353</td>\n    </tr>\n    <tr>\n      <th>12</th>\n      <td>(O, O, ID)</td>\n      <td>350</td>\n    </tr>\n    <tr>\n      <th>13</th>\n      <td>(ID, ID, MIX-ID-EN)</td>\n      <td>320</td>\n    </tr>\n    <tr>\n      <th>14</th>\n      <td>(ID, MIX-ID-EN, ID)</td>\n      <td>296</td>\n    </tr>\n    <tr>\n      <th>15</th>\n      <td>(EN, ID, ID)</td>\n      <td>261</td>\n    </tr>\n    <tr>\n      <th>16</th>\n      <td>(MIX-ID-EN, ID, ID)</td>\n      <td>245</td>\n    </tr>\n    <tr>\n      <th>17</th>\n      <td>(O, ID, O)</td>\n      <td>238</td>\n    </tr>\n    <tr>\n      <th>18</th>\n      <td>(ID, EN, ID)</td>\n      <td>237</td>\n    </tr>\n    <tr>\n      <th>19</th>\n      <td>(ID, JV, JV)</td>\n      <td>220</td>\n    </tr>\n    <tr>\n      <th>20</th>\n      <td>(JV, JV, ID)</td>\n      <td>207</td>\n    </tr>\n    <tr>\n      <th>21</th>\n      <td>(JV, O, O)</td>\n      <td>186</td>\n    </tr>\n    <tr>\n      <th>22</th>\n      <td>(EN, O, ID)</td>\n      <td>171</td>\n    </tr>\n    <tr>\n      <th>23</th>\n      <td>(EN, EN, O)</td>\n      <td>164</td>\n    </tr>\n    <tr>\n      <th>24</th>\n      <td>(O, O, JV)</td>\n      <td>151</td>\n    </tr>\n    <tr>\n      <th>25</th>\n      <td>(O, EN, EN)</td>\n      <td>143</td>\n    </tr>\n    <tr>\n      <th>26</th>\n      <td>(ID, ID, JV)</td>\n      <td>141</td>\n    </tr>\n    <tr>\n      <th>27</th>\n      <td>(ID, O, EN)</td>\n      <td>139</td>\n    </tr>\n    <tr>\n      <th>28</th>\n      <td>(JV, ID, ID)</td>\n      <td>135</td>\n    </tr>\n    <tr>\n      <th>29</th>\n      <td>(ID, O, JV)</td>\n      <td>132</td>\n    </tr>\n  </tbody>\n</table>\n</div>"
     },
     "execution_count": 20,
     "metadata": {},
     "output_type": "execute_result"
    }
   ],
   "source": [
    "tag_transition_list"
   ]
  },
  {
   "cell_type": "code",
   "execution_count": 20,
   "metadata": {
    "collapsed": false,
    "pycharm": {
     "name": "#%%\n"
    }
   },
   "outputs": [],
   "source": []
  }
 ],
 "metadata": {
  "interpreter": {
   "hash": "949777d72b0d2535278d3dc13498b2535136f6dfe0678499012e853ee9abcab1"
  },
  "kernelspec": {
   "display_name": "Python 3.9.6 64-bit",
   "language": "python",
   "name": "python3"
  },
  "language_info": {
   "codemirror_mode": {
    "name": "ipython",
    "version": 3
   },
   "file_extension": ".py",
   "mimetype": "text/x-python",
   "name": "python",
   "nbconvert_exporter": "python",
   "pygments_lexer": "ipython3",
   "version": "3.9.6"
  },
  "orig_nbformat": 4
 },
 "nbformat": 4,
 "nbformat_minor": 2
}