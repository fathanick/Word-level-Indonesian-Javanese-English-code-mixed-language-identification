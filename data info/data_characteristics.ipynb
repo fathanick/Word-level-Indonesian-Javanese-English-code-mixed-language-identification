{
 "cells": [
  {
   "cell_type": "code",
   "execution_count": 1,
   "metadata": {},
   "outputs": [],
   "source": [
    "import sys\n",
    "sys.path.append('../helper/')\n",
    "\n",
    "import pandas as pd\n",
    "import nltk\n",
    "import collections\n",
    "from dataset_reader import read_tsv\n",
    "# from helper.dataset_reader import read_tsv"
   ]
  },
  {
   "cell_type": "code",
   "execution_count": 2,
   "metadata": {},
   "outputs": [],
   "source": [
    "#data = read_tsv('../annotation agreement/merged-tagged-annotator2.tsv')\n",
    "data = read_tsv('../dataset/all-merged-data-140422.tsv')\n",
    "#data = read_tsv('../dataset/test-data-140422.tsv')"
   ]
  },
  {
   "cell_type": "code",
   "execution_count": 3,
   "metadata": {},
   "outputs": [],
   "source": [
    "# data returns multiple values\n",
    "# the following line returns all data, all words, and all tags from the data\n",
    "dt, all_words, all_tags = data"
   ]
  },
  {
   "cell_type": "code",
   "execution_count": 4,
   "metadata": {
    "collapsed": false,
    "pycharm": {
     "name": "#%%\n"
    }
   },
   "outputs": [
    {
     "data": {
      "text/plain": "                                              Tweets  \\\n0  [Tumben, xl, banter, go, download, ,, ,, downl...   \n1  [@myXL, @myXLCare, knp, xl, skr, jd, susah, si...   \n2  [Lak, download, nggawe, cl, iku, subuh, baru, ...   \n3  [xl, ngebut, ., Banter, banget, ., Download, 0...   \n4  [Opone, banter, limite, mek, 512kbps, RT, @asl...   \n\n                                                Tags  \n0  [ID, O, JV, JV, EN, O, O, EN, ID, O, O, ID, ID...  \n1  [O, O, ID, O, ID, ID, ID, EN, ID, O, ID, EN, I...  \n2  [JV, EN, JV, O, JV, ID, ID, ID, O, JV, JV, JV,...  \n3         [O, ID, O, JV, JV, O, EN, O, ID, O, ID, O]  \n4  [JV, JV, MIX-JV-EN, JV, EN, EN, O, JV, O, EN, ...  ",
      "text/html": "<div>\n<style scoped>\n    .dataframe tbody tr th:only-of-type {\n        vertical-align: middle;\n    }\n\n    .dataframe tbody tr th {\n        vertical-align: top;\n    }\n\n    .dataframe thead th {\n        text-align: right;\n    }\n</style>\n<table border=\"1\" class=\"dataframe\">\n  <thead>\n    <tr style=\"text-align: right;\">\n      <th></th>\n      <th>Tweets</th>\n      <th>Tags</th>\n    </tr>\n  </thead>\n  <tbody>\n    <tr>\n      <th>0</th>\n      <td>[Tumben, xl, banter, go, download, ,, ,, downl...</td>\n      <td>[ID, O, JV, JV, EN, O, O, EN, ID, O, O, ID, ID...</td>\n    </tr>\n    <tr>\n      <th>1</th>\n      <td>[@myXL, @myXLCare, knp, xl, skr, jd, susah, si...</td>\n      <td>[O, O, ID, O, ID, ID, ID, EN, ID, O, ID, EN, I...</td>\n    </tr>\n    <tr>\n      <th>2</th>\n      <td>[Lak, download, nggawe, cl, iku, subuh, baru, ...</td>\n      <td>[JV, EN, JV, O, JV, ID, ID, ID, O, JV, JV, JV,...</td>\n    </tr>\n    <tr>\n      <th>3</th>\n      <td>[xl, ngebut, ., Banter, banget, ., Download, 0...</td>\n      <td>[O, ID, O, JV, JV, O, EN, O, ID, O, ID, O]</td>\n    </tr>\n    <tr>\n      <th>4</th>\n      <td>[Opone, banter, limite, mek, 512kbps, RT, @asl...</td>\n      <td>[JV, JV, MIX-JV-EN, JV, EN, EN, O, JV, O, EN, ...</td>\n    </tr>\n  </tbody>\n</table>\n</div>"
     },
     "execution_count": 4,
     "metadata": {},
     "output_type": "execute_result"
    }
   ],
   "source": [
    "# Convert to dataframe [Tweet | Tags]\n",
    "df_tweet_tags = pd.DataFrame(dt, columns=['Tweets','Tags'])\n",
    "df_tweet_tags.head()"
   ]
  },
  {
   "cell_type": "code",
   "execution_count": 5,
   "metadata": {},
   "outputs": [
    {
     "name": "stdout",
     "output_type": "stream",
     "text": [
      "Average tweet length:  24.8 tokens\n"
     ]
    }
   ],
   "source": [
    "# Count average sentence length \n",
    "\n",
    "all_tweets = df_tweet_tags['Tweets']\n",
    "sent_length = 0\n",
    "for tweet in all_tweets:\n",
    "    sent_length += len(tweet)\n",
    "\n",
    "avg_sent_length = sent_length/len(all_tweets)\n",
    "print('Average tweet length: ', round(avg_sent_length, 2), 'tokens')"
   ]
  },
  {
   "cell_type": "code",
   "execution_count": 6,
   "metadata": {},
   "outputs": [
    {
     "data": {
      "text/plain": "['ID', 'O', 'JV', 'EN', 'MIX-JV-EN', 'MIX-ID-JV', 'MIX-ID-EN']"
     },
     "execution_count": 6,
     "metadata": {},
     "output_type": "execute_result"
    }
   ],
   "source": [
    "from collections import Counter\n",
    "\n",
    "# get unique tags from the dataset\n",
    "[k for k,v in Counter(all_tags).items()]"
   ]
  },
  {
   "cell_type": "code",
   "execution_count": 7,
   "metadata": {},
   "outputs": [],
   "source": [
    "# create list of tuples from all words and all tags\n",
    "word_tag = list(zip(all_words, all_tags))\n",
    "# print(word_tag)"
   ]
  },
  {
   "cell_type": "code",
   "execution_count": 8,
   "metadata": {},
   "outputs": [
    {
     "data": {
      "text/plain": "           Token Label\n0         Tumben    ID\n1             xl     O\n2         banter    JV\n3             go    JV\n4       download    EN\n...          ...   ...\n133785   apalagi    ID\n133786       ini    ID\n133787     video    EN\n133788      call    EN\n133789        ~~     O\n\n[133790 rows x 2 columns]",
      "text/html": "<div>\n<style scoped>\n    .dataframe tbody tr th:only-of-type {\n        vertical-align: middle;\n    }\n\n    .dataframe tbody tr th {\n        vertical-align: top;\n    }\n\n    .dataframe thead th {\n        text-align: right;\n    }\n</style>\n<table border=\"1\" class=\"dataframe\">\n  <thead>\n    <tr style=\"text-align: right;\">\n      <th></th>\n      <th>Token</th>\n      <th>Label</th>\n    </tr>\n  </thead>\n  <tbody>\n    <tr>\n      <th>0</th>\n      <td>Tumben</td>\n      <td>ID</td>\n    </tr>\n    <tr>\n      <th>1</th>\n      <td>xl</td>\n      <td>O</td>\n    </tr>\n    <tr>\n      <th>2</th>\n      <td>banter</td>\n      <td>JV</td>\n    </tr>\n    <tr>\n      <th>3</th>\n      <td>go</td>\n      <td>JV</td>\n    </tr>\n    <tr>\n      <th>4</th>\n      <td>download</td>\n      <td>EN</td>\n    </tr>\n    <tr>\n      <th>...</th>\n      <td>...</td>\n      <td>...</td>\n    </tr>\n    <tr>\n      <th>133785</th>\n      <td>apalagi</td>\n      <td>ID</td>\n    </tr>\n    <tr>\n      <th>133786</th>\n      <td>ini</td>\n      <td>ID</td>\n    </tr>\n    <tr>\n      <th>133787</th>\n      <td>video</td>\n      <td>EN</td>\n    </tr>\n    <tr>\n      <th>133788</th>\n      <td>call</td>\n      <td>EN</td>\n    </tr>\n    <tr>\n      <th>133789</th>\n      <td>~~</td>\n      <td>O</td>\n    </tr>\n  </tbody>\n</table>\n<p>133790 rows × 2 columns</p>\n</div>"
     },
     "execution_count": 8,
     "metadata": {},
     "output_type": "execute_result"
    }
   ],
   "source": [
    "# convert list to dataframe\n",
    "df_wordtag = pd.DataFrame(word_tag, columns=['Token','Label'])\n",
    "df_wordtag"
   ]
  },
  {
   "cell_type": "code",
   "execution_count": 9,
   "metadata": {},
   "outputs": [
    {
     "data": {
      "text/plain": "133790"
     },
     "execution_count": 9,
     "metadata": {},
     "output_type": "execute_result"
    }
   ],
   "source": [
    "len(word_tag)"
   ]
  },
  {
   "cell_type": "code",
   "execution_count": 10,
   "metadata": {},
   "outputs": [
    {
     "name": "stdout",
     "output_type": "stream",
     "text": [
      "Average token length:  4.57 characters\n"
     ]
    }
   ],
   "source": [
    "all_tokens = df_wordtag['Token']\n",
    "token_length = 0\n",
    "for token in all_tokens:\n",
    "    token_length += len(token)\n",
    "\n",
    "avg_token_length = token_length/len(word_tag)\n",
    "print('Average token length: ', round(avg_token_length, 2), 'characters')"
   ]
  },
  {
   "cell_type": "code",
   "execution_count": 11,
   "metadata": {},
   "outputs": [
    {
     "name": "stdout",
     "output_type": "stream",
     "text": [
      "Number of tweets:  5394\n",
      "Number of tokens:  133790\n",
      "Number of unique tokens:  26889\n"
     ]
    }
   ],
   "source": [
    "# Dataset info\n",
    "\n",
    "num_token = len(df_wordtag)\n",
    "num_of_unique_token = df_wordtag['Token'].nunique()\n",
    "num_tweets = len(dt)\n",
    "\n",
    "print('Number of tweets: ', num_tweets)\n",
    "print('Number of tokens: ', num_token)\n",
    "print('Number of unique tokens: ', num_of_unique_token)"
   ]
  },
  {
   "cell_type": "code",
   "execution_count": 12,
   "metadata": {},
   "outputs": [
    {
     "data": {
      "text/plain": "           counts    per\nID          67682  50.6%\nO           30729  23.0%\nEN          16082  12.0%\nJV          14616  10.9%\nMIX-ID-EN    2976   2.2%\nMIX-ID-JV     916   0.7%\nMIX-JV-EN     789   0.6%",
      "text/html": "<div>\n<style scoped>\n    .dataframe tbody tr th:only-of-type {\n        vertical-align: middle;\n    }\n\n    .dataframe tbody tr th {\n        vertical-align: top;\n    }\n\n    .dataframe thead th {\n        text-align: right;\n    }\n</style>\n<table border=\"1\" class=\"dataframe\">\n  <thead>\n    <tr style=\"text-align: right;\">\n      <th></th>\n      <th>counts</th>\n      <th>per</th>\n    </tr>\n  </thead>\n  <tbody>\n    <tr>\n      <th>ID</th>\n      <td>67682</td>\n      <td>50.6%</td>\n    </tr>\n    <tr>\n      <th>O</th>\n      <td>30729</td>\n      <td>23.0%</td>\n    </tr>\n    <tr>\n      <th>EN</th>\n      <td>16082</td>\n      <td>12.0%</td>\n    </tr>\n    <tr>\n      <th>JV</th>\n      <td>14616</td>\n      <td>10.9%</td>\n    </tr>\n    <tr>\n      <th>MIX-ID-EN</th>\n      <td>2976</td>\n      <td>2.2%</td>\n    </tr>\n    <tr>\n      <th>MIX-ID-JV</th>\n      <td>916</td>\n      <td>0.7%</td>\n    </tr>\n    <tr>\n      <th>MIX-JV-EN</th>\n      <td>789</td>\n      <td>0.6%</td>\n    </tr>\n  </tbody>\n</table>\n</div>"
     },
     "execution_count": 12,
     "metadata": {},
     "output_type": "execute_result"
    }
   ],
   "source": [
    "# print('Number of data per label')\n",
    "counts = df_wordtag.Label.value_counts()\n",
    "percent = df_wordtag.Label.value_counts(normalize=True).mul(100).round(1).astype(str) + '%'\n",
    "pd.DataFrame({'counts': counts, 'per': percent})"
   ]
  },
  {
   "cell_type": "code",
   "execution_count": 13,
   "metadata": {},
   "outputs": [
    {
     "name": "stdout",
     "output_type": "stream",
     "text": [
      "CMI:  24.31\n",
      "CMI Mixed:  24.94\n"
     ]
    }
   ],
   "source": [
    "import numpy as np\n",
    "from helper.metrics import code_mix_index\n",
    "\n",
    "cmi_all = []\n",
    "\n",
    "for words, tags in data[0]:\n",
    "    cmi = code_mix_index(tags, ['ID', 'JV', 'EN', 'MIX-JV-EN', 'MIX-ID-JV', 'MIX-ID-EN']) #exclude NE and O tags\n",
    "    cmi_all.append(cmi)\n",
    "\n",
    "cmi_all = np.array(cmi_all)\n",
    "\n",
    "#Compute CMI at the corpus level by averaging the values for all sentences.\n",
    "#CMI all, include 0 score in the data\n",
    "#CMI mixed: only consider data with mix language, exclude tweets with 0 score\n",
    "cmi = np.average(cmi_all) * 100\n",
    "cmi_mixed = np.average(cmi_all[cmi_all > 0]) * 100\n",
    "\n",
    "print('CMI: ', round(cmi, 2)) \n",
    "print('CMI Mixed: ', round(cmi_mixed, 2)) "
   ]
  },
  {
   "cell_type": "code",
   "execution_count": 14,
   "metadata": {},
   "outputs": [],
   "source": [
    "all_tokens = []\n",
    "all_tags = []\n",
    "for tokens, tags in data[0]:\n",
    "    all_tokens.append(tokens)\n",
    "    all_tags.append(tags)"
   ]
  },
  {
   "cell_type": "code",
   "execution_count": 15,
   "metadata": {},
   "outputs": [],
   "source": [
    "# get all ngrams from data\n",
    "all_ngrams = []\n",
    "for taglist in all_tags:\n",
    "    all_ngrams.extend(nltk.ngrams(taglist, 3))\n",
    "\n",
    "#all_ngrams"
   ]
  },
  {
   "cell_type": "code",
   "execution_count": 16,
   "metadata": {},
   "outputs": [],
   "source": [
    "counts = collections.Counter()\n",
    "for taglist in all_tags:\n",
    "    counts.update(nltk.ngrams(taglist, 3))"
   ]
  },
  {
   "cell_type": "code",
   "execution_count": 17,
   "metadata": {},
   "outputs": [],
   "source": [
    "mocom = counts.most_common(30)"
   ]
  },
  {
   "cell_type": "code",
   "execution_count": 18,
   "metadata": {},
   "outputs": [],
   "source": [
    "tag_transition_list = pd.DataFrame(mocom, columns=['Transition','Frequency'])"
   ]
  },
  {
   "cell_type": "code",
   "execution_count": 19,
   "metadata": {
    "pycharm": {
     "name": "#%%\n"
    }
   },
   "outputs": [
    {
     "data": {
      "text/plain": "             Transition  Frequency\n0          (ID, ID, ID)      31980\n1           (O, ID, ID)       9092\n2           (ID, ID, O)       8833\n3           (ID, O, ID)       6749\n4          (EN, EN, EN)       5432\n5          (JV, JV, JV)       5153\n6             (O, O, O)       3414\n7          (ID, ID, EN)       2737\n8            (ID, O, O)       2500\n9            (O, O, ID)       2285\n10         (EN, ID, ID)       2138\n11          (O, JV, JV)       1886\n12         (ID, EN, ID)       1842\n13          (JV, JV, O)       1787\n14          (EN, EN, O)       1732\n15           (O, ID, O)       1645\n16  (ID, ID, MIX-ID-EN)       1563\n17          (O, EN, EN)       1524\n18  (ID, MIX-ID-EN, ID)       1505\n19  (MIX-ID-EN, ID, ID)       1306\n20          (EN, O, ID)       1253\n21          (JV, O, JV)       1128\n22         (ID, EN, EN)       1034\n23          (ID, O, EN)        989\n24         (EN, EN, ID)        900\n25           (EN, O, O)        871\n26          (EN, O, EN)        865\n27          (ID, EN, O)        854\n28          (EN, ID, O)        765\n29         (ID, JV, JV)        713",
      "text/html": "<div>\n<style scoped>\n    .dataframe tbody tr th:only-of-type {\n        vertical-align: middle;\n    }\n\n    .dataframe tbody tr th {\n        vertical-align: top;\n    }\n\n    .dataframe thead th {\n        text-align: right;\n    }\n</style>\n<table border=\"1\" class=\"dataframe\">\n  <thead>\n    <tr style=\"text-align: right;\">\n      <th></th>\n      <th>Transition</th>\n      <th>Frequency</th>\n    </tr>\n  </thead>\n  <tbody>\n    <tr>\n      <th>0</th>\n      <td>(ID, ID, ID)</td>\n      <td>31980</td>\n    </tr>\n    <tr>\n      <th>1</th>\n      <td>(O, ID, ID)</td>\n      <td>9092</td>\n    </tr>\n    <tr>\n      <th>2</th>\n      <td>(ID, ID, O)</td>\n      <td>8833</td>\n    </tr>\n    <tr>\n      <th>3</th>\n      <td>(ID, O, ID)</td>\n      <td>6749</td>\n    </tr>\n    <tr>\n      <th>4</th>\n      <td>(EN, EN, EN)</td>\n      <td>5432</td>\n    </tr>\n    <tr>\n      <th>5</th>\n      <td>(JV, JV, JV)</td>\n      <td>5153</td>\n    </tr>\n    <tr>\n      <th>6</th>\n      <td>(O, O, O)</td>\n      <td>3414</td>\n    </tr>\n    <tr>\n      <th>7</th>\n      <td>(ID, ID, EN)</td>\n      <td>2737</td>\n    </tr>\n    <tr>\n      <th>8</th>\n      <td>(ID, O, O)</td>\n      <td>2500</td>\n    </tr>\n    <tr>\n      <th>9</th>\n      <td>(O, O, ID)</td>\n      <td>2285</td>\n    </tr>\n    <tr>\n      <th>10</th>\n      <td>(EN, ID, ID)</td>\n      <td>2138</td>\n    </tr>\n    <tr>\n      <th>11</th>\n      <td>(O, JV, JV)</td>\n      <td>1886</td>\n    </tr>\n    <tr>\n      <th>12</th>\n      <td>(ID, EN, ID)</td>\n      <td>1842</td>\n    </tr>\n    <tr>\n      <th>13</th>\n      <td>(JV, JV, O)</td>\n      <td>1787</td>\n    </tr>\n    <tr>\n      <th>14</th>\n      <td>(EN, EN, O)</td>\n      <td>1732</td>\n    </tr>\n    <tr>\n      <th>15</th>\n      <td>(O, ID, O)</td>\n      <td>1645</td>\n    </tr>\n    <tr>\n      <th>16</th>\n      <td>(ID, ID, MIX-ID-EN)</td>\n      <td>1563</td>\n    </tr>\n    <tr>\n      <th>17</th>\n      <td>(O, EN, EN)</td>\n      <td>1524</td>\n    </tr>\n    <tr>\n      <th>18</th>\n      <td>(ID, MIX-ID-EN, ID)</td>\n      <td>1505</td>\n    </tr>\n    <tr>\n      <th>19</th>\n      <td>(MIX-ID-EN, ID, ID)</td>\n      <td>1306</td>\n    </tr>\n    <tr>\n      <th>20</th>\n      <td>(EN, O, ID)</td>\n      <td>1253</td>\n    </tr>\n    <tr>\n      <th>21</th>\n      <td>(JV, O, JV)</td>\n      <td>1128</td>\n    </tr>\n    <tr>\n      <th>22</th>\n      <td>(ID, EN, EN)</td>\n      <td>1034</td>\n    </tr>\n    <tr>\n      <th>23</th>\n      <td>(ID, O, EN)</td>\n      <td>989</td>\n    </tr>\n    <tr>\n      <th>24</th>\n      <td>(EN, EN, ID)</td>\n      <td>900</td>\n    </tr>\n    <tr>\n      <th>25</th>\n      <td>(EN, O, O)</td>\n      <td>871</td>\n    </tr>\n    <tr>\n      <th>26</th>\n      <td>(EN, O, EN)</td>\n      <td>865</td>\n    </tr>\n    <tr>\n      <th>27</th>\n      <td>(ID, EN, O)</td>\n      <td>854</td>\n    </tr>\n    <tr>\n      <th>28</th>\n      <td>(EN, ID, O)</td>\n      <td>765</td>\n    </tr>\n    <tr>\n      <th>29</th>\n      <td>(ID, JV, JV)</td>\n      <td>713</td>\n    </tr>\n  </tbody>\n</table>\n</div>"
     },
     "execution_count": 19,
     "metadata": {},
     "output_type": "execute_result"
    }
   ],
   "source": [
    "tag_transition_list"
   ]
  },
  {
   "cell_type": "code",
   "execution_count": 19,
   "metadata": {
    "collapsed": false,
    "pycharm": {
     "name": "#%%\n"
    }
   },
   "outputs": [],
   "source": []
  }
 ],
 "metadata": {
  "interpreter": {
   "hash": "949777d72b0d2535278d3dc13498b2535136f6dfe0678499012e853ee9abcab1"
  },
  "kernelspec": {
   "display_name": "Python 3.9.6 64-bit",
   "language": "python",
   "name": "python3"
  },
  "language_info": {
   "codemirror_mode": {
    "name": "ipython",
    "version": 3
   },
   "file_extension": ".py",
   "mimetype": "text/x-python",
   "name": "python",
   "nbconvert_exporter": "python",
   "pygments_lexer": "ipython3",
   "version": "3.9.6"
  },
  "orig_nbformat": 4
 },
 "nbformat": 4,
 "nbformat_minor": 2
}