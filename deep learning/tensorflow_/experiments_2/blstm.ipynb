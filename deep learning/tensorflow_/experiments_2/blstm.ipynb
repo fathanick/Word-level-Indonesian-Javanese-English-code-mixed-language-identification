{
 "cells": [
  {
   "cell_type": "code",
   "execution_count": 1,
   "metadata": {
    "collapsed": true
   },
   "outputs": [],
   "source": [
    "from helper.dataset_reader import read_tsv\n",
    "from helper.data_transformer import *\n",
    "from sklearn.model_selection import train_test_split\n",
    "from helper.utils import *\n",
    "from tensorflow.keras.preprocessing.sequence import pad_sequences\n",
    "from tensorflow.keras.preprocessing.text import Tokenizer\n",
    "from tensorflow.keras.utils import to_categorical\n",
    "import pandas as pd\n",
    "import tensorflow as tf"
   ]
  },
  {
   "cell_type": "code",
   "execution_count": 2,
   "outputs": [
    {
     "name": "stdout",
     "output_type": "stream",
     "text": [
      "Tensorflow version: 2.8.0\n",
      "GPU detected: []\n"
     ]
    }
   ],
   "source": [
    "print('Tensorflow version:', tf.__version__)\n",
    "print('GPU detected:', tf.config.list_physical_devices('GPU'))"
   ],
   "metadata": {
    "collapsed": false,
    "pycharm": {
     "name": "#%%\n"
    }
   }
  },
  {
   "cell_type": "code",
   "execution_count": 3,
   "outputs": [],
   "source": [
    "merged_data = read_tsv('../../../dataset/ijelid-batch-1.tsv')\n",
    "train_data = read_tsv('../../../dataset/split_batch_1/train.tsv')\n",
    "val_data = read_tsv('../../../dataset/split_batch_1/val.tsv')\n",
    "test_data = read_tsv('../../../dataset/split_batch_1/test.tsv')"
   ],
   "metadata": {
    "collapsed": false,
    "pycharm": {
     "name": "#%%\n"
    }
   }
  },
  {
   "cell_type": "code",
   "execution_count": 4,
   "outputs": [
    {
     "name": "stdout",
     "output_type": "stream",
     "text": [
      "26890\n",
      "133791\n",
      "7\n"
     ]
    }
   ],
   "source": [
    "words = list(set(merged_data[1]))\n",
    "words.append(\"PAD\"); print(len(words))\n",
    "tags = merged_data[2]; print(len(tags))\n",
    "num_tags = len(list(set(merged_data[2]))); print(num_tags)"
   ],
   "metadata": {
    "collapsed": false,
    "pycharm": {
     "name": "#%%\n"
    }
   }
  },
  {
   "cell_type": "code",
   "execution_count": 5,
   "outputs": [],
   "source": [
    "max_len = 100\n",
    "word_idx = word2idx(words, 0)\n",
    "tag_idx = tag2idx(tags, 0)"
   ],
   "metadata": {
    "collapsed": false,
    "pycharm": {
     "name": "#%%\n"
    }
   }
  },
  {
   "cell_type": "code",
   "execution_count": 6,
   "outputs": [],
   "source": [
    "dt_pair = to_token_tag_list(merged_data)"
   ],
   "metadata": {
    "collapsed": false,
    "pycharm": {
     "name": "#%%\n"
    }
   }
  },
  {
   "cell_type": "code",
   "execution_count": 10,
   "outputs": [],
   "source": [
    "# Map the sentences to a sequence of numbers and then pad the sequence\n",
    "\n",
    "X = [[word_idx[w[0]] for w in s] for s in dt_pair]\n",
    "X = pad_sequences(maxlen=max_len, sequences=X, padding='post')\n",
    "\n",
    "y = LabelEncoder().fit_transform(tags)\n",
    "y = to_categorical(y, num_tags)\n",
    "#y = [[tag_idx[t[1]] for t in s] for s in dt_pair]\n",
    "#print(y)\n",
    "#y = pad_sequences(maxlen=max_len, sequences=y, padding='post', value=tag_idx[\"O\"])"
   ],
   "metadata": {
    "collapsed": false,
    "pycharm": {
     "name": "#%%\n"
    }
   }
  },
  {
   "cell_type": "code",
   "execution_count": 11,
   "outputs": [
    {
     "data": {
      "text/plain": "array([[ 5794, 21440,  6572, ...,     0,     0,     0],\n       [18868,  4517,  7346, ...,     0,     0,     0],\n       [12399, 12980, 10931, ...,     0,     0,     0],\n       ...,\n       [11669, 12416, 23684, ...,     0,     0,     0],\n       [16847, 20021,  3569, ...,     0,     0,     0],\n       [15699, 20254, 20613, ...,     0,     0,     0]], dtype=int32)"
     },
     "execution_count": 11,
     "metadata": {},
     "output_type": "execute_result"
    }
   ],
   "source": [
    "X"
   ],
   "metadata": {
    "collapsed": false,
    "pycharm": {
     "name": "#%%\n"
    }
   }
  },
  {
   "cell_type": "code",
   "execution_count": 10,
   "outputs": [
    {
     "data": {
      "text/plain": "array([[0., 1., 0., ..., 0., 0., 0.],\n       [0., 0., 0., ..., 0., 0., 1.],\n       [0., 0., 1., ..., 0., 0., 0.],\n       ...,\n       [1., 0., 0., ..., 0., 0., 0.],\n       [1., 0., 0., ..., 0., 0., 0.],\n       [0., 0., 0., ..., 0., 0., 1.]], dtype=float32)"
     },
     "execution_count": 10,
     "metadata": {},
     "output_type": "execute_result"
    }
   ],
   "source": [
    "y"
   ],
   "metadata": {
    "collapsed": false,
    "pycharm": {
     "name": "#%%\n"
    }
   }
  },
  {
   "cell_type": "code",
   "execution_count": null,
   "outputs": [],
   "source": [],
   "metadata": {
    "collapsed": false,
    "pycharm": {
     "name": "#%%\n"
    }
   }
  }
 ],
 "metadata": {
  "kernelspec": {
   "display_name": "Python 3",
   "language": "python",
   "name": "python3"
  },
  "language_info": {
   "codemirror_mode": {
    "name": "ipython",
    "version": 2
   },
   "file_extension": ".py",
   "mimetype": "text/x-python",
   "name": "python",
   "nbconvert_exporter": "python",
   "pygments_lexer": "ipython2",
   "version": "2.7.6"
  }
 },
 "nbformat": 4,
 "nbformat_minor": 0
}