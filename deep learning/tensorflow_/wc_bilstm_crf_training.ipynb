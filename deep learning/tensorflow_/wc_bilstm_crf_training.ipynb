{
 "cells": [
  {
   "cell_type": "code",
   "execution_count": 1,
   "metadata": {
    "collapsed": true
   },
   "outputs": [],
   "source": [
    "import numpy as np\n",
    "from deep_learning_models import *\n",
    "from helper.dataset_reader import read_tsv\n",
    "from helper.utils import *\n",
    "import tensorflow as tf"
   ]
  },
  {
   "cell_type": "code",
   "execution_count": 2,
   "outputs": [
    {
     "name": "stdout",
     "output_type": "stream",
     "text": [
      "Tensorflow version: 2.8.0\n",
      "GPU detected: []\n"
     ]
    }
   ],
   "source": [
    "print('Tensorflow version:', tf.__version__)\n",
    "print('GPU detected:', tf.config.list_physical_devices('GPU'))"
   ],
   "metadata": {
    "collapsed": false,
    "pycharm": {
     "name": "#%%\n"
    }
   }
  },
  {
   "cell_type": "code",
   "execution_count": 3,
   "outputs": [],
   "source": [
    "merged_data = read_tsv('../../dataset/comlid-data-140422-v1.tsv')\n",
    "\n",
    "train_data = read_tsv('../../dataset/train.tsv')\n",
    "val_data = read_tsv('../../dataset/val.tsv')\n",
    "test_data = read_tsv('../../dataset/test.tsv')"
   ],
   "metadata": {
    "collapsed": false,
    "pycharm": {
     "name": "#%%\n"
    }
   }
  },
  {
   "cell_type": "code",
   "execution_count": 4,
   "outputs": [],
   "source": [
    "X_word_tr, X_char_tr, y_tr = wc_input_crf_converter(merged_data, train_data)\n",
    "X_word_val, X_char_val, y_val = wc_input_crf_converter(merged_data, val_data)\n",
    "X_word_ts, X_char_ts, y_ts = wc_input_crf_converter(merged_data, test_data)"
   ],
   "metadata": {
    "collapsed": false,
    "pycharm": {
     "name": "#%%\n"
    }
   }
  },
  {
   "cell_type": "code",
   "execution_count": 5,
   "outputs": [],
   "source": [
    "df = list_to_dataframe(merged_data)"
   ],
   "metadata": {
    "collapsed": false,
    "pycharm": {
     "name": "#%%\n"
    }
   }
  },
  {
   "cell_type": "code",
   "execution_count": 6,
   "outputs": [],
   "source": [
    "words = get_unique_words(df)\n",
    "tags = get_unique_tags(df)\n",
    "chars = set([w_i for w in words for w_i in w])"
   ],
   "metadata": {
    "collapsed": false,
    "pycharm": {
     "name": "#%%\n"
    }
   }
  },
  {
   "cell_type": "code",
   "execution_count": 7,
   "outputs": [],
   "source": [
    "num_words = len(words)\n",
    "num_tags = len(tags)\n",
    "num_char = len(chars)\n",
    "max_len = 100\n",
    "max_len_char = 10"
   ],
   "metadata": {
    "collapsed": false,
    "pycharm": {
     "name": "#%%\n"
    }
   }
  },
  {
   "cell_type": "code",
   "execution_count": 8,
   "outputs": [
    {
     "name": "stdout",
     "output_type": "stream",
     "text": [
      "Model: \"crf_model\"\n",
      "__________________________________________________________________________________________________\n",
      " Layer (type)                   Output Shape         Param #     Connected to                     \n",
      "==================================================================================================\n",
      " input_2 (InputLayer)           [(None, 100, 10)]    0           []                               \n",
      "                                                                                                  \n",
      " input_1 (InputLayer)           [(None, 100)]        0           []                               \n",
      "                                                                                                  \n",
      " time_distributed (TimeDistribu  (None, 100, 10, 10)  5560       ['input_2[0][0]']                \n",
      " ted)                                                                                             \n",
      "                                                                                                  \n",
      " embedding (Embedding)          (None, 100, 50)      1344550     ['input_1[0][0]']                \n",
      "                                                                                                  \n",
      " time_distributed_1 (TimeDistri  (None, 100, 20)     2480        ['time_distributed[0][0]']       \n",
      " buted)                                                                                           \n",
      "                                                                                                  \n",
      " concatenate (Concatenate)      (None, 100, 70)      0           ['embedding[0][0]',              \n",
      "                                                                  'time_distributed_1[0][0]']     \n",
      "                                                                                                  \n",
      " spatial_dropout1d (SpatialDrop  (None, 100, 70)     0           ['concatenate[0][0]']            \n",
      " out1D)                                                                                           \n",
      "                                                                                                  \n",
      " bidirectional (Bidirectional)  (None, 100, 200)     136800      ['spatial_dropout1d[0][0]']      \n",
      "                                                                                                  \n",
      " time_distributed_2 (TimeDistri  (None, 100, 7)      1407        ['bidirectional[0][0]']          \n",
      " buted)                                                                                           \n",
      "                                                                                                  \n",
      " crf (CRF)                      [(None, 100),        119         ['time_distributed_2[0][0]']     \n",
      "                                 (None, 100, 7),                                                  \n",
      "                                 (None,),                                                         \n",
      "                                 (7, 7)]                                                          \n",
      "                                                                                                  \n",
      " decode_sequence (Lambda)       (None, 100)          0           ['crf[0][0]']                    \n",
      "                                                                                                  \n",
      " potentials (Lambda)            (None, 100, 7)       0           ['crf[0][1]']                    \n",
      "                                                                                                  \n",
      " sequence_length (Lambda)       (None,)              0           ['crf[0][2]']                    \n",
      "                                                                                                  \n",
      " kernel (Lambda)                (7, 7)               0           ['crf[0][3]']                    \n",
      "                                                                                                  \n",
      "==================================================================================================\n",
      "Total params: 1,490,916\n",
      "Trainable params: 1,490,916\n",
      "Non-trainable params: 0\n",
      "__________________________________________________________________________________________________\n"
     ]
    }
   ],
   "source": [
    "model = wc_blstm_crf_model(num_words, num_tags, num_char, max_len, max_len_char)"
   ],
   "metadata": {
    "collapsed": false,
    "pycharm": {
     "name": "#%%\n"
    }
   }
  },
  {
   "cell_type": "code",
   "execution_count": 9,
   "outputs": [],
   "source": [
    "from tensorflow.keras.callbacks import EarlyStopping\n",
    "\n",
    "early_stopping = EarlyStopping(monitor='val_loss', min_delta=0, patience=5, verbose=0, mode='max',\n",
    "                                   baseline=None, restore_best_weights=False)\n",
    "callbacks = [early_stopping]"
   ],
   "metadata": {
    "collapsed": false,
    "pycharm": {
     "name": "#%%\n"
    }
   }
  },
  {
   "cell_type": "code",
   "execution_count": 10,
   "outputs": [
    {
     "name": "stdout",
     "output_type": "stream",
     "text": [
      "Epoch 1/3\n",
      "77/91 [========================>.....] - ETA: 27s - decode_sequence_accuracy: 0.8790 - loss: 29.7297"
     ]
    },
    {
     "ename": "NotImplementedError",
     "evalue": "Exception encountered when calling layer \"crf\" (type CRF).\n\nCurrently, CRF layer do not support left padding\n\nCall arguments received:\n  • inputs=tf.Tensor(shape=(32, 100, 7), dtype=float32)\n  • mask=tf.Tensor(shape=(32, 100), dtype=bool)",
     "output_type": "error",
     "traceback": [
      "\u001B[0;31m---------------------------------------------------------------------------\u001B[0m",
      "\u001B[0;31mNotImplementedError\u001B[0m                       Traceback (most recent call last)",
      "\u001B[0;32m<ipython-input-10-496c09586374>\u001B[0m in \u001B[0;36m<module>\u001B[0;34m\u001B[0m\n\u001B[1;32m      2\u001B[0m \u001B[0mbatch_sz\u001B[0m \u001B[0;34m=\u001B[0m \u001B[0;36m32\u001B[0m\u001B[0;34m\u001B[0m\u001B[0;34m\u001B[0m\u001B[0m\n\u001B[1;32m      3\u001B[0m \u001B[0;34m\u001B[0m\u001B[0m\n\u001B[0;32m----> 4\u001B[0;31m history = model.fit(\n\u001B[0m\u001B[1;32m      5\u001B[0m     \u001B[0mx\u001B[0m\u001B[0;34m=\u001B[0m\u001B[0;34m[\u001B[0m\u001B[0mX_word_tr\u001B[0m\u001B[0;34m,\u001B[0m \u001B[0mnp\u001B[0m\u001B[0;34m.\u001B[0m\u001B[0marray\u001B[0m\u001B[0;34m(\u001B[0m\u001B[0mX_char_tr\u001B[0m\u001B[0;34m)\u001B[0m\u001B[0;34m.\u001B[0m\u001B[0mreshape\u001B[0m\u001B[0;34m(\u001B[0m\u001B[0;34m(\u001B[0m\u001B[0mlen\u001B[0m\u001B[0;34m(\u001B[0m\u001B[0mX_char_tr\u001B[0m\u001B[0;34m)\u001B[0m\u001B[0;34m,\u001B[0m \u001B[0mmax_len\u001B[0m\u001B[0;34m,\u001B[0m \u001B[0mmax_len_char\u001B[0m\u001B[0;34m)\u001B[0m\u001B[0;34m)\u001B[0m\u001B[0;34m]\u001B[0m\u001B[0;34m,\u001B[0m\u001B[0;34m\u001B[0m\u001B[0;34m\u001B[0m\u001B[0m\n\u001B[1;32m      6\u001B[0m     \u001B[0my\u001B[0m\u001B[0;34m=\u001B[0m\u001B[0mnp\u001B[0m\u001B[0;34m.\u001B[0m\u001B[0marray\u001B[0m\u001B[0;34m(\u001B[0m\u001B[0my_tr\u001B[0m\u001B[0;34m)\u001B[0m\u001B[0;34m.\u001B[0m\u001B[0mreshape\u001B[0m\u001B[0;34m(\u001B[0m\u001B[0mlen\u001B[0m\u001B[0;34m(\u001B[0m\u001B[0my_tr\u001B[0m\u001B[0;34m)\u001B[0m\u001B[0;34m,\u001B[0m \u001B[0mmax_len\u001B[0m\u001B[0;34m)\u001B[0m\u001B[0;34m,\u001B[0m\u001B[0;34m\u001B[0m\u001B[0;34m\u001B[0m\u001B[0m\n",
      "\u001B[0;32m~/opt/anaconda3/lib/python3.8/site-packages/keras/utils/traceback_utils.py\u001B[0m in \u001B[0;36merror_handler\u001B[0;34m(*args, **kwargs)\u001B[0m\n\u001B[1;32m     65\u001B[0m     \u001B[0;32mexcept\u001B[0m \u001B[0mException\u001B[0m \u001B[0;32mas\u001B[0m \u001B[0me\u001B[0m\u001B[0;34m:\u001B[0m  \u001B[0;31m# pylint: disable=broad-except\u001B[0m\u001B[0;34m\u001B[0m\u001B[0;34m\u001B[0m\u001B[0m\n\u001B[1;32m     66\u001B[0m       \u001B[0mfiltered_tb\u001B[0m \u001B[0;34m=\u001B[0m \u001B[0m_process_traceback_frames\u001B[0m\u001B[0;34m(\u001B[0m\u001B[0me\u001B[0m\u001B[0;34m.\u001B[0m\u001B[0m__traceback__\u001B[0m\u001B[0;34m)\u001B[0m\u001B[0;34m\u001B[0m\u001B[0;34m\u001B[0m\u001B[0m\n\u001B[0;32m---> 67\u001B[0;31m       \u001B[0;32mraise\u001B[0m \u001B[0me\u001B[0m\u001B[0;34m.\u001B[0m\u001B[0mwith_traceback\u001B[0m\u001B[0;34m(\u001B[0m\u001B[0mfiltered_tb\u001B[0m\u001B[0;34m)\u001B[0m \u001B[0;32mfrom\u001B[0m \u001B[0;32mNone\u001B[0m\u001B[0;34m\u001B[0m\u001B[0;34m\u001B[0m\u001B[0m\n\u001B[0m\u001B[1;32m     68\u001B[0m     \u001B[0;32mfinally\u001B[0m\u001B[0;34m:\u001B[0m\u001B[0;34m\u001B[0m\u001B[0;34m\u001B[0m\u001B[0m\n\u001B[1;32m     69\u001B[0m       \u001B[0;32mdel\u001B[0m \u001B[0mfiltered_tb\u001B[0m\u001B[0;34m\u001B[0m\u001B[0;34m\u001B[0m\u001B[0m\n",
      "\u001B[0;32m~/opt/anaconda3/lib/python3.8/site-packages/tensorflow_addons/layers/crf.py\u001B[0m in \u001B[0;36mcall\u001B[0;34m(self, inputs, mask)\u001B[0m\n\u001B[1;32m    129\u001B[0m                 \u001B[0mleft_padding\u001B[0m \u001B[0;34m=\u001B[0m \u001B[0;32mnot\u001B[0m \u001B[0mno_left_padding\u001B[0m\u001B[0;34m\u001B[0m\u001B[0;34m\u001B[0m\u001B[0m\n\u001B[1;32m    130\u001B[0m                 \u001B[0;32mif\u001B[0m \u001B[0mleft_padding\u001B[0m\u001B[0;34m:\u001B[0m\u001B[0;34m\u001B[0m\u001B[0;34m\u001B[0m\u001B[0m\n\u001B[0;32m--> 131\u001B[0;31m                     raise NotImplementedError(\n\u001B[0m\u001B[1;32m    132\u001B[0m                         \u001B[0;34m\"Currently, CRF layer do not support left padding\"\u001B[0m\u001B[0;34m\u001B[0m\u001B[0;34m\u001B[0m\u001B[0m\n\u001B[1;32m    133\u001B[0m                     )\n",
      "\u001B[0;31mNotImplementedError\u001B[0m: Exception encountered when calling layer \"crf\" (type CRF).\n\nCurrently, CRF layer do not support left padding\n\nCall arguments received:\n  • inputs=tf.Tensor(shape=(32, 100, 7), dtype=float32)\n  • mask=tf.Tensor(shape=(32, 100), dtype=bool)"
     ]
    }
   ],
   "source": [
    "num_epoch = 3\n",
    "batch_sz = 32\n",
    "\n",
    "history = model.fit(\n",
    "    x=[X_word_tr, np.array(X_char_tr).reshape((len(X_char_tr), max_len, max_len_char))],\n",
    "    y=np.array(y_tr).reshape(len(y_tr), max_len),\n",
    "    validation_data=(\n",
    "        [X_word_val, np.array(X_char_val).reshape((len(X_char_val), max_len, max_len_char))],\n",
    "        np.array(y_val).reshape(len(y_val), max_len)\n",
    "    ),\n",
    "    batch_size=batch_sz,\n",
    "    epochs=num_epoch,\n",
    "    callbacks=callbacks,\n",
    "    verbose=1\n",
    ")"
   ],
   "metadata": {
    "collapsed": false,
    "pycharm": {
     "name": "#%%\n"
    }
   }
  },
  {
   "cell_type": "code",
   "execution_count": null,
   "outputs": [],
   "source": [
    "print(model.evaluate([X_word_ts, np.array(X_char_ts).reshape((len(X_char_ts), max_len, max_len_char))], np.array(y_ts).reshape(len(y_ts), max_len, 1)))\n",
    "model.save('model/wc_blstm_crf.h5')"
   ],
   "metadata": {
    "collapsed": false,
    "pycharm": {
     "name": "#%%\n"
    }
   }
  },
  {
   "cell_type": "code",
   "execution_count": 18,
   "outputs": [
    {
     "name": "stdout",
     "output_type": "stream",
     "text": [
      "Word                          True      \t Pred\n",
      "\n",
      "------------------------------------------------------------\n",
      "oyi                           JV        \tJV\n",
      "rek                           JV        \tJV\n",
      "penjual                       ID        \tID\n",
      "ayam                          ID        \tID\n",
      "potong                        ID        \tID\n",
      "di                            ID        \tID\n",
      "pasar                         ID        \tID\n",
      "itu                           ID        \tID\n",
      "mau                           ID        \tID\n",
      "apa                           ID        \tID\n",
      "engga                         ID        \tID\n",
      "ya                            ID        \tID\n",
      "kalo                          ID        \tID\n",
      "misal                         ID        \tID\n",
      "kita                          ID        \tID\n",
      "beline                        MIX-ID-JV \tMIX-ID-JV\n",
      "fillet                        EN        \tEN\n",
      "?                             O         \tO\n",
      "spill                         EN        \tEN\n",
      "dipasar                       ID        \tEN\n",
      "mana                          ID        \tID\n",
      "dong                          ID        \tID\n",
      "🙏                             O         \tO\n",
      "🏻                             O         \tO\n"
     ]
    }
   ],
   "source": [
    "predict_val = [X_word_ts, np.array(X_char_ts).reshape((len(X_char_ts), max_len, max_len_char))]\n",
    "\n",
    "i = np.random.randint(0, X_word_ts.shape[0])\n",
    "decode_seq, potentials, seq_length, kernel = model.predict(predict_val)\n",
    "\n",
    "p = np.argmax(potentials[i], axis=-1)\n",
    "y_true = y_ts[i]\n",
    "print(\"{:30}{:10}\\t {}\\n\".format(\"Word\", \"True\", \"Pred\"))\n",
    "print(\"-\" *60)\n",
    "\n",
    "for w, true, pred in zip(X_word_ts[i], y_true, p):\n",
    "    if w != 0:\n",
    "        print(\"{:30}{:10}\\t{}\".format(idx_word_ts[w], idx_tag_ts[true], idx_tag_ts[pred]))"
   ],
   "metadata": {
    "collapsed": false,
    "pycharm": {
     "name": "#%%\n"
    }
   }
  },
  {
   "cell_type": "code",
   "execution_count": 19,
   "outputs": [],
   "source": [
    "all_w_pair = []\n",
    "all_true_pair = []\n",
    "all_pred_pair = []\n",
    "\n",
    "for i in range(len(X_word_ts)):\n",
    "    decode_seq, potentials, seq_length, kernel = model.predict([X_word_ts,\n",
    "                        np.array(X_char_ts).reshape((len(X_char_ts),\n",
    "                                                     max_len, max_len_char))])\n",
    "    p = np.argmax(potentials[i], axis=-1)\n",
    "    y_true = y_ts[i]\n",
    "    w_pair = []\n",
    "    true_pair = []\n",
    "    pred_pair = []\n",
    "    for w, true, pred in zip(X_word_ts[i], y_true, p):\n",
    "        if w != 0:\n",
    "            # print(\"{:30}{:10}\\t{}\".format(idx_word[w], idx_tag[true], idx_tag[pred]))\n",
    "            w_pair.append(idx_word_ts[w])\n",
    "            true_pair.append(idx_tag_ts[true])\n",
    "            pred_pair.append(idx_tag_ts[pred])\n",
    "    all_w_pair.append(w_pair)\n",
    "    all_true_pair.append(true_pair)\n",
    "    all_pred_pair.append(pred_pair)"
   ],
   "metadata": {
    "collapsed": false,
    "pycharm": {
     "name": "#%%\n"
    }
   }
  },
  {
   "cell_type": "code",
   "execution_count": 20,
   "outputs": [],
   "source": [
    "true_flat = [item for sublist in all_true_pair for item in sublist]\n",
    "pred_flat = [item for sublist in all_pred_pair for item in sublist]"
   ],
   "metadata": {
    "collapsed": false,
    "pycharm": {
     "name": "#%%\n"
    }
   }
  },
  {
   "cell_type": "code",
   "execution_count": 21,
   "outputs": [
    {
     "name": "stdout",
     "output_type": "stream",
     "text": [
      "              precision    recall  f1-score   support\n",
      "\n",
      "          ID       0.93      0.96      0.94     22311\n",
      "          JV       0.83      0.90      0.86      4914\n",
      "          EN       0.90      0.87      0.88      5017\n",
      "   MIX-ID-EN       0.97      0.83      0.90       973\n",
      "   MIX-ID-JV       0.90      0.84      0.87       280\n",
      "   MIX-JV-EN       0.96      0.84      0.90       277\n",
      "           O       0.97      0.89      0.93     10152\n",
      "\n",
      "    accuracy                           0.92     43924\n",
      "   macro avg       0.92      0.88      0.90     43924\n",
      "weighted avg       0.92      0.92      0.92     43924\n",
      "\n"
     ]
    },
    {
     "data": {
      "text/plain": "<Figure size 720x576 with 2 Axes>",
      "image/png": "[encoded data removed]"
     },
     "metadata": {
      "needs_background": "light"
     },
     "output_type": "display_data"
    }
   ],
   "source": [
    "performance_report(true_flat, pred_flat)"
   ],
   "metadata": {
    "collapsed": false,
    "pycharm": {
     "name": "#%%\n"
    }
   }
  }
 ],
 "metadata": {
  "kernelspec": {
   "display_name": "Python 3",
   "language": "python",
   "name": "python3"
  },
  "language_info": {
   "codemirror_mode": {
    "name": "ipython",
    "version": 2
   },
   "file_extension": ".py",
   "mimetype": "text/x-python",
   "name": "python",
   "nbconvert_exporter": "python",
   "pygments_lexer": "ipython2",
   "version": "2.7.6"
  }
 },
 "nbformat": 4,
 "nbformat_minor": 0
}