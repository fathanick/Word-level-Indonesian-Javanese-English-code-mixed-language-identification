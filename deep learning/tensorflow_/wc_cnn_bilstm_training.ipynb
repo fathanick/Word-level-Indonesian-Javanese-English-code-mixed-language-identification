{
 "cells": [
  {
   "cell_type": "code",
   "execution_count": 1,
   "metadata": {
    "collapsed": true
   },
   "outputs": [],
   "source": [
    "import numpy as np\n",
    "from deep_learning_models import *\n",
    "from helper.dataset_reader import read_tsv\n",
    "from helper.utils import *\n",
    "import pandas as pd"
   ]
  },
  {
   "cell_type": "code",
   "execution_count": 2,
   "outputs": [
    {
     "name": "stdout",
     "output_type": "stream",
     "text": [
      "Tensorflow version: 2.8.0\n",
      "GPU detected: []\n"
     ]
    }
   ],
   "source": [
    "print('Tensorflow version:', tf.__version__)\n",
    "print('GPU detected:', tf.config.list_physical_devices('GPU'))"
   ],
   "metadata": {
    "collapsed": false,
    "pycharm": {
     "name": "#%%\n"
    }
   }
  },
  {
   "cell_type": "code",
   "execution_count": 3,
   "outputs": [],
   "source": [
    "merged_data = read_tsv('../../dataset/comlid-data-140422-v1.tsv')\n",
    "\n",
    "train_data = read_tsv('../../dataset/train.tsv')\n",
    "val_data = read_tsv('../../dataset/val.tsv')\n",
    "test_data = read_tsv('../../dataset/test.tsv')"
   ],
   "metadata": {
    "collapsed": false,
    "pycharm": {
     "name": "#%%\n"
    }
   }
  },
  {
   "cell_type": "code",
   "execution_count": 4,
   "outputs": [],
   "source": [
    "X_word_tr, X_char_tr, y_tr, idx_word_tr, idx_tag_tr = wc_input_converter(merged_data, train_data)\n",
    "X_word_val, X_char_val, y_val, idx_word_val, idx_tag_val = wc_input_converter(merged_data, val_data)\n",
    "X_word_ts, X_char_ts, y_ts, idx_word_ts, idx_tag_ts = wc_input_converter(merged_data, test_data)"
   ],
   "metadata": {
    "collapsed": false,
    "pycharm": {
     "name": "#%%\n"
    }
   }
  },
  {
   "cell_type": "code",
   "execution_count": 5,
   "outputs": [],
   "source": [
    "df = list_to_dataframe(merged_data)"
   ],
   "metadata": {
    "collapsed": false,
    "pycharm": {
     "name": "#%%\n"
    }
   }
  },
  {
   "cell_type": "code",
   "execution_count": 6,
   "outputs": [],
   "source": [
    "words = get_unique_words(df)\n",
    "tags = get_unique_tags(df)\n",
    "chars = set([w_i for w in words for w_i in w])"
   ],
   "metadata": {
    "collapsed": false,
    "pycharm": {
     "name": "#%%\n"
    }
   }
  },
  {
   "cell_type": "code",
   "execution_count": 7,
   "outputs": [],
   "source": [
    "num_words = len(words)\n",
    "num_tags = len(tags)\n",
    "num_char = len(chars)\n",
    "max_len = 100\n",
    "max_len_char = 10"
   ],
   "metadata": {
    "collapsed": false,
    "pycharm": {
     "name": "#%%\n"
    }
   }
  },
  {
   "cell_type": "code",
   "execution_count": 9,
   "outputs": [
    {
     "name": "stdout",
     "output_type": "stream",
     "text": [
      "Model: \"model\"\n",
      "__________________________________________________________________________________________________\n",
      " Layer (type)                   Output Shape         Param #     Connected to                     \n",
      "==================================================================================================\n",
      " input_4 (InputLayer)           [(None, 100, 10)]    0           []                               \n",
      "                                                                                                  \n",
      " time_distributed_3 (TimeDistri  (None, 100, 10, 10)  5570       ['input_4[0][0]']                \n",
      " buted)                                                                                           \n",
      "                                                                                                  \n",
      " dropout_1 (Dropout)            (None, 100, 10, 10)  0           ['time_distributed_3[0][0]']     \n",
      "                                                                                                  \n",
      " time_distributed_4 (TimeDistri  (None, 100, 10, 10)  310        ['dropout_1[0][0]']              \n",
      " buted)                                                                                           \n",
      "                                                                                                  \n",
      " time_distributed_5 (TimeDistri  (None, 100, 1, 10)  0           ['time_distributed_4[0][0]']     \n",
      " buted)                                                                                           \n",
      "                                                                                                  \n",
      " input_3 (InputLayer)           [(None, 100)]        0           []                               \n",
      "                                                                                                  \n",
      " time_distributed_6 (TimeDistri  (None, 100, 10)     0           ['time_distributed_5[0][0]']     \n",
      " buted)                                                                                           \n",
      "                                                                                                  \n",
      " embedding_2 (Embedding)        (None, 100, 50)      1344600     ['input_3[0][0]']                \n",
      "                                                                                                  \n",
      " dropout_2 (Dropout)            (None, 100, 10)      0           ['time_distributed_6[0][0]']     \n",
      "                                                                                                  \n",
      " concatenate (Concatenate)      (None, 100, 60)      0           ['embedding_2[0][0]',            \n",
      "                                                                  'dropout_2[0][0]']              \n",
      "                                                                                                  \n",
      " spatial_dropout1d (SpatialDrop  (None, 100, 60)     0           ['concatenate[0][0]']            \n",
      " out1D)                                                                                           \n",
      "                                                                                                  \n",
      " bidirectional (Bidirectional)  (None, 100, 200)     128800      ['spatial_dropout1d[0][0]']      \n",
      "                                                                                                  \n",
      " time_distributed_7 (TimeDistri  (None, 100, 8)      1608        ['bidirectional[0][0]']          \n",
      " buted)                                                                                           \n",
      "                                                                                                  \n",
      "==================================================================================================\n",
      "Total params: 1,480,888\n",
      "Trainable params: 1,480,888\n",
      "Non-trainable params: 0\n",
      "__________________________________________________________________________________________________\n"
     ]
    }
   ],
   "source": [
    "from tensorflow import keras\n",
    "from tensorflow.keras.models import Model, Sequential\n",
    "from tensorflow.keras.layers import Input, LSTM, Embedding, Dense, Flatten\n",
    "from tensorflow.keras.layers import TimeDistributed, SpatialDropout1D, Bidirectional, Conv1D, MaxPooling1D, Dropout\n",
    "from tensorflow.keras.layers import concatenate\n",
    "from tensorflow.keras.initializers import RandomUniform\n",
    "\n",
    "def wc_cnn_blstm_model(num_words, num_tags, num_char, max_len, max_len_char):\n",
    "    # word embedding as input\n",
    "    word_input = Input(shape=(max_len, ))\n",
    "    word_embd = Embedding(input_dim=num_words + 2, output_dim=50, input_length=max_len)(word_input)\n",
    "\n",
    "    # character embedding as input\n",
    "    char_input = Input(shape=(max_len, max_len_char, ))\n",
    "    char_embd = TimeDistributed(Embedding(input_dim=num_char + 2, output_dim = 10,\n",
    "                                          input_length=max_len_char,\n",
    "                                          embeddings_initializer=RandomUniform(minval=-0.5, maxval=0.5)))(char_input)\n",
    "\n",
    "    dropout= Dropout(0.5)(char_embd)\n",
    "    conv1d_out= TimeDistributed(Conv1D(kernel_size=3, filters=max_len_char, padding='same',activation='tanh', strides=1))(dropout)\n",
    "    maxpool_out=TimeDistributed(MaxPooling1D(max_len_char))(conv1d_out)\n",
    "    flat_layer = TimeDistributed(Flatten())(maxpool_out)\n",
    "    char_encd = Dropout(0.5)(flat_layer)\n",
    "    # character LSTM to obtain word encodings by characters\n",
    "    #char_encd = TimeDistributed(LSTM(units=20, return_sequences=False, recurrent_dropout=0.5))(char_embd)\n",
    "\n",
    "    # main BLSTM stack\n",
    "    concate = concatenate([word_embd, char_encd])\n",
    "    spa_dropout_layer = SpatialDropout1D(0.3)(concate)\n",
    "    blstm_layer = Bidirectional(LSTM(units=100, return_sequences=True, recurrent_dropout=0.3))(spa_dropout_layer)\n",
    "    out = TimeDistributed(Dense(num_tags + 1, activation='softmax'))(blstm_layer)\n",
    "    model = Model([word_input, char_input], out)\n",
    "\n",
    "    opt = keras.optimizers.Adam(learning_rate=0.01)\n",
    "    model.compile(optimizer=opt, loss=\"sparse_categorical_crossentropy\", metrics=[\"accuracy\"])\n",
    "    model.summary()\n",
    "\n",
    "    return model\n",
    "\n",
    "model = wc_cnn_blstm_model(num_words, num_tags, num_char, max_len, max_len_char)"
   ],
   "metadata": {
    "collapsed": false,
    "pycharm": {
     "name": "#%%\n"
    }
   }
  },
  {
   "cell_type": "code",
   "execution_count": 10,
   "outputs": [
    {
     "data": {
      "text/plain": "<Figure size 864x576 with 2 Axes>",
      "image/png": "[encoded data removed]"
     },
     "metadata": {},
     "output_type": "display_data"
    },
    {
     "name": "stdout",
     "output_type": "stream",
     "text": [
      "accuracy\n",
      "\ttraining         \t (min:    0.905, max:    0.997, cur:    0.997)\n",
      "\tvalidation       \t (min:    0.967, max:    0.975, cur:    0.974)\n",
      "Loss\n",
      "\ttraining         \t (min:    0.010, max:    0.269, cur:    0.010)\n",
      "\tvalidation       \t (min:    0.073, max:    0.094, cur:    0.086)\n",
      "\n",
      "Epoch 5: val_loss did not improve from 0.07291\n",
      "91/91 [==============================] - 12s 136ms/step - loss: 0.0096 - accuracy: 0.9969 - val_loss: 0.0862 - val_accuracy: 0.9743\n",
      "56/56 [==============================] - 1s 24ms/step - loss: 0.0835 - accuracy: 0.9751\n",
      "[0.08346357941627502, 0.9751319289207458]\n"
     ]
    }
   ],
   "source": [
    "root_path = 'model/'\n",
    "model_name = 'wc_cnn_blstm_model.h5'\n",
    "num_epoch = 5\n",
    "batch_sz = 32\n",
    "callbacks = get_callbacks(root_path, model_name)\n",
    "\n",
    "history = model.fit(x=[X_word_tr,\n",
    "                     np.array(X_char_tr).reshape((len(X_char_tr), max_len, max_len_char))],\n",
    "                    y=np.array(y_tr).reshape(len(y_tr), max_len, 1),\n",
    "                    #validation_data=(X_word_val, y_val),\n",
    "                    validation_data=(\n",
    "                      [X_word_val, np.array(X_char_val).reshape((len(X_char_val),\n",
    "                                                                max_len, max_len_char))],\n",
    "                        np.array(y_val).reshape(len(y_val), max_len, 1)\n",
    "                    ),\n",
    "                    batch_size=batch_sz,\n",
    "                    epochs=num_epoch,\n",
    "                    callbacks=callbacks,\n",
    "                    verbose=1\n",
    "                    )\n",
    "\n",
    "print(model.evaluate([X_word_ts, np.array(X_char_ts).reshape((len(X_char_ts), max_len, max_len_char))], np.array(y_ts).reshape(len(y_ts), max_len, 1)))"
   ],
   "metadata": {
    "collapsed": false,
    "pycharm": {
     "name": "#%%\n"
    }
   }
  },
  {
   "cell_type": "code",
   "execution_count": 11,
   "outputs": [],
   "source": [
    "from keras.models import load_model\n",
    "\n",
    "mdl = load_model('model/wc_cnn_blstm_model.h5')"
   ],
   "metadata": {
    "collapsed": false,
    "pycharm": {
     "name": "#%%\n"
    }
   }
  },
  {
   "cell_type": "code",
   "execution_count": 12,
   "outputs": [
    {
     "name": "stdout",
     "output_type": "stream",
     "text": [
      "Word                          True      \t Pred\n",
      "\n",
      "------------------------------------------------------------\n",
      "oyi                           JV        \tJV\n",
      "rek                           JV        \tJV\n",
      "penjual                       ID        \tID\n",
      "ayam                          ID        \tID\n",
      "potong                        ID        \tID\n",
      "di                            ID        \tID\n",
      "pasar                         ID        \tID\n",
      "itu                           ID        \tID\n",
      "mau                           ID        \tID\n",
      "apa                           ID        \tID\n",
      "engga                         ID        \tID\n",
      "ya                            ID        \tID\n",
      "kalo                          ID        \tID\n",
      "misal                         ID        \tID\n",
      "kita                          ID        \tID\n",
      "beline                        MIX-ID-JV \tMIX-ID-JV\n",
      "fillet                        EN        \tO\n",
      "?                             O         \tO\n",
      "spill                         EN        \tEN\n",
      "dipasar                       ID        \tID\n",
      "mana                          ID        \tID\n",
      "dong                          ID        \tID\n",
      "🙏                             O         \tO\n",
      "🏻                             O         \tO\n"
     ]
    }
   ],
   "source": [
    "predict_val = [X_word_ts, np.array(X_char_ts).reshape((len(X_char_ts), max_len, max_len_char))]\n",
    "\n",
    "i = np.random.randint(0, X_word_ts.shape[0])\n",
    "p = mdl.predict(predict_val)\n",
    "\n",
    "p = np.argmax(p[i], axis=-1)\n",
    "y_true = y_ts[i]\n",
    "print(\"{:30}{:10}\\t {}\\n\".format(\"Word\", \"True\", \"Pred\"))\n",
    "print(\"-\" *60)\n",
    "\n",
    "for w, true, pred in zip(X_word_ts[i], y_true, p):\n",
    "    if w != 0:\n",
    "        print(\"{:30}{:10}\\t{}\".format(idx_word_ts[w], idx_tag_ts[true], idx_tag_ts[pred]))"
   ],
   "metadata": {
    "collapsed": false,
    "pycharm": {
     "name": "#%%\n"
    }
   }
  },
  {
   "cell_type": "code",
   "execution_count": null,
   "outputs": [],
   "source": [
    "all_w_pair = []\n",
    "all_true_pair = []\n",
    "all_pred_pair = []\n",
    "\n",
    "for i in range(len(X_word_ts)):\n",
    "    p = model.predict([X_word_ts,\n",
    "                        np.array(X_char_ts).reshape((len(X_char_ts),\n",
    "                                                     max_len, max_len_char))])\n",
    "    p = np.argmax(p[i], axis=-1)\n",
    "    y_true = y_ts[i]\n",
    "    w_pair = []\n",
    "    true_pair = []\n",
    "    pred_pair = []\n",
    "    for w, true, pred in zip(X_word_ts[i], y_true, p):\n",
    "        if w != 0:\n",
    "            # print(\"{:30}{:10}\\t{}\".format(idx_word[w], idx_tag[true], idx_tag[pred]))\n",
    "            w_pair.append(idx_word_ts[w])\n",
    "            true_pair.append(idx_tag_ts[true])\n",
    "            pred_pair.append(idx_tag_ts[pred])\n",
    "    all_w_pair.append(w_pair)\n",
    "    all_true_pair.append(true_pair)\n",
    "    all_pred_pair.append(pred_pair)"
   ],
   "metadata": {
    "collapsed": false,
    "pycharm": {
     "name": "#%%\n",
     "is_executing": true
    }
   }
  },
  {
   "cell_type": "code",
   "execution_count": null,
   "outputs": [],
   "source": [
    "true_flat = [item for sublist in all_true_pair for item in sublist]\n",
    "pred_flat = [item for sublist in all_pred_pair for item in sublist]"
   ],
   "metadata": {
    "collapsed": false,
    "pycharm": {
     "name": "#%%\n",
     "is_executing": true
    }
   }
  },
  {
   "cell_type": "code",
   "execution_count": null,
   "outputs": [],
   "source": [
    "performance_report(true_flat, pred_flat)"
   ],
   "metadata": {
    "collapsed": false,
    "pycharm": {
     "name": "#%%\n",
     "is_executing": true
    }
   }
  },
  {
   "cell_type": "code",
   "execution_count": null,
   "outputs": [],
   "source": [
    "df_ = pd.DataFrame({\n",
    "    'word': all_w_pair,\n",
    "    'true': all_true_pair,\n",
    "    'pred': all_pred_pair\n",
    "})"
   ],
   "metadata": {
    "collapsed": false,
    "pycharm": {
     "name": "#%%\n"
    }
   }
  },
  {
   "cell_type": "code",
   "execution_count": null,
   "outputs": [],
   "source": [
    "token_true_pred = []\n",
    "for index, row in df_.iterrows():\n",
    "    pair = list(zip(row['word'], row['true'], row['pred']))\n",
    "    token_true_pred.append(pair)"
   ],
   "metadata": {
    "collapsed": false,
    "pycharm": {
     "name": "#%%\n"
    }
   }
  },
  {
   "cell_type": "code",
   "execution_count": null,
   "outputs": [],
   "source": [
    "true_pred_file = 'tagging_result/wc_cnn_blstm_compare_results.tsv'\n",
    "with open(true_pred_file, \"a\", encoding='utf-8') as f:\n",
    "    f.write(\"Word\" + \"\\t\" + \"True\" + \"\\t\" + \"Predict\" + \"\\n\")\n",
    "    for index, row in df_.iterrows():\n",
    "        for tkn, t_true, t_pred in (zip(row['word'], row['true'], row['pred'])):\n",
    "            f.write(tkn + '\\t' + t_true + '\\t' + t_pred + '\\n')\n",
    "        f.write('\\n')\n",
    "\n",
    "f.close()"
   ],
   "metadata": {
    "collapsed": false,
    "pycharm": {
     "name": "#%%\n"
    }
   }
  }
 ],
 "metadata": {
  "kernelspec": {
   "display_name": "Python 3",
   "language": "python",
   "name": "python3"
  },
  "language_info": {
   "codemirror_mode": {
    "name": "ipython",
    "version": 2
   },
   "file_extension": ".py",
   "mimetype": "text/x-python",
   "name": "python",
   "nbconvert_exporter": "python",
   "pygments_lexer": "ipython2",
   "version": "2.7.6"
  }
 },
 "nbformat": 4,
 "nbformat_minor": 0
}